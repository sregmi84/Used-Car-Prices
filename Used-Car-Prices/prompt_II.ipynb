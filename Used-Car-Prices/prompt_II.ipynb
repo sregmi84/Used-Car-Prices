{
 "cells": [
  {
   "cell_type": "markdown",
   "metadata": {},
   "source": [
    "# What drives the price of a car?\n",
    "\n",
    "![](images/kurt.jpeg)"
   ]
  },
  {
   "cell_type": "markdown",
   "metadata": {},
   "source": [
    "**OVERVIEW**\n",
    "\n",
    "In this application, you will explore a dataset from kaggle that contains information on 3 million used cars.  Your goal is to understand what factors make a car more or less expensive.  As a result of your analysis, you should provide clear recommendations to your client -- a used car dealership -- as to what consumers value in a used car."
   ]
  },
  {
   "cell_type": "markdown",
   "metadata": {},
   "source": [
    "### CRISP-DM Framework\n",
    "\n",
    "<center>\n",
    "    <img src = images/crisp.png width = 50%/>\n",
    "</center>\n",
    "\n",
    "\n",
    "To frame the task, throughout our practical applications we will refer back to a standard process in industry for data projects called CRISP-DM.  This process provides a framework for working through a data problem.  Your first step in this application will be to read through a brief overview of CRISP-DM [here](https://mo-pcco.s3.us-east-1.amazonaws.com/BH-PCMLAI/module_11/readings_starter.zip).  After reading the overview, answer the questions below."
   ]
  },
  {
   "cell_type": "markdown",
   "metadata": {},
   "source": [
    "### Business Understanding\n",
    "\n",
    "From a business perspective, we are tasked with identifying key drivers for used car prices.  In the CRISP-DM overview, we are asked to convert this business framing to a data problem definition.  Using a few sentences, reframe the task as a data task with the appropriate technical vocabulary. "
   ]
  },
  {
   "cell_type": "markdown",
   "metadata": {},
   "source": [
    "We are trying to understand the price of used cars."
   ]
  },
  {
   "cell_type": "markdown",
   "metadata": {},
   "source": [
    "Using historic used car data, we want to identify what factors are the best indicators of used car prices."
   ]
  },
  {
   "cell_type": "markdown",
   "metadata": {},
   "source": [
    "Using the best model we build using the model, we believe that any car dealership can offer competitive prices on used cars. "
   ]
  },
  {
   "cell_type": "markdown",
   "metadata": {},
   "source": [
    "Consumers also benefit because they can now purchase used cars at reasonable and fair prices."
   ]
  },
  {
   "cell_type": "markdown",
   "metadata": {},
   "source": [
    "### Data Understanding\n",
    "\n",
    "After considering the business understanding, we want to get familiar with our data.  Write down some steps that you would take to get to know the dataset and identify any quality issues within.  Take time to get to know the dataset and explore what information it contains and how this could be used to inform your business understanding."
   ]
  },
  {
   "cell_type": "code",
   "execution_count": null,
   "metadata": {},
   "outputs": [],
   "source": [
    "pip install category_encoders"
   ]
  },
  {
   "cell_type": "code",
   "execution_count": 421,
   "metadata": {},
   "outputs": [],
   "source": [
    "import pandas as pd\n",
    "import numpy as np\n",
    "import statistics\n",
    "from datetime import datetime\n",
    "\n",
    "from category_encoders import TargetEncoder\n",
    "\n",
    "import seaborn as sns\n",
    "import matplotlib.pyplot as plt"
   ]
  },
  {
   "cell_type": "code",
   "execution_count": 702,
   "metadata": {},
   "outputs": [],
   "source": [
    "from sklearn.model_selection import train_test_split\n",
    "from sklearn.pipeline import Pipeline\n",
    "from sklearn.compose import make_column_transformer\n",
    "from sklearn.model_selection import GridSearchCV\n",
    "from sklearn.linear_model import LinearRegression, Ridge, Lasso\n",
    "from sklearn.preprocessing import PolynomialFeatures, StandardScaler, OneHotEncoder, LabelEncoder, OrdinalEncoder\n",
    "from sklearn.inspection import permutation_importance\n",
    "from sklearn.feature_selection import SequentialFeatureSelector\n",
    "from sklearn.metrics import mean_squared_error, mean_absolute_error\n",
    "\n",
    "from sklearn.impute import SimpleImputer\n",
    "from sklearn.experimental import enable_iterative_imputer\n",
    "from sklearn.impute import IterativeImputer\n",
    "\n",
    "from sklearn import set_config\n",
    "set_config(display=\"diagram\")\n",
    "\n",
    "import warnings\n",
    "warnings.filterwarnings('ignore')"
   ]
  },
  {
   "cell_type": "code",
   "execution_count": 160,
   "metadata": {},
   "outputs": [],
   "source": [
    "vehicles = pd.read_csv('data/vehicles.csv')"
   ]
  },
  {
   "cell_type": "code",
   "execution_count": 45,
   "metadata": {},
   "outputs": [
    {
     "data": {
      "text/html": [
       "<div>\n",
       "<style scoped>\n",
       "    .dataframe tbody tr th:only-of-type {\n",
       "        vertical-align: middle;\n",
       "    }\n",
       "\n",
       "    .dataframe tbody tr th {\n",
       "        vertical-align: top;\n",
       "    }\n",
       "\n",
       "    .dataframe thead th {\n",
       "        text-align: right;\n",
       "    }\n",
       "</style>\n",
       "<table border=\"1\" class=\"dataframe\">\n",
       "  <thead>\n",
       "    <tr style=\"text-align: right;\">\n",
       "      <th></th>\n",
       "      <th>id</th>\n",
       "      <th>region</th>\n",
       "      <th>price</th>\n",
       "      <th>year</th>\n",
       "      <th>manufacturer</th>\n",
       "      <th>model</th>\n",
       "      <th>condition</th>\n",
       "      <th>cylinders</th>\n",
       "      <th>fuel</th>\n",
       "      <th>odometer</th>\n",
       "      <th>title_status</th>\n",
       "      <th>transmission</th>\n",
       "      <th>VIN</th>\n",
       "      <th>drive</th>\n",
       "      <th>size</th>\n",
       "      <th>type</th>\n",
       "      <th>paint_color</th>\n",
       "      <th>state</th>\n",
       "    </tr>\n",
       "  </thead>\n",
       "  <tbody>\n",
       "    <tr>\n",
       "      <th>0</th>\n",
       "      <td>7222695916</td>\n",
       "      <td>prescott</td>\n",
       "      <td>6000</td>\n",
       "      <td>NaN</td>\n",
       "      <td>NaN</td>\n",
       "      <td>NaN</td>\n",
       "      <td>NaN</td>\n",
       "      <td>NaN</td>\n",
       "      <td>NaN</td>\n",
       "      <td>NaN</td>\n",
       "      <td>NaN</td>\n",
       "      <td>NaN</td>\n",
       "      <td>NaN</td>\n",
       "      <td>NaN</td>\n",
       "      <td>NaN</td>\n",
       "      <td>NaN</td>\n",
       "      <td>NaN</td>\n",
       "      <td>az</td>\n",
       "    </tr>\n",
       "    <tr>\n",
       "      <th>1</th>\n",
       "      <td>7218891961</td>\n",
       "      <td>fayetteville</td>\n",
       "      <td>11900</td>\n",
       "      <td>NaN</td>\n",
       "      <td>NaN</td>\n",
       "      <td>NaN</td>\n",
       "      <td>NaN</td>\n",
       "      <td>NaN</td>\n",
       "      <td>NaN</td>\n",
       "      <td>NaN</td>\n",
       "      <td>NaN</td>\n",
       "      <td>NaN</td>\n",
       "      <td>NaN</td>\n",
       "      <td>NaN</td>\n",
       "      <td>NaN</td>\n",
       "      <td>NaN</td>\n",
       "      <td>NaN</td>\n",
       "      <td>ar</td>\n",
       "    </tr>\n",
       "    <tr>\n",
       "      <th>2</th>\n",
       "      <td>7221797935</td>\n",
       "      <td>florida keys</td>\n",
       "      <td>21000</td>\n",
       "      <td>NaN</td>\n",
       "      <td>NaN</td>\n",
       "      <td>NaN</td>\n",
       "      <td>NaN</td>\n",
       "      <td>NaN</td>\n",
       "      <td>NaN</td>\n",
       "      <td>NaN</td>\n",
       "      <td>NaN</td>\n",
       "      <td>NaN</td>\n",
       "      <td>NaN</td>\n",
       "      <td>NaN</td>\n",
       "      <td>NaN</td>\n",
       "      <td>NaN</td>\n",
       "      <td>NaN</td>\n",
       "      <td>fl</td>\n",
       "    </tr>\n",
       "    <tr>\n",
       "      <th>3</th>\n",
       "      <td>7222270760</td>\n",
       "      <td>worcester / central MA</td>\n",
       "      <td>1500</td>\n",
       "      <td>NaN</td>\n",
       "      <td>NaN</td>\n",
       "      <td>NaN</td>\n",
       "      <td>NaN</td>\n",
       "      <td>NaN</td>\n",
       "      <td>NaN</td>\n",
       "      <td>NaN</td>\n",
       "      <td>NaN</td>\n",
       "      <td>NaN</td>\n",
       "      <td>NaN</td>\n",
       "      <td>NaN</td>\n",
       "      <td>NaN</td>\n",
       "      <td>NaN</td>\n",
       "      <td>NaN</td>\n",
       "      <td>ma</td>\n",
       "    </tr>\n",
       "    <tr>\n",
       "      <th>4</th>\n",
       "      <td>7210384030</td>\n",
       "      <td>greensboro</td>\n",
       "      <td>4900</td>\n",
       "      <td>NaN</td>\n",
       "      <td>NaN</td>\n",
       "      <td>NaN</td>\n",
       "      <td>NaN</td>\n",
       "      <td>NaN</td>\n",
       "      <td>NaN</td>\n",
       "      <td>NaN</td>\n",
       "      <td>NaN</td>\n",
       "      <td>NaN</td>\n",
       "      <td>NaN</td>\n",
       "      <td>NaN</td>\n",
       "      <td>NaN</td>\n",
       "      <td>NaN</td>\n",
       "      <td>NaN</td>\n",
       "      <td>nc</td>\n",
       "    </tr>\n",
       "  </tbody>\n",
       "</table>\n",
       "</div>"
      ],
      "text/plain": [
       "           id                  region  price  year manufacturer model  \\\n",
       "0  7222695916                prescott   6000   NaN          NaN   NaN   \n",
       "1  7218891961            fayetteville  11900   NaN          NaN   NaN   \n",
       "2  7221797935            florida keys  21000   NaN          NaN   NaN   \n",
       "3  7222270760  worcester / central MA   1500   NaN          NaN   NaN   \n",
       "4  7210384030              greensboro   4900   NaN          NaN   NaN   \n",
       "\n",
       "  condition cylinders fuel  odometer title_status transmission  VIN drive  \\\n",
       "0       NaN       NaN  NaN       NaN          NaN          NaN  NaN   NaN   \n",
       "1       NaN       NaN  NaN       NaN          NaN          NaN  NaN   NaN   \n",
       "2       NaN       NaN  NaN       NaN          NaN          NaN  NaN   NaN   \n",
       "3       NaN       NaN  NaN       NaN          NaN          NaN  NaN   NaN   \n",
       "4       NaN       NaN  NaN       NaN          NaN          NaN  NaN   NaN   \n",
       "\n",
       "  size type paint_color state  \n",
       "0  NaN  NaN         NaN    az  \n",
       "1  NaN  NaN         NaN    ar  \n",
       "2  NaN  NaN         NaN    fl  \n",
       "3  NaN  NaN         NaN    ma  \n",
       "4  NaN  NaN         NaN    nc  "
      ]
     },
     "execution_count": 45,
     "metadata": {},
     "output_type": "execute_result"
    }
   ],
   "source": [
    "vehicles.head()"
   ]
  },
  {
   "cell_type": "code",
   "execution_count": 46,
   "metadata": {},
   "outputs": [
    {
     "data": {
      "text/html": [
       "<div>\n",
       "<style scoped>\n",
       "    .dataframe tbody tr th:only-of-type {\n",
       "        vertical-align: middle;\n",
       "    }\n",
       "\n",
       "    .dataframe tbody tr th {\n",
       "        vertical-align: top;\n",
       "    }\n",
       "\n",
       "    .dataframe thead th {\n",
       "        text-align: right;\n",
       "    }\n",
       "</style>\n",
       "<table border=\"1\" class=\"dataframe\">\n",
       "  <thead>\n",
       "    <tr style=\"text-align: right;\">\n",
       "      <th></th>\n",
       "      <th>id</th>\n",
       "      <th>region</th>\n",
       "      <th>price</th>\n",
       "      <th>year</th>\n",
       "      <th>manufacturer</th>\n",
       "      <th>model</th>\n",
       "      <th>condition</th>\n",
       "      <th>cylinders</th>\n",
       "      <th>fuel</th>\n",
       "      <th>odometer</th>\n",
       "      <th>title_status</th>\n",
       "      <th>transmission</th>\n",
       "      <th>VIN</th>\n",
       "      <th>drive</th>\n",
       "      <th>size</th>\n",
       "      <th>type</th>\n",
       "      <th>paint_color</th>\n",
       "      <th>state</th>\n",
       "    </tr>\n",
       "  </thead>\n",
       "  <tbody>\n",
       "    <tr>\n",
       "      <th>426875</th>\n",
       "      <td>7301591192</td>\n",
       "      <td>wyoming</td>\n",
       "      <td>23590</td>\n",
       "      <td>2019.0</td>\n",
       "      <td>nissan</td>\n",
       "      <td>maxima s sedan 4d</td>\n",
       "      <td>good</td>\n",
       "      <td>6 cylinders</td>\n",
       "      <td>gas</td>\n",
       "      <td>32226.0</td>\n",
       "      <td>clean</td>\n",
       "      <td>other</td>\n",
       "      <td>1N4AA6AV6KC367801</td>\n",
       "      <td>fwd</td>\n",
       "      <td>NaN</td>\n",
       "      <td>sedan</td>\n",
       "      <td>NaN</td>\n",
       "      <td>wy</td>\n",
       "    </tr>\n",
       "    <tr>\n",
       "      <th>426876</th>\n",
       "      <td>7301591187</td>\n",
       "      <td>wyoming</td>\n",
       "      <td>30590</td>\n",
       "      <td>2020.0</td>\n",
       "      <td>volvo</td>\n",
       "      <td>s60 t5 momentum sedan 4d</td>\n",
       "      <td>good</td>\n",
       "      <td>NaN</td>\n",
       "      <td>gas</td>\n",
       "      <td>12029.0</td>\n",
       "      <td>clean</td>\n",
       "      <td>other</td>\n",
       "      <td>7JR102FKXLG042696</td>\n",
       "      <td>fwd</td>\n",
       "      <td>NaN</td>\n",
       "      <td>sedan</td>\n",
       "      <td>red</td>\n",
       "      <td>wy</td>\n",
       "    </tr>\n",
       "    <tr>\n",
       "      <th>426877</th>\n",
       "      <td>7301591147</td>\n",
       "      <td>wyoming</td>\n",
       "      <td>34990</td>\n",
       "      <td>2020.0</td>\n",
       "      <td>cadillac</td>\n",
       "      <td>xt4 sport suv 4d</td>\n",
       "      <td>good</td>\n",
       "      <td>NaN</td>\n",
       "      <td>diesel</td>\n",
       "      <td>4174.0</td>\n",
       "      <td>clean</td>\n",
       "      <td>other</td>\n",
       "      <td>1GYFZFR46LF088296</td>\n",
       "      <td>NaN</td>\n",
       "      <td>NaN</td>\n",
       "      <td>hatchback</td>\n",
       "      <td>white</td>\n",
       "      <td>wy</td>\n",
       "    </tr>\n",
       "    <tr>\n",
       "      <th>426878</th>\n",
       "      <td>7301591140</td>\n",
       "      <td>wyoming</td>\n",
       "      <td>28990</td>\n",
       "      <td>2018.0</td>\n",
       "      <td>lexus</td>\n",
       "      <td>es 350 sedan 4d</td>\n",
       "      <td>good</td>\n",
       "      <td>6 cylinders</td>\n",
       "      <td>gas</td>\n",
       "      <td>30112.0</td>\n",
       "      <td>clean</td>\n",
       "      <td>other</td>\n",
       "      <td>58ABK1GG4JU103853</td>\n",
       "      <td>fwd</td>\n",
       "      <td>NaN</td>\n",
       "      <td>sedan</td>\n",
       "      <td>silver</td>\n",
       "      <td>wy</td>\n",
       "    </tr>\n",
       "    <tr>\n",
       "      <th>426879</th>\n",
       "      <td>7301591129</td>\n",
       "      <td>wyoming</td>\n",
       "      <td>30590</td>\n",
       "      <td>2019.0</td>\n",
       "      <td>bmw</td>\n",
       "      <td>4 series 430i gran coupe</td>\n",
       "      <td>good</td>\n",
       "      <td>NaN</td>\n",
       "      <td>gas</td>\n",
       "      <td>22716.0</td>\n",
       "      <td>clean</td>\n",
       "      <td>other</td>\n",
       "      <td>WBA4J1C58KBM14708</td>\n",
       "      <td>rwd</td>\n",
       "      <td>NaN</td>\n",
       "      <td>coupe</td>\n",
       "      <td>NaN</td>\n",
       "      <td>wy</td>\n",
       "    </tr>\n",
       "  </tbody>\n",
       "</table>\n",
       "</div>"
      ],
      "text/plain": [
       "                id   region  price    year manufacturer  \\\n",
       "426875  7301591192  wyoming  23590  2019.0       nissan   \n",
       "426876  7301591187  wyoming  30590  2020.0        volvo   \n",
       "426877  7301591147  wyoming  34990  2020.0     cadillac   \n",
       "426878  7301591140  wyoming  28990  2018.0        lexus   \n",
       "426879  7301591129  wyoming  30590  2019.0          bmw   \n",
       "\n",
       "                           model condition    cylinders    fuel  odometer  \\\n",
       "426875         maxima s sedan 4d      good  6 cylinders     gas   32226.0   \n",
       "426876  s60 t5 momentum sedan 4d      good          NaN     gas   12029.0   \n",
       "426877          xt4 sport suv 4d      good          NaN  diesel    4174.0   \n",
       "426878           es 350 sedan 4d      good  6 cylinders     gas   30112.0   \n",
       "426879  4 series 430i gran coupe      good          NaN     gas   22716.0   \n",
       "\n",
       "       title_status transmission                VIN drive size       type  \\\n",
       "426875        clean        other  1N4AA6AV6KC367801   fwd  NaN      sedan   \n",
       "426876        clean        other  7JR102FKXLG042696   fwd  NaN      sedan   \n",
       "426877        clean        other  1GYFZFR46LF088296   NaN  NaN  hatchback   \n",
       "426878        clean        other  58ABK1GG4JU103853   fwd  NaN      sedan   \n",
       "426879        clean        other  WBA4J1C58KBM14708   rwd  NaN      coupe   \n",
       "\n",
       "       paint_color state  \n",
       "426875         NaN    wy  \n",
       "426876         red    wy  \n",
       "426877       white    wy  \n",
       "426878      silver    wy  \n",
       "426879         NaN    wy  "
      ]
     },
     "execution_count": 46,
     "metadata": {},
     "output_type": "execute_result"
    }
   ],
   "source": [
    "vehicles.tail()"
   ]
  },
  {
   "cell_type": "code",
   "execution_count": 48,
   "metadata": {},
   "outputs": [
    {
     "data": {
      "text/plain": [
       "(426880, 18)"
      ]
     },
     "execution_count": 48,
     "metadata": {},
     "output_type": "execute_result"
    }
   ],
   "source": [
    "vehicles.shape"
   ]
  },
  {
   "cell_type": "code",
   "execution_count": 49,
   "metadata": {},
   "outputs": [
    {
     "data": {
      "text/plain": [
       "Index(['id', 'region', 'price', 'year', 'manufacturer', 'model', 'condition',\n",
       "       'cylinders', 'fuel', 'odometer', 'title_status', 'transmission', 'VIN',\n",
       "       'drive', 'size', 'type', 'paint_color', 'state'],\n",
       "      dtype='object')"
      ]
     },
     "execution_count": 49,
     "metadata": {},
     "output_type": "execute_result"
    }
   ],
   "source": [
    "vehicles.columns"
   ]
  },
  {
   "cell_type": "code",
   "execution_count": 50,
   "metadata": {},
   "outputs": [
    {
     "name": "stdout",
     "output_type": "stream",
     "text": [
      "<class 'pandas.core.frame.DataFrame'>\n",
      "RangeIndex: 426880 entries, 0 to 426879\n",
      "Data columns (total 18 columns):\n",
      " #   Column        Non-Null Count   Dtype  \n",
      "---  ------        --------------   -----  \n",
      " 0   id            426880 non-null  int64  \n",
      " 1   region        426880 non-null  object \n",
      " 2   price         426880 non-null  int64  \n",
      " 3   year          425675 non-null  float64\n",
      " 4   manufacturer  409234 non-null  object \n",
      " 5   model         421603 non-null  object \n",
      " 6   condition     252776 non-null  object \n",
      " 7   cylinders     249202 non-null  object \n",
      " 8   fuel          423867 non-null  object \n",
      " 9   odometer      422480 non-null  float64\n",
      " 10  title_status  418638 non-null  object \n",
      " 11  transmission  424324 non-null  object \n",
      " 12  VIN           265838 non-null  object \n",
      " 13  drive         296313 non-null  object \n",
      " 14  size          120519 non-null  object \n",
      " 15  type          334022 non-null  object \n",
      " 16  paint_color   296677 non-null  object \n",
      " 17  state         426880 non-null  object \n",
      "dtypes: float64(2), int64(2), object(14)\n",
      "memory usage: 58.6+ MB\n"
     ]
    }
   ],
   "source": [
    "vehicles.info()"
   ]
  },
  {
   "cell_type": "markdown",
   "metadata": {},
   "source": [
    "Examine null values"
   ]
  },
  {
   "cell_type": "code",
   "execution_count": 51,
   "metadata": {},
   "outputs": [
    {
     "data": {
      "text/plain": [
       "id              False\n",
       "region          False\n",
       "price           False\n",
       "year             True\n",
       "manufacturer     True\n",
       "model            True\n",
       "condition        True\n",
       "cylinders        True\n",
       "fuel             True\n",
       "odometer         True\n",
       "title_status     True\n",
       "transmission     True\n",
       "VIN              True\n",
       "drive            True\n",
       "size             True\n",
       "type             True\n",
       "paint_color      True\n",
       "state           False\n",
       "dtype: bool"
      ]
     },
     "execution_count": 51,
     "metadata": {},
     "output_type": "execute_result"
    }
   ],
   "source": [
    "vehicles.isnull().any()"
   ]
  },
  {
   "cell_type": "code",
   "execution_count": 60,
   "metadata": {},
   "outputs": [
    {
     "data": {
      "text/plain": [
       "id                   0\n",
       "region               0\n",
       "price                0\n",
       "year              1205\n",
       "manufacturer     17646\n",
       "model             5277\n",
       "condition       174104\n",
       "cylinders       177678\n",
       "fuel              3013\n",
       "odometer          4400\n",
       "title_status      8242\n",
       "transmission      2556\n",
       "VIN             161042\n",
       "drive           130567\n",
       "size            306361\n",
       "type             92858\n",
       "paint_color     130203\n",
       "state                0\n",
       "dtype: int64"
      ]
     },
     "execution_count": 60,
     "metadata": {},
     "output_type": "execute_result"
    }
   ],
   "source": [
    "#Count null values\n",
    "vehicles.isnull().sum()"
   ]
  },
  {
   "cell_type": "markdown",
   "metadata": {},
   "source": [
    "### Data Preparation\n",
    "\n",
    "After our initial exploration and fine tuning of the business understanding, it is time to construct our final dataset prior to modeling.  Here, we want to make sure to handle any integrity issues and cleaning, the engineering of new features, any transformations that we believe should happen (scaling, logarithms, normalization, etc.), and general preparation for modeling with `sklearn`. "
   ]
  },
  {
   "cell_type": "markdown",
   "metadata": {},
   "source": [
    "Drop VIN and id as they are unique to each vehicle and don't add to the analysis"
   ]
  },
  {
   "cell_type": "code",
   "execution_count": 55,
   "metadata": {},
   "outputs": [],
   "source": [
    "vehicles2 = vehicles.drop(columns=['VIN', 'id'], axis =1)"
   ]
  },
  {
   "cell_type": "code",
   "execution_count": 90,
   "metadata": {},
   "outputs": [
    {
     "data": {
      "text/plain": [
       "(426880, 16)"
      ]
     },
     "execution_count": 90,
     "metadata": {},
     "output_type": "execute_result"
    }
   ],
   "source": [
    "vehicles2.shape"
   ]
  },
  {
   "cell_type": "markdown",
   "metadata": {},
   "source": [
    "Convert data types"
   ]
  },
  {
   "cell_type": "code",
   "execution_count": 56,
   "metadata": {},
   "outputs": [],
   "source": [
    "vehicles2  = vehicles2.convert_dtypes()"
   ]
  },
  {
   "cell_type": "code",
   "execution_count": 57,
   "metadata": {},
   "outputs": [
    {
     "name": "stdout",
     "output_type": "stream",
     "text": [
      "<class 'pandas.core.frame.DataFrame'>\n",
      "RangeIndex: 426880 entries, 0 to 426879\n",
      "Data columns (total 16 columns):\n",
      " #   Column        Non-Null Count   Dtype \n",
      "---  ------        --------------   ----- \n",
      " 0   region        426880 non-null  string\n",
      " 1   price         426880 non-null  Int64 \n",
      " 2   year          425675 non-null  Int64 \n",
      " 3   manufacturer  409234 non-null  string\n",
      " 4   model         421603 non-null  string\n",
      " 5   condition     252776 non-null  string\n",
      " 6   cylinders     249202 non-null  string\n",
      " 7   fuel          423867 non-null  string\n",
      " 8   odometer      422480 non-null  Int64 \n",
      " 9   title_status  418638 non-null  string\n",
      " 10  transmission  424324 non-null  string\n",
      " 11  drive         296313 non-null  string\n",
      " 12  size          120519 non-null  string\n",
      " 13  type          334022 non-null  string\n",
      " 14  paint_color   296677 non-null  string\n",
      " 15  state         426880 non-null  string\n",
      "dtypes: Int64(3), string(13)\n",
      "memory usage: 53.3 MB\n"
     ]
    }
   ],
   "source": [
    "vehicles2.info()"
   ]
  },
  {
   "cell_type": "markdown",
   "metadata": {},
   "source": [
    "Create 'age' variable from the year"
   ]
  },
  {
   "cell_type": "code",
   "execution_count": 422,
   "metadata": {},
   "outputs": [
    {
     "name": "stdout",
     "output_type": "stream",
     "text": [
      "2022\n"
     ]
    }
   ],
   "source": [
    "vehicles2['age'] = datetime.now().year - vehicles2['year']\n",
    "print(datetime.now().year)"
   ]
  },
  {
   "cell_type": "markdown",
   "metadata": {},
   "source": [
    "Examine numeric fields stats and correlation"
   ]
  },
  {
   "cell_type": "code",
   "execution_count": 423,
   "metadata": {
    "scrolled": false
   },
   "outputs": [
    {
     "data": {
      "text/html": [
       "<div>\n",
       "<style scoped>\n",
       "    .dataframe tbody tr th:only-of-type {\n",
       "        vertical-align: middle;\n",
       "    }\n",
       "\n",
       "    .dataframe tbody tr th {\n",
       "        vertical-align: top;\n",
       "    }\n",
       "\n",
       "    .dataframe thead th {\n",
       "        text-align: right;\n",
       "    }\n",
       "</style>\n",
       "<table border=\"1\" class=\"dataframe\">\n",
       "  <thead>\n",
       "    <tr style=\"text-align: right;\">\n",
       "      <th></th>\n",
       "      <th>price</th>\n",
       "      <th>year</th>\n",
       "      <th>odometer</th>\n",
       "      <th>age</th>\n",
       "    </tr>\n",
       "  </thead>\n",
       "  <tbody>\n",
       "    <tr>\n",
       "      <th>count</th>\n",
       "      <td>4.268800e+05</td>\n",
       "      <td>425675.000000</td>\n",
       "      <td>4.224800e+05</td>\n",
       "      <td>425675.000000</td>\n",
       "    </tr>\n",
       "    <tr>\n",
       "      <th>mean</th>\n",
       "      <td>7.519903e+04</td>\n",
       "      <td>2011.235191</td>\n",
       "      <td>9.804333e+04</td>\n",
       "      <td>10.764809</td>\n",
       "    </tr>\n",
       "    <tr>\n",
       "      <th>std</th>\n",
       "      <td>1.218228e+07</td>\n",
       "      <td>9.452120</td>\n",
       "      <td>2.138815e+05</td>\n",
       "      <td>9.452120</td>\n",
       "    </tr>\n",
       "    <tr>\n",
       "      <th>min</th>\n",
       "      <td>0.000000e+00</td>\n",
       "      <td>1900.000000</td>\n",
       "      <td>0.000000e+00</td>\n",
       "      <td>0.000000</td>\n",
       "    </tr>\n",
       "    <tr>\n",
       "      <th>25%</th>\n",
       "      <td>5.900000e+03</td>\n",
       "      <td>2008.000000</td>\n",
       "      <td>3.770400e+04</td>\n",
       "      <td>5.000000</td>\n",
       "    </tr>\n",
       "    <tr>\n",
       "      <th>50%</th>\n",
       "      <td>1.395000e+04</td>\n",
       "      <td>2013.000000</td>\n",
       "      <td>8.554800e+04</td>\n",
       "      <td>9.000000</td>\n",
       "    </tr>\n",
       "    <tr>\n",
       "      <th>75%</th>\n",
       "      <td>2.648575e+04</td>\n",
       "      <td>2017.000000</td>\n",
       "      <td>1.335425e+05</td>\n",
       "      <td>14.000000</td>\n",
       "    </tr>\n",
       "    <tr>\n",
       "      <th>max</th>\n",
       "      <td>3.736929e+09</td>\n",
       "      <td>2022.000000</td>\n",
       "      <td>1.000000e+07</td>\n",
       "      <td>122.000000</td>\n",
       "    </tr>\n",
       "  </tbody>\n",
       "</table>\n",
       "</div>"
      ],
      "text/plain": [
       "              price           year      odometer            age\n",
       "count  4.268800e+05  425675.000000  4.224800e+05  425675.000000\n",
       "mean   7.519903e+04    2011.235191  9.804333e+04      10.764809\n",
       "std    1.218228e+07       9.452120  2.138815e+05       9.452120\n",
       "min    0.000000e+00    1900.000000  0.000000e+00       0.000000\n",
       "25%    5.900000e+03    2008.000000  3.770400e+04       5.000000\n",
       "50%    1.395000e+04    2013.000000  8.554800e+04       9.000000\n",
       "75%    2.648575e+04    2017.000000  1.335425e+05      14.000000\n",
       "max    3.736929e+09    2022.000000  1.000000e+07     122.000000"
      ]
     },
     "execution_count": 423,
     "metadata": {},
     "output_type": "execute_result"
    }
   ],
   "source": [
    "vehicles2.describe()"
   ]
  },
  {
   "cell_type": "code",
   "execution_count": 427,
   "metadata": {},
   "outputs": [],
   "source": [
    "vehicles2.drop('year', axis=1, inplace=True)"
   ]
  },
  {
   "cell_type": "code",
   "execution_count": 428,
   "metadata": {},
   "outputs": [
    {
     "data": {
      "text/html": [
       "<div>\n",
       "<style scoped>\n",
       "    .dataframe tbody tr th:only-of-type {\n",
       "        vertical-align: middle;\n",
       "    }\n",
       "\n",
       "    .dataframe tbody tr th {\n",
       "        vertical-align: top;\n",
       "    }\n",
       "\n",
       "    .dataframe thead th {\n",
       "        text-align: right;\n",
       "    }\n",
       "</style>\n",
       "<table border=\"1\" class=\"dataframe\">\n",
       "  <thead>\n",
       "    <tr style=\"text-align: right;\">\n",
       "      <th></th>\n",
       "      <th>price</th>\n",
       "      <th>odometer</th>\n",
       "      <th>age</th>\n",
       "    </tr>\n",
       "  </thead>\n",
       "  <tbody>\n",
       "    <tr>\n",
       "      <th>price</th>\n",
       "      <td>1.000000</td>\n",
       "      <td>0.010032</td>\n",
       "      <td>0.004925</td>\n",
       "    </tr>\n",
       "    <tr>\n",
       "      <th>odometer</th>\n",
       "      <td>0.010032</td>\n",
       "      <td>1.000000</td>\n",
       "      <td>0.157215</td>\n",
       "    </tr>\n",
       "    <tr>\n",
       "      <th>age</th>\n",
       "      <td>0.004925</td>\n",
       "      <td>0.157215</td>\n",
       "      <td>1.000000</td>\n",
       "    </tr>\n",
       "  </tbody>\n",
       "</table>\n",
       "</div>"
      ],
      "text/plain": [
       "             price  odometer       age\n",
       "price     1.000000  0.010032  0.004925\n",
       "odometer  0.010032  1.000000  0.157215\n",
       "age       0.004925  0.157215  1.000000"
      ]
     },
     "execution_count": 428,
     "metadata": {},
     "output_type": "execute_result"
    }
   ],
   "source": [
    "vehicles2.corr()"
   ]
  },
  {
   "cell_type": "markdown",
   "metadata": {},
   "source": [
    "Examine price and odometer for zeroes further"
   ]
  },
  {
   "cell_type": "code",
   "execution_count": 429,
   "metadata": {},
   "outputs": [
    {
     "data": {
      "text/plain": [
       "region              0\n",
       "price           32895\n",
       "manufacturer        0\n",
       "model               0\n",
       "condition           0\n",
       "cylinders           0\n",
       "fuel                0\n",
       "odometer         1965\n",
       "title_status        0\n",
       "transmission        0\n",
       "drive               0\n",
       "size                0\n",
       "type                0\n",
       "paint_color         0\n",
       "state               0\n",
       "age               133\n",
       "dtype: int64"
      ]
     },
     "execution_count": 429,
     "metadata": {},
     "output_type": "execute_result"
    }
   ],
   "source": [
    "vehicles2.eq(0).sum()"
   ]
  },
  {
   "cell_type": "code",
   "execution_count": 430,
   "metadata": {},
   "outputs": [
    {
     "data": {
      "text/plain": [
       "0"
      ]
     },
     "execution_count": 430,
     "metadata": {},
     "output_type": "execute_result"
    }
   ],
   "source": [
    "#Mode of price\n",
    "statistics.mode(vehicles2.price)"
   ]
  },
  {
   "cell_type": "markdown",
   "metadata": {},
   "source": [
    "Drop observations with price 0 or less(none in this dataset) as it doesn't make sense for modeling"
   ]
  },
  {
   "cell_type": "code",
   "execution_count": 450,
   "metadata": {},
   "outputs": [],
   "source": [
    "vehicles3a = vehicles2.query(\"price > 0\", engine ='python')"
   ]
  },
  {
   "cell_type": "code",
   "execution_count": 451,
   "metadata": {},
   "outputs": [
    {
     "data": {
      "text/plain": [
       "(393985, 16)"
      ]
     },
     "execution_count": 451,
     "metadata": {},
     "output_type": "execute_result"
    }
   ],
   "source": [
    "vehicles3a.shape"
   ]
  },
  {
   "cell_type": "code",
   "execution_count": 452,
   "metadata": {},
   "outputs": [
    {
     "data": {
      "text/plain": [
       "<AxesSubplot:>"
      ]
     },
     "execution_count": 452,
     "metadata": {},
     "output_type": "execute_result"
    },
    {
     "data": {
      "image/png": "[encoded data removed]",
      "text/plain": [
       "<Figure size 432x288 with 1 Axes>"
      ]
     },
     "metadata": {
      "needs_background": "light"
     },
     "output_type": "display_data"
    }
   ],
   "source": [
    "#Histogram of price\n",
    "vehicles3a.price.hist()"
   ]
  },
  {
   "cell_type": "markdown",
   "metadata": {},
   "source": [
    "Drop observations with age 0 or less(none in this dataset) as a threshold for used cars"
   ]
  },
  {
   "cell_type": "code",
   "execution_count": 453,
   "metadata": {},
   "outputs": [],
   "source": [
    "vehicles3 = vehicles3a.query(\"age > 0\", engine ='python')"
   ]
  },
  {
   "cell_type": "code",
   "execution_count": 454,
   "metadata": {},
   "outputs": [
    {
     "data": {
      "text/plain": [
       "(392706, 16)"
      ]
     },
     "execution_count": 454,
     "metadata": {},
     "output_type": "execute_result"
    }
   ],
   "source": [
    "vehicles3.shape"
   ]
  },
  {
   "cell_type": "markdown",
   "metadata": {},
   "source": [
    "Check for outliers in terms of price and odometer"
   ]
  },
  {
   "cell_type": "code",
   "execution_count": 119,
   "metadata": {},
   "outputs": [
    {
     "data": {
      "text/plain": [
       "Text(0, 0.5, 'Price')"
      ]
     },
     "execution_count": 119,
     "metadata": {},
     "output_type": "execute_result"
    },
    {
     "data": {
      "image/png": "[encoded data removed]",
      "text/plain": [
       "<Figure size 432x288 with 1 Axes>"
      ]
     },
     "metadata": {
      "needs_background": "light"
     },
     "output_type": "display_data"
    }
   ],
   "source": [
    "#Box Plot price\n",
    "sns.boxplot(y='price',data=vehicles3)\n",
    "plt.xticks(rotation=90)\n",
    "plt.ylabel('Price')"
   ]
  },
  {
   "cell_type": "code",
   "execution_count": 120,
   "metadata": {},
   "outputs": [
    {
     "data": {
      "text/plain": [
       "Text(0, 0.5, 'Odometer')"
      ]
     },
     "execution_count": 120,
     "metadata": {},
     "output_type": "execute_result"
    },
    {
     "data": {
      "image/png": "[encoded data removed]",
      "text/plain": [
       "<Figure size 432x288 with 1 Axes>"
      ]
     },
     "metadata": {
      "needs_background": "light"
     },
     "output_type": "display_data"
    }
   ],
   "source": [
    "#Box Plot odometer\n",
    "sns.boxplot(y='odometer',data=vehicles3)\n",
    "plt.xticks(rotation=90)\n",
    "plt.ylabel('Odometer')"
   ]
  },
  {
   "cell_type": "markdown",
   "metadata": {},
   "source": [
    "Use IQR function to remove outliers"
   ]
  },
  {
   "cell_type": "code",
   "execution_count": 455,
   "metadata": {},
   "outputs": [],
   "source": [
    "# Outliers Function \n",
    "cols = ['price', 'odometer'] # one or more columns\n",
    "\n",
    "Q1 = vehicles3[cols].quantile(0.25)\n",
    "Q3 = vehicles3[cols].quantile(0.75)\n",
    "IQR = Q3 - Q1\n",
    "\n",
    "vehicles4 = vehicles3[~((vehicles3[cols] < (Q1 - 1.5 * IQR)) |(vehicles3[cols] > (Q3 + 1.5 * IQR))).any(axis=1)]"
   ]
  },
  {
   "cell_type": "code",
   "execution_count": 456,
   "metadata": {},
   "outputs": [
    {
     "data": {
      "text/plain": [
       "(381376, 16)"
      ]
     },
     "execution_count": 456,
     "metadata": {},
     "output_type": "execute_result"
    }
   ],
   "source": [
    "#Number of rows remaining\n",
    "vehicles4.shape"
   ]
  },
  {
   "cell_type": "markdown",
   "metadata": {},
   "source": [
    "Check box plots after removing outliers"
   ]
  },
  {
   "cell_type": "code",
   "execution_count": 885,
   "metadata": {},
   "outputs": [
    {
     "data": {
      "text/plain": [
       "Text(0, 0.5, 'Price')"
      ]
     },
     "execution_count": 885,
     "metadata": {},
     "output_type": "execute_result"
    },
    {
     "data": {
      "image/png": "[encoded data removed]",
      "text/plain": [
       "<Figure size 432x288 with 1 Axes>"
      ]
     },
     "metadata": {
      "needs_background": "light"
     },
     "output_type": "display_data"
    }
   ],
   "source": [
    "#Box Plot price\n",
    "sns.boxplot(y='price',data=vehicles4)\n",
    "plt.xticks(rotation=90)\n",
    "plt.ylabel('Price')"
   ]
  },
  {
   "cell_type": "code",
   "execution_count": 886,
   "metadata": {},
   "outputs": [
    {
     "data": {
      "text/plain": [
       "Text(0, 0.5, 'Odometer')"
      ]
     },
     "execution_count": 886,
     "metadata": {},
     "output_type": "execute_result"
    },
    {
     "data": {
      "image/png": "[encoded data removed]",
      "text/plain": [
       "<Figure size 432x288 with 1 Axes>"
      ]
     },
     "metadata": {
      "needs_background": "light"
     },
     "output_type": "display_data"
    }
   ],
   "source": [
    "#Box Plot odometer\n",
    "sns.boxplot(y='odometer',data=vehicles4)\n",
    "plt.xticks(rotation=90)\n",
    "plt.ylabel('Odometer')"
   ]
  },
  {
   "cell_type": "markdown",
   "metadata": {},
   "source": [
    "Alternative method, using DBSCAN to remove outliers in price.   -------------> NOT USED"
   ]
  },
  {
   "cell_type": "code",
   "execution_count": 98,
   "metadata": {},
   "outputs": [],
   "source": [
    "from sklearn.cluster import DBSCAN"
   ]
  },
  {
   "cell_type": "code",
   "execution_count": 99,
   "metadata": {},
   "outputs": [],
   "source": [
    "def remove_outliers_DBSCAN(df,eps,min_samples):\n",
    "    outlier_detection = DBSCAN(eps = eps, min_samples = min_samples)\n",
    "    clusters = outlier_detection.fit_predict(df.values.reshape(-1,1))\n",
    "    data = pd.DataFrame()\n",
    "    data['cluster'] = clusters\n",
    "    return data['cluster']"
   ]
  },
  {
   "cell_type": "code",
   "execution_count": 101,
   "metadata": {},
   "outputs": [
    {
     "data": {
      "text/plain": [
       "-1       18750\n",
       " 85       3169\n",
       " 768      3129\n",
       " 364      2867\n",
       " 223      2837\n",
       "         ...  \n",
       " 3514        5\n",
       " 3519        5\n",
       " 2536        5\n",
       " 3523        5\n",
       " 4726        5\n",
       "Name: cluster, Length: 4728, dtype: int64"
      ]
     },
     "execution_count": 101,
     "metadata": {},
     "output_type": "execute_result"
    }
   ],
   "source": [
    "clusters=remove_outliers_DBSCAN((vehicles3[['price']]),0.5,5)\n",
    "clusters.value_counts().sort_values(ascending=False)"
   ]
  },
  {
   "cell_type": "code",
   "execution_count": 102,
   "metadata": {},
   "outputs": [
    {
     "data": {
      "text/plain": [
       "Int64Index([   192,    193,    194,    235,    266,    285,    331,    360,\n",
       "               420,    421,\n",
       "            ...\n",
       "            393545, 393547, 393548, 393550, 393581, 393585, 393685, 393732,\n",
       "            393751, 393798],\n",
       "           dtype='int64', length=18750)"
      ]
     },
     "execution_count": 102,
     "metadata": {},
     "output_type": "execute_result"
    }
   ],
   "source": [
    "df_cluster=pd.DataFrame(clusters)\n",
    "ind_outlier=df_cluster.index[df_cluster['cluster']==-1]\n",
    "ind_outlier"
   ]
  },
  {
   "cell_type": "code",
   "execution_count": 104,
   "metadata": {
    "scrolled": true
   },
   "outputs": [
    {
     "data": {
      "text/plain": [
       "18750"
      ]
     },
     "execution_count": 104,
     "metadata": {},
     "output_type": "execute_result"
    }
   ],
   "source": [
    "len(ind_outlier)"
   ]
  },
  {
   "cell_type": "code",
   "execution_count": 105,
   "metadata": {},
   "outputs": [],
   "source": [
    "vehicles4_alt = vehicles3[~(vehicles3.index.isin(ind_outlier))]"
   ]
  },
  {
   "cell_type": "code",
   "execution_count": 107,
   "metadata": {},
   "outputs": [
    {
     "data": {
      "text/plain": [
       "(376579, 16)"
      ]
     },
     "execution_count": 107,
     "metadata": {},
     "output_type": "execute_result"
    }
   ],
   "source": [
    "vehicles4_alt.shape"
   ]
  },
  {
   "cell_type": "code",
   "execution_count": 113,
   "metadata": {},
   "outputs": [
    {
     "data": {
      "text/plain": [
       "Text(0, 0.5, 'Price')"
      ]
     },
     "execution_count": 113,
     "metadata": {},
     "output_type": "execute_result"
    },
    {
     "data": {
      "image/png": "[encoded data removed]",
      "text/plain": [
       "<Figure size 432x288 with 1 Axes>"
      ]
     },
     "metadata": {
      "needs_background": "light"
     },
     "output_type": "display_data"
    }
   ],
   "source": [
    "vehicles4_alt.boxplot('price')\n",
    "plt.xticks(rotation=90)\n",
    "plt.ylabel('Price')"
   ]
  },
  {
   "cell_type": "markdown",
   "metadata": {},
   "source": [
    "End of DBSCAN process  -------------> NOT USED"
   ]
  },
  {
   "cell_type": "markdown",
   "metadata": {},
   "source": [
    "Examine NA values"
   ]
  },
  {
   "cell_type": "code",
   "execution_count": 126,
   "metadata": {},
   "outputs": [
    {
     "data": {
      "text/plain": [
       "region               0\n",
       "price                0\n",
       "year               988\n",
       "manufacturer     14536\n",
       "model             4203\n",
       "condition       145107\n",
       "cylinders       155210\n",
       "fuel              2544\n",
       "odometer          2212\n",
       "title_status      7521\n",
       "transmission      1746\n",
       "drive           116909\n",
       "size            274217\n",
       "type             82661\n",
       "paint_color     113376\n",
       "state                0\n",
       "dtype: int64"
      ]
     },
     "execution_count": 126,
     "metadata": {},
     "output_type": "execute_result"
    }
   ],
   "source": [
    "vehicles4.isnull().sum()"
   ]
  },
  {
   "cell_type": "code",
   "execution_count": 127,
   "metadata": {},
   "outputs": [
    {
     "data": {
      "text/plain": [
       "region          0.000000\n",
       "price           0.000000\n",
       "year            0.002583\n",
       "manufacturer    0.038007\n",
       "model           0.010989\n",
       "condition       0.379406\n",
       "cylinders       0.405822\n",
       "fuel            0.006652\n",
       "odometer        0.005784\n",
       "title_status    0.019665\n",
       "transmission    0.004565\n",
       "drive           0.305678\n",
       "size            0.716986\n",
       "type            0.216131\n",
       "paint_color     0.296440\n",
       "state           0.000000\n",
       "dtype: float64"
      ]
     },
     "execution_count": 127,
     "metadata": {},
     "output_type": "execute_result"
    }
   ],
   "source": [
    "vehicles4.isna().mean()"
   ]
  },
  {
   "cell_type": "markdown",
   "metadata": {},
   "source": [
    "Examine the 'size' field for NA as about 70% of data has missing value for the field"
   ]
  },
  {
   "cell_type": "code",
   "execution_count": 134,
   "metadata": {},
   "outputs": [
    {
     "data": {
      "text/plain": [
       "size\n",
       "NaN            274217\n",
       "full-size       56558\n",
       "mid-size        31518\n",
       "compact         17326\n",
       "sub-compact      2839\n",
       "dtype: int64"
      ]
     },
     "execution_count": 134,
     "metadata": {},
     "output_type": "execute_result"
    }
   ],
   "source": [
    "vehicles4.value_counts('size', dropna = False)"
   ]
  },
  {
   "cell_type": "code",
   "execution_count": 133,
   "metadata": {},
   "outputs": [
    {
     "data": {
      "text/plain": [
       "<StringArray>\n",
       "[<NA>, 'full-size', 'mid-size', 'compact', 'sub-compact']\n",
       "Length: 5, dtype: string"
      ]
     },
     "execution_count": 133,
     "metadata": {},
     "output_type": "execute_result"
    }
   ],
   "source": [
    "vehicles4['size'].unique()"
   ]
  },
  {
   "cell_type": "markdown",
   "metadata": {},
   "source": [
    "We will remove any field that has less than 50% of data available before imputing."
   ]
  },
  {
   "cell_type": "markdown",
   "metadata": {},
   "source": [
    "There is some useful information in this column (size) but it's scarely populated. Could consider keeping if there is no memory/prerformance issue"
   ]
  },
  {
   "cell_type": "code",
   "execution_count": 457,
   "metadata": {},
   "outputs": [],
   "source": [
    "vehicles5 = vehicles4.drop(vehicles4.columns[vehicles4.isna().mean()> 0.5], axis = 1)"
   ]
  },
  {
   "cell_type": "code",
   "execution_count": 458,
   "metadata": {},
   "outputs": [
    {
     "data": {
      "text/plain": [
       "Index(['region', 'price', 'manufacturer', 'model', 'condition', 'cylinders',\n",
       "       'fuel', 'odometer', 'title_status', 'transmission', 'drive', 'type',\n",
       "       'paint_color', 'state', 'age'],\n",
       "      dtype='object')"
      ]
     },
     "execution_count": 458,
     "metadata": {},
     "output_type": "execute_result"
    }
   ],
   "source": [
    "vehicles5.columns #Size column gets dropped"
   ]
  },
  {
   "cell_type": "markdown",
   "metadata": {},
   "source": [
    "## Impute Missing Data and Encode"
   ]
  },
  {
   "cell_type": "markdown",
   "metadata": {},
   "source": [
    "Reset Index and drop some additional fields: Use higher aggregation level manufacturer(not model) and state(not region) for performance"
   ]
  },
  {
   "cell_type": "code",
   "execution_count": null,
   "metadata": {},
   "outputs": [],
   "source": [
    "vehicles6 = vehicles5.reset_index().convert_dtypes().replace({pd.NA: np.nan})\n",
    "vehicles6.drop(columns=['index','model','region'], axis =1,inplace= True)\n",
    "vehicles6"
   ]
  },
  {
   "cell_type": "code",
   "execution_count": null,
   "metadata": {},
   "outputs": [],
   "source": [
    "vehicles6.dtypes"
   ]
  },
  {
   "cell_type": "markdown",
   "metadata": {},
   "source": [
    "Split data into training and test sets"
   ]
  },
  {
   "cell_type": "code",
   "execution_count": null,
   "metadata": {},
   "outputs": [],
   "source": [
    "X, y = vehicles6.drop(columns='price'), vehicles6['price']\n",
    "X_train, X_test, y_train, y_test = train_test_split(X, y, random_state = 42, test_size = 0.3)"
   ]
  },
  {
   "cell_type": "code",
   "execution_count": 726,
   "metadata": {
    "scrolled": true
   },
   "outputs": [
    {
     "data": {
      "text/plain": [
       "drive\n",
       "NaN    81455\n",
       "4wd    80449\n",
       "fwd    67565\n",
       "rwd    37494\n",
       "dtype: int64"
      ]
     },
     "execution_count": 726,
     "metadata": {},
     "output_type": "execute_result"
    }
   ],
   "source": [
    "X_train.value_counts('drive', dropna=False) #Drive has few unique values: use OneHotEncoder. For rest use Target Encoder"
   ]
  },
  {
   "cell_type": "code",
   "execution_count": 680,
   "metadata": {},
   "outputs": [],
   "source": [
    "numeric_features = ['odometer','age']"
   ]
  },
  {
   "cell_type": "code",
   "execution_count": 681,
   "metadata": {},
   "outputs": [],
   "source": [
    "oneHot_features = ['drive']"
   ]
  },
  {
   "cell_type": "code",
   "execution_count": 682,
   "metadata": {},
   "outputs": [],
   "source": [
    "categorical_features = ['condition', 'cylinders', 'fuel', 'title_status','transmission', 'manufacturer', 'state',\n",
    "                        'type', 'paint_color']"
   ]
  },
  {
   "cell_type": "code",
   "execution_count": 683,
   "metadata": {},
   "outputs": [],
   "source": [
    "numeric_transformer = Pipeline(steps=[\n",
    "    ('imputer',  IterativeImputer(random_state=42))\n",
    "    #('imputer', SimpleImputer(strategy='median'))\n",
    "    #,('scaler', StandardScaler())\n",
    "    ])"
   ]
  },
  {
   "cell_type": "code",
   "execution_count": 684,
   "metadata": {},
   "outputs": [],
   "source": [
    "oneHot_transformer = Pipeline(steps=[\n",
    "    ('imputer', SimpleImputer(strategy='most_frequent', fill_value='missing'))\n",
    "    ,('onehot', OneHotEncoder(drop = 'if_binary', sparse=False))\n",
    "    ])\n",
    "\n",
    "    #('imputer',  IterativeImputer(random_state=42)),\n",
    "    #('onehot', OneHotEncoder(handle_unknown='ignore',drop = 'if_binary'))])"
   ]
  },
  {
   "cell_type": "code",
   "execution_count": 697,
   "metadata": {},
   "outputs": [],
   "source": [
    "categorical_transformer = Pipeline(steps=[\n",
    "    ('imputer', SimpleImputer(strategy='most_frequent', fill_value='missing'))\n",
    "    ,('target', TargetEncoder())])\n",
    "\n",
    "#Same thing using OrdinalEncoder instead\n",
    "#categorical_transformer = Pipeline(steps=[\n",
    "#    ('imputer', SimpleImputer(strategy='constant', fill_value='missing'))\n",
    "#    ,('ordinal', OrdinalEncoder())])"
   ]
  },
  {
   "cell_type": "code",
   "execution_count": 698,
   "metadata": {},
   "outputs": [],
   "source": [
    "#preprocessor = ColumnTransformer(\n",
    "preprocessor = make_column_transformer((numeric_transformer, numeric_features),\n",
    "                                       (categorical_transformer, categorical_features),\n",
    "                                       (oneHot_transformer, oneHot_features),\n",
    "                                       remainder = \"drop\")"
   ]
  },
  {
   "cell_type": "markdown",
   "metadata": {},
   "source": [
    "### Modeling\n",
    "\n",
    "With your (almost?) final dataset in hand, it is now time to build some models.  Here, you should build a number of different regression models with the price as the target.  In building your models, you should explore different parameters and be sure to cross-validate your findings."
   ]
  },
  {
   "cell_type": "markdown",
   "metadata": {},
   "source": [
    "## Basic Models for benchmark"
   ]
  },
  {
   "cell_type": "markdown",
   "metadata": {},
   "source": [
    "Linear Regression"
   ]
  },
  {
   "cell_type": "code",
   "execution_count": 718,
   "metadata": {},
   "outputs": [
    {
     "name": "stdout",
     "output_type": "stream",
     "text": [
      "Linear Reg MSE train: 74317408.04531045\n",
      "Linear Reg MSE test : 74916482.32898577\n",
      "The R2 score is: 0.5427530679376411\n"
     ]
    },
    {
     "data": {
      "text/html": [
       "<style>#sk-4f14a6c6-3579-4058-8404-761a825c367e {color: black;background-color: white;}#sk-4f14a6c6-3579-4058-8404-761a825c367e pre{padding: 0;}#sk-4f14a6c6-3579-4058-8404-761a825c367e div.sk-toggleable {background-color: white;}#sk-4f14a6c6-3579-4058-8404-761a825c367e label.sk-toggleable__label {cursor: pointer;display: block;width: 100%;margin-bottom: 0;padding: 0.2em 0.3em;box-sizing: border-box;text-align: center;}#sk-4f14a6c6-3579-4058-8404-761a825c367e div.sk-toggleable__content {max-height: 0;max-width: 0;overflow: hidden;text-align: left;background-color: #f0f8ff;}#sk-4f14a6c6-3579-4058-8404-761a825c367e div.sk-toggleable__content pre {margin: 0.2em;color: black;border-radius: 0.25em;background-color: #f0f8ff;}#sk-4f14a6c6-3579-4058-8404-761a825c367e input.sk-toggleable__control:checked~div.sk-toggleable__content {max-height: 200px;max-width: 100%;overflow: auto;}#sk-4f14a6c6-3579-4058-8404-761a825c367e div.sk-estimator input.sk-toggleable__control:checked~label.sk-toggleable__label {background-color: #d4ebff;}#sk-4f14a6c6-3579-4058-8404-761a825c367e div.sk-label input.sk-toggleable__control:checked~label.sk-toggleable__label {background-color: #d4ebff;}#sk-4f14a6c6-3579-4058-8404-761a825c367e input.sk-hidden--visually {border: 0;clip: rect(1px 1px 1px 1px);clip: rect(1px, 1px, 1px, 1px);height: 1px;margin: -1px;overflow: hidden;padding: 0;position: absolute;width: 1px;}#sk-4f14a6c6-3579-4058-8404-761a825c367e div.sk-estimator {font-family: monospace;background-color: #f0f8ff;margin: 0.25em 0.25em;border: 1px dotted black;border-radius: 0.25em;box-sizing: border-box;}#sk-4f14a6c6-3579-4058-8404-761a825c367e div.sk-estimator:hover {background-color: #d4ebff;}#sk-4f14a6c6-3579-4058-8404-761a825c367e div.sk-parallel-item::after {content: \"\";width: 100%;border-bottom: 1px solid gray;flex-grow: 1;}#sk-4f14a6c6-3579-4058-8404-761a825c367e div.sk-label:hover label.sk-toggleable__label {background-color: #d4ebff;}#sk-4f14a6c6-3579-4058-8404-761a825c367e div.sk-serial::before {content: \"\";position: absolute;border-left: 1px solid gray;box-sizing: border-box;top: 2em;bottom: 0;left: 50%;}#sk-4f14a6c6-3579-4058-8404-761a825c367e div.sk-serial {display: flex;flex-direction: column;align-items: center;background-color: white;}#sk-4f14a6c6-3579-4058-8404-761a825c367e div.sk-item {z-index: 1;}#sk-4f14a6c6-3579-4058-8404-761a825c367e div.sk-parallel {display: flex;align-items: stretch;justify-content: center;background-color: white;}#sk-4f14a6c6-3579-4058-8404-761a825c367e div.sk-parallel-item {display: flex;flex-direction: column;position: relative;background-color: white;}#sk-4f14a6c6-3579-4058-8404-761a825c367e div.sk-parallel-item:first-child::after {align-self: flex-end;width: 50%;}#sk-4f14a6c6-3579-4058-8404-761a825c367e div.sk-parallel-item:last-child::after {align-self: flex-start;width: 50%;}#sk-4f14a6c6-3579-4058-8404-761a825c367e div.sk-parallel-item:only-child::after {width: 0;}#sk-4f14a6c6-3579-4058-8404-761a825c367e div.sk-dashed-wrapped {border: 1px dashed gray;margin: 0.2em;box-sizing: border-box;padding-bottom: 0.1em;background-color: white;position: relative;}#sk-4f14a6c6-3579-4058-8404-761a825c367e div.sk-label label {font-family: monospace;font-weight: bold;background-color: white;display: inline-block;line-height: 1.2em;}#sk-4f14a6c6-3579-4058-8404-761a825c367e div.sk-label-container {position: relative;z-index: 2;text-align: center;}#sk-4f14a6c6-3579-4058-8404-761a825c367e div.sk-container {display: inline-block;position: relative;}</style><div id=\"sk-4f14a6c6-3579-4058-8404-761a825c367e\" class\"sk-top-container\"><div class=\"sk-container\"><div class=\"sk-item sk-dashed-wrapped\"><div class=\"sk-label-container\"><div class=\"sk-label sk-toggleable\"><input class=\"sk-toggleable__control sk-hidden--visually\" id=\"0848c7a3-feb9-4cbc-b3c4-a316adc83067\" type=\"checkbox\" ><label class=\"sk-toggleable__label\" for=\"0848c7a3-feb9-4cbc-b3c4-a316adc83067\">Pipeline</label><div class=\"sk-toggleable__content\"><pre>Pipeline(steps=[('preprocessor',\n",
       "                 ColumnTransformer(transformers=[('pipeline-1',\n",
       "                                                  Pipeline(steps=[('imputer',\n",
       "                                                                   IterativeImputer(random_state=42))]),\n",
       "                                                  ['odometer', 'age']),\n",
       "                                                 ('pipeline-2',\n",
       "                                                  Pipeline(steps=[('imputer',\n",
       "                                                                   SimpleImputer(fill_value='missing',\n",
       "                                                                                 strategy='most_frequent')),\n",
       "                                                                  ('target',\n",
       "                                                                   TargetEncoder())]),\n",
       "                                                  ['condition', 'cylinders',\n",
       "                                                   'fuel', 'title_status',\n",
       "                                                   'transmission',\n",
       "                                                   'manufacturer', 'state',\n",
       "                                                   'type', 'paint_color']),\n",
       "                                                 ('pipeline-3',\n",
       "                                                  Pipeline(steps=[('imputer',\n",
       "                                                                   SimpleImputer(fill_value='missing',\n",
       "                                                                                 strategy='most_frequent')),\n",
       "                                                                  ('onehot',\n",
       "                                                                   OneHotEncoder(drop='if_binary',\n",
       "                                                                                 sparse=False))]),\n",
       "                                                  ['drive'])])),\n",
       "                ('regression', LinearRegression())])</pre></div></div></div><div class=\"sk-serial\"><div class=\"sk-item sk-dashed-wrapped\"><div class=\"sk-label-container\"><div class=\"sk-label sk-toggleable\"><input class=\"sk-toggleable__control sk-hidden--visually\" id=\"c65b1996-1600-4760-a554-df1e11de1a0f\" type=\"checkbox\" ><label class=\"sk-toggleable__label\" for=\"c65b1996-1600-4760-a554-df1e11de1a0f\">preprocessor: ColumnTransformer</label><div class=\"sk-toggleable__content\"><pre>ColumnTransformer(transformers=[('pipeline-1',\n",
       "                                 Pipeline(steps=[('imputer',\n",
       "                                                  IterativeImputer(random_state=42))]),\n",
       "                                 ['odometer', 'age']),\n",
       "                                ('pipeline-2',\n",
       "                                 Pipeline(steps=[('imputer',\n",
       "                                                  SimpleImputer(fill_value='missing',\n",
       "                                                                strategy='most_frequent')),\n",
       "                                                 ('target', TargetEncoder())]),\n",
       "                                 ['condition', 'cylinders', 'fuel',\n",
       "                                  'title_status', 'transmission',\n",
       "                                  'manufacturer', 'state', 'type',\n",
       "                                  'paint_color']),\n",
       "                                ('pipeline-3',\n",
       "                                 Pipeline(steps=[('imputer',\n",
       "                                                  SimpleImputer(fill_value='missing',\n",
       "                                                                strategy='most_frequent')),\n",
       "                                                 ('onehot',\n",
       "                                                  OneHotEncoder(drop='if_binary',\n",
       "                                                                sparse=False))]),\n",
       "                                 ['drive'])])</pre></div></div></div><div class=\"sk-parallel\"><div class=\"sk-parallel-item\"><div class=\"sk-item\"><div class=\"sk-label-container\"><div class=\"sk-label sk-toggleable\"><input class=\"sk-toggleable__control sk-hidden--visually\" id=\"fab17289-af92-43ba-a213-779b6ba3741d\" type=\"checkbox\" ><label class=\"sk-toggleable__label\" for=\"fab17289-af92-43ba-a213-779b6ba3741d\">pipeline-1</label><div class=\"sk-toggleable__content\"><pre>['odometer', 'age']</pre></div></div></div><div class=\"sk-serial\"><div class=\"sk-item\"><div class=\"sk-serial\"><div class=\"sk-item\"><div class=\"sk-estimator sk-toggleable\"><input class=\"sk-toggleable__control sk-hidden--visually\" id=\"8f96a980-339e-44b7-8c3c-80a97ade0374\" type=\"checkbox\" ><label class=\"sk-toggleable__label\" for=\"8f96a980-339e-44b7-8c3c-80a97ade0374\">IterativeImputer</label><div class=\"sk-toggleable__content\"><pre>IterativeImputer(random_state=42)</pre></div></div></div></div></div></div></div></div><div class=\"sk-parallel-item\"><div class=\"sk-item\"><div class=\"sk-label-container\"><div class=\"sk-label sk-toggleable\"><input class=\"sk-toggleable__control sk-hidden--visually\" id=\"b630557e-098a-45ba-bc61-e24677677d97\" type=\"checkbox\" ><label class=\"sk-toggleable__label\" for=\"b630557e-098a-45ba-bc61-e24677677d97\">pipeline-2</label><div class=\"sk-toggleable__content\"><pre>['condition', 'cylinders', 'fuel', 'title_status', 'transmission', 'manufacturer', 'state', 'type', 'paint_color']</pre></div></div></div><div class=\"sk-serial\"><div class=\"sk-item\"><div class=\"sk-serial\"><div class=\"sk-item\"><div class=\"sk-estimator sk-toggleable\"><input class=\"sk-toggleable__control sk-hidden--visually\" id=\"4b77ebea-a563-443d-9fe3-b4ecbdbaaf70\" type=\"checkbox\" ><label class=\"sk-toggleable__label\" for=\"4b77ebea-a563-443d-9fe3-b4ecbdbaaf70\">SimpleImputer</label><div class=\"sk-toggleable__content\"><pre>SimpleImputer(fill_value='missing', strategy='most_frequent')</pre></div></div></div><div class=\"sk-item\"><div class=\"sk-estimator sk-toggleable\"><input class=\"sk-toggleable__control sk-hidden--visually\" id=\"4516e0d0-131f-4c34-880b-95f1f724e472\" type=\"checkbox\" ><label class=\"sk-toggleable__label\" for=\"4516e0d0-131f-4c34-880b-95f1f724e472\">TargetEncoder</label><div class=\"sk-toggleable__content\"><pre>TargetEncoder()</pre></div></div></div></div></div></div></div></div><div class=\"sk-parallel-item\"><div class=\"sk-item\"><div class=\"sk-label-container\"><div class=\"sk-label sk-toggleable\"><input class=\"sk-toggleable__control sk-hidden--visually\" id=\"af3c932e-373f-4e1a-9add-8a0286d4f251\" type=\"checkbox\" ><label class=\"sk-toggleable__label\" for=\"af3c932e-373f-4e1a-9add-8a0286d4f251\">pipeline-3</label><div class=\"sk-toggleable__content\"><pre>['drive']</pre></div></div></div><div class=\"sk-serial\"><div class=\"sk-item\"><div class=\"sk-serial\"><div class=\"sk-item\"><div class=\"sk-estimator sk-toggleable\"><input class=\"sk-toggleable__control sk-hidden--visually\" id=\"4db66c0d-8fe6-475d-b392-bd73ff6af34c\" type=\"checkbox\" ><label class=\"sk-toggleable__label\" for=\"4db66c0d-8fe6-475d-b392-bd73ff6af34c\">SimpleImputer</label><div class=\"sk-toggleable__content\"><pre>SimpleImputer(fill_value='missing', strategy='most_frequent')</pre></div></div></div><div class=\"sk-item\"><div class=\"sk-estimator sk-toggleable\"><input class=\"sk-toggleable__control sk-hidden--visually\" id=\"3754a471-c906-471a-b75e-c6badc8d86ea\" type=\"checkbox\" ><label class=\"sk-toggleable__label\" for=\"3754a471-c906-471a-b75e-c6badc8d86ea\">OneHotEncoder</label><div class=\"sk-toggleable__content\"><pre>OneHotEncoder(drop='if_binary', sparse=False)</pre></div></div></div></div></div></div></div></div></div></div><div class=\"sk-item\"><div class=\"sk-estimator sk-toggleable\"><input class=\"sk-toggleable__control sk-hidden--visually\" id=\"3e66f179-111c-4a0e-8b1f-2963e92f12ca\" type=\"checkbox\" ><label class=\"sk-toggleable__label\" for=\"3e66f179-111c-4a0e-8b1f-2963e92f12ca\">LinearRegression</label><div class=\"sk-toggleable__content\"><pre>LinearRegression()</pre></div></div></div></div></div></div></div>"
      ],
      "text/plain": [
       "Pipeline(steps=[('preprocessor',\n",
       "                 ColumnTransformer(transformers=[('pipeline-1',\n",
       "                                                  Pipeline(steps=[('imputer',\n",
       "                                                                   IterativeImputer(random_state=42))]),\n",
       "                                                  ['odometer', 'age']),\n",
       "                                                 ('pipeline-2',\n",
       "                                                  Pipeline(steps=[('imputer',\n",
       "                                                                   SimpleImputer(fill_value='missing',\n",
       "                                                                                 strategy='most_frequent')),\n",
       "                                                                  ('target',\n",
       "                                                                   TargetEncoder())]),\n",
       "                                                  ['condition', 'cylinders',\n",
       "                                                   'fuel', 'title_status',\n",
       "                                                   'transmission',\n",
       "                                                   'manufacturer', 'state',\n",
       "                                                   'type', 'paint_color']),\n",
       "                                                 ('pipeline-3',\n",
       "                                                  Pipeline(steps=[('imputer',\n",
       "                                                                   SimpleImputer(fill_value='missing',\n",
       "                                                                                 strategy='most_frequent')),\n",
       "                                                                  ('onehot',\n",
       "                                                                   OneHotEncoder(drop='if_binary',\n",
       "                                                                                 sparse=False))]),\n",
       "                                                  ['drive'])])),\n",
       "                ('regression', LinearRegression())])"
      ]
     },
     "execution_count": 718,
     "metadata": {},
     "output_type": "execute_result"
    }
   ],
   "source": [
    "pipe = Pipeline([('preprocessor', preprocessor),\n",
    "                 ('regression', LinearRegression())\n",
    "               ])\n",
    "pipe.fit(X_train, y_train)\n",
    "mse_train2 = mean_squared_error(y_train, pipe.predict(X_train))\n",
    "mse_test2 = mean_squared_error(y_test, pipe.predict(X_test))\n",
    "print('Linear Reg MSE train:', mse_train2)\n",
    "print('Linear Reg MSE test :', mse_test2)\n",
    "print('The R2 score is:', pipe.score(X_test,y_test))\n",
    "pipe"
   ]
  },
  {
   "cell_type": "markdown",
   "metadata": {},
   "source": [
    "Ridge"
   ]
  },
  {
   "cell_type": "code",
   "execution_count": 719,
   "metadata": {},
   "outputs": [
    {
     "name": "stdout",
     "output_type": "stream",
     "text": [
      "Ridge MSE train: 74317408.04588023\n",
      "Ridge MSE test : 74916484.52984537\n",
      "The R2 score is: 0.5427530545048656\n"
     ]
    },
    {
     "data": {
      "text/html": [
       "<style>#sk-c6e5fe00-4ed7-4e66-b0d7-7c7c4dd24912 {color: black;background-color: white;}#sk-c6e5fe00-4ed7-4e66-b0d7-7c7c4dd24912 pre{padding: 0;}#sk-c6e5fe00-4ed7-4e66-b0d7-7c7c4dd24912 div.sk-toggleable {background-color: white;}#sk-c6e5fe00-4ed7-4e66-b0d7-7c7c4dd24912 label.sk-toggleable__label {cursor: pointer;display: block;width: 100%;margin-bottom: 0;padding: 0.2em 0.3em;box-sizing: border-box;text-align: center;}#sk-c6e5fe00-4ed7-4e66-b0d7-7c7c4dd24912 div.sk-toggleable__content {max-height: 0;max-width: 0;overflow: hidden;text-align: left;background-color: #f0f8ff;}#sk-c6e5fe00-4ed7-4e66-b0d7-7c7c4dd24912 div.sk-toggleable__content pre {margin: 0.2em;color: black;border-radius: 0.25em;background-color: #f0f8ff;}#sk-c6e5fe00-4ed7-4e66-b0d7-7c7c4dd24912 input.sk-toggleable__control:checked~div.sk-toggleable__content {max-height: 200px;max-width: 100%;overflow: auto;}#sk-c6e5fe00-4ed7-4e66-b0d7-7c7c4dd24912 div.sk-estimator input.sk-toggleable__control:checked~label.sk-toggleable__label {background-color: #d4ebff;}#sk-c6e5fe00-4ed7-4e66-b0d7-7c7c4dd24912 div.sk-label input.sk-toggleable__control:checked~label.sk-toggleable__label {background-color: #d4ebff;}#sk-c6e5fe00-4ed7-4e66-b0d7-7c7c4dd24912 input.sk-hidden--visually {border: 0;clip: rect(1px 1px 1px 1px);clip: rect(1px, 1px, 1px, 1px);height: 1px;margin: -1px;overflow: hidden;padding: 0;position: absolute;width: 1px;}#sk-c6e5fe00-4ed7-4e66-b0d7-7c7c4dd24912 div.sk-estimator {font-family: monospace;background-color: #f0f8ff;margin: 0.25em 0.25em;border: 1px dotted black;border-radius: 0.25em;box-sizing: border-box;}#sk-c6e5fe00-4ed7-4e66-b0d7-7c7c4dd24912 div.sk-estimator:hover {background-color: #d4ebff;}#sk-c6e5fe00-4ed7-4e66-b0d7-7c7c4dd24912 div.sk-parallel-item::after {content: \"\";width: 100%;border-bottom: 1px solid gray;flex-grow: 1;}#sk-c6e5fe00-4ed7-4e66-b0d7-7c7c4dd24912 div.sk-label:hover label.sk-toggleable__label {background-color: #d4ebff;}#sk-c6e5fe00-4ed7-4e66-b0d7-7c7c4dd24912 div.sk-serial::before {content: \"\";position: absolute;border-left: 1px solid gray;box-sizing: border-box;top: 2em;bottom: 0;left: 50%;}#sk-c6e5fe00-4ed7-4e66-b0d7-7c7c4dd24912 div.sk-serial {display: flex;flex-direction: column;align-items: center;background-color: white;}#sk-c6e5fe00-4ed7-4e66-b0d7-7c7c4dd24912 div.sk-item {z-index: 1;}#sk-c6e5fe00-4ed7-4e66-b0d7-7c7c4dd24912 div.sk-parallel {display: flex;align-items: stretch;justify-content: center;background-color: white;}#sk-c6e5fe00-4ed7-4e66-b0d7-7c7c4dd24912 div.sk-parallel-item {display: flex;flex-direction: column;position: relative;background-color: white;}#sk-c6e5fe00-4ed7-4e66-b0d7-7c7c4dd24912 div.sk-parallel-item:first-child::after {align-self: flex-end;width: 50%;}#sk-c6e5fe00-4ed7-4e66-b0d7-7c7c4dd24912 div.sk-parallel-item:last-child::after {align-self: flex-start;width: 50%;}#sk-c6e5fe00-4ed7-4e66-b0d7-7c7c4dd24912 div.sk-parallel-item:only-child::after {width: 0;}#sk-c6e5fe00-4ed7-4e66-b0d7-7c7c4dd24912 div.sk-dashed-wrapped {border: 1px dashed gray;margin: 0.2em;box-sizing: border-box;padding-bottom: 0.1em;background-color: white;position: relative;}#sk-c6e5fe00-4ed7-4e66-b0d7-7c7c4dd24912 div.sk-label label {font-family: monospace;font-weight: bold;background-color: white;display: inline-block;line-height: 1.2em;}#sk-c6e5fe00-4ed7-4e66-b0d7-7c7c4dd24912 div.sk-label-container {position: relative;z-index: 2;text-align: center;}#sk-c6e5fe00-4ed7-4e66-b0d7-7c7c4dd24912 div.sk-container {display: inline-block;position: relative;}</style><div id=\"sk-c6e5fe00-4ed7-4e66-b0d7-7c7c4dd24912\" class\"sk-top-container\"><div class=\"sk-container\"><div class=\"sk-item sk-dashed-wrapped\"><div class=\"sk-label-container\"><div class=\"sk-label sk-toggleable\"><input class=\"sk-toggleable__control sk-hidden--visually\" id=\"edd25a68-e3a4-4783-afcd-d26fb8e4017f\" type=\"checkbox\" ><label class=\"sk-toggleable__label\" for=\"edd25a68-e3a4-4783-afcd-d26fb8e4017f\">Pipeline</label><div class=\"sk-toggleable__content\"><pre>Pipeline(steps=[('preprocessor',\n",
       "                 ColumnTransformer(transformers=[('pipeline-1',\n",
       "                                                  Pipeline(steps=[('imputer',\n",
       "                                                                   IterativeImputer(random_state=42))]),\n",
       "                                                  ['odometer', 'age']),\n",
       "                                                 ('pipeline-2',\n",
       "                                                  Pipeline(steps=[('imputer',\n",
       "                                                                   SimpleImputer(fill_value='missing',\n",
       "                                                                                 strategy='most_frequent')),\n",
       "                                                                  ('target',\n",
       "                                                                   TargetEncoder())]),\n",
       "                                                  ['condition', 'cylinders',\n",
       "                                                   'fuel', 'title_status',\n",
       "                                                   'transmission',\n",
       "                                                   'manufacturer', 'state',\n",
       "                                                   'type', 'paint_color']),\n",
       "                                                 ('pipeline-3',\n",
       "                                                  Pipeline(steps=[('imputer',\n",
       "                                                                   SimpleImputer(fill_value='missing',\n",
       "                                                                                 strategy='most_frequent')),\n",
       "                                                                  ('onehot',\n",
       "                                                                   OneHotEncoder(drop='if_binary',\n",
       "                                                                                 sparse=False))]),\n",
       "                                                  ['drive'])])),\n",
       "                ('regressor', Ridge())])</pre></div></div></div><div class=\"sk-serial\"><div class=\"sk-item sk-dashed-wrapped\"><div class=\"sk-label-container\"><div class=\"sk-label sk-toggleable\"><input class=\"sk-toggleable__control sk-hidden--visually\" id=\"ade32c8d-db68-4b87-b04b-c50541f858e1\" type=\"checkbox\" ><label class=\"sk-toggleable__label\" for=\"ade32c8d-db68-4b87-b04b-c50541f858e1\">preprocessor: ColumnTransformer</label><div class=\"sk-toggleable__content\"><pre>ColumnTransformer(transformers=[('pipeline-1',\n",
       "                                 Pipeline(steps=[('imputer',\n",
       "                                                  IterativeImputer(random_state=42))]),\n",
       "                                 ['odometer', 'age']),\n",
       "                                ('pipeline-2',\n",
       "                                 Pipeline(steps=[('imputer',\n",
       "                                                  SimpleImputer(fill_value='missing',\n",
       "                                                                strategy='most_frequent')),\n",
       "                                                 ('target', TargetEncoder())]),\n",
       "                                 ['condition', 'cylinders', 'fuel',\n",
       "                                  'title_status', 'transmission',\n",
       "                                  'manufacturer', 'state', 'type',\n",
       "                                  'paint_color']),\n",
       "                                ('pipeline-3',\n",
       "                                 Pipeline(steps=[('imputer',\n",
       "                                                  SimpleImputer(fill_value='missing',\n",
       "                                                                strategy='most_frequent')),\n",
       "                                                 ('onehot',\n",
       "                                                  OneHotEncoder(drop='if_binary',\n",
       "                                                                sparse=False))]),\n",
       "                                 ['drive'])])</pre></div></div></div><div class=\"sk-parallel\"><div class=\"sk-parallel-item\"><div class=\"sk-item\"><div class=\"sk-label-container\"><div class=\"sk-label sk-toggleable\"><input class=\"sk-toggleable__control sk-hidden--visually\" id=\"ec135217-fe2f-49c0-917b-fc44da4ad0ae\" type=\"checkbox\" ><label class=\"sk-toggleable__label\" for=\"ec135217-fe2f-49c0-917b-fc44da4ad0ae\">pipeline-1</label><div class=\"sk-toggleable__content\"><pre>['odometer', 'age']</pre></div></div></div><div class=\"sk-serial\"><div class=\"sk-item\"><div class=\"sk-serial\"><div class=\"sk-item\"><div class=\"sk-estimator sk-toggleable\"><input class=\"sk-toggleable__control sk-hidden--visually\" id=\"a67caab3-be27-4594-aed1-3edd97e32371\" type=\"checkbox\" ><label class=\"sk-toggleable__label\" for=\"a67caab3-be27-4594-aed1-3edd97e32371\">IterativeImputer</label><div class=\"sk-toggleable__content\"><pre>IterativeImputer(random_state=42)</pre></div></div></div></div></div></div></div></div><div class=\"sk-parallel-item\"><div class=\"sk-item\"><div class=\"sk-label-container\"><div class=\"sk-label sk-toggleable\"><input class=\"sk-toggleable__control sk-hidden--visually\" id=\"af5a3179-f7f5-4362-943b-78fd6ab3ba04\" type=\"checkbox\" ><label class=\"sk-toggleable__label\" for=\"af5a3179-f7f5-4362-943b-78fd6ab3ba04\">pipeline-2</label><div class=\"sk-toggleable__content\"><pre>['condition', 'cylinders', 'fuel', 'title_status', 'transmission', 'manufacturer', 'state', 'type', 'paint_color']</pre></div></div></div><div class=\"sk-serial\"><div class=\"sk-item\"><div class=\"sk-serial\"><div class=\"sk-item\"><div class=\"sk-estimator sk-toggleable\"><input class=\"sk-toggleable__control sk-hidden--visually\" id=\"3ff4b4ab-9c0a-425e-ae36-7b6653d15c4b\" type=\"checkbox\" ><label class=\"sk-toggleable__label\" for=\"3ff4b4ab-9c0a-425e-ae36-7b6653d15c4b\">SimpleImputer</label><div class=\"sk-toggleable__content\"><pre>SimpleImputer(fill_value='missing', strategy='most_frequent')</pre></div></div></div><div class=\"sk-item\"><div class=\"sk-estimator sk-toggleable\"><input class=\"sk-toggleable__control sk-hidden--visually\" id=\"6ebdd894-ad84-45ab-a4cd-ee7a5094ed40\" type=\"checkbox\" ><label class=\"sk-toggleable__label\" for=\"6ebdd894-ad84-45ab-a4cd-ee7a5094ed40\">TargetEncoder</label><div class=\"sk-toggleable__content\"><pre>TargetEncoder()</pre></div></div></div></div></div></div></div></div><div class=\"sk-parallel-item\"><div class=\"sk-item\"><div class=\"sk-label-container\"><div class=\"sk-label sk-toggleable\"><input class=\"sk-toggleable__control sk-hidden--visually\" id=\"3e03f3ca-b586-4169-ae3a-c75997c85566\" type=\"checkbox\" ><label class=\"sk-toggleable__label\" for=\"3e03f3ca-b586-4169-ae3a-c75997c85566\">pipeline-3</label><div class=\"sk-toggleable__content\"><pre>['drive']</pre></div></div></div><div class=\"sk-serial\"><div class=\"sk-item\"><div class=\"sk-serial\"><div class=\"sk-item\"><div class=\"sk-estimator sk-toggleable\"><input class=\"sk-toggleable__control sk-hidden--visually\" id=\"523c45a5-1216-4894-84bd-d61886421109\" type=\"checkbox\" ><label class=\"sk-toggleable__label\" for=\"523c45a5-1216-4894-84bd-d61886421109\">SimpleImputer</label><div class=\"sk-toggleable__content\"><pre>SimpleImputer(fill_value='missing', strategy='most_frequent')</pre></div></div></div><div class=\"sk-item\"><div class=\"sk-estimator sk-toggleable\"><input class=\"sk-toggleable__control sk-hidden--visually\" id=\"3c91cc21-1b49-4d36-a567-dda422550c0b\" type=\"checkbox\" ><label class=\"sk-toggleable__label\" for=\"3c91cc21-1b49-4d36-a567-dda422550c0b\">OneHotEncoder</label><div class=\"sk-toggleable__content\"><pre>OneHotEncoder(drop='if_binary', sparse=False)</pre></div></div></div></div></div></div></div></div></div></div><div class=\"sk-item\"><div class=\"sk-estimator sk-toggleable\"><input class=\"sk-toggleable__control sk-hidden--visually\" id=\"b4df5dca-d55a-48db-ba96-6274bb55f713\" type=\"checkbox\" ><label class=\"sk-toggleable__label\" for=\"b4df5dca-d55a-48db-ba96-6274bb55f713\">Ridge</label><div class=\"sk-toggleable__content\"><pre>Ridge()</pre></div></div></div></div></div></div></div>"
      ],
      "text/plain": [
       "Pipeline(steps=[('preprocessor',\n",
       "                 ColumnTransformer(transformers=[('pipeline-1',\n",
       "                                                  Pipeline(steps=[('imputer',\n",
       "                                                                   IterativeImputer(random_state=42))]),\n",
       "                                                  ['odometer', 'age']),\n",
       "                                                 ('pipeline-2',\n",
       "                                                  Pipeline(steps=[('imputer',\n",
       "                                                                   SimpleImputer(fill_value='missing',\n",
       "                                                                                 strategy='most_frequent')),\n",
       "                                                                  ('target',\n",
       "                                                                   TargetEncoder())]),\n",
       "                                                  ['condition', 'cylinders',\n",
       "                                                   'fuel', 'title_status',\n",
       "                                                   'transmission',\n",
       "                                                   'manufacturer', 'state',\n",
       "                                                   'type', 'paint_color']),\n",
       "                                                 ('pipeline-3',\n",
       "                                                  Pipeline(steps=[('imputer',\n",
       "                                                                   SimpleImputer(fill_value='missing',\n",
       "                                                                                 strategy='most_frequent')),\n",
       "                                                                  ('onehot',\n",
       "                                                                   OneHotEncoder(drop='if_binary',\n",
       "                                                                                 sparse=False))]),\n",
       "                                                  ['drive'])])),\n",
       "                ('regressor', Ridge())])"
      ]
     },
     "execution_count": 719,
     "metadata": {},
     "output_type": "execute_result"
    }
   ],
   "source": [
    "pipe0 = Pipeline([('preprocessor', preprocessor),\n",
    "                  ('regressor', Ridge())])\n",
    "pipe0.fit(X_train, y_train)\n",
    "mse_train2 = mean_squared_error(y_train, pipe0.predict(X_train))\n",
    "mse_test2 = mean_squared_error(y_test, pipe0.predict(X_test))\n",
    "print('Ridge MSE train:', mse_train2)\n",
    "print('Ridge MSE test :', mse_test2)\n",
    "print('The R2 score is:', pipe0.score(X_test,y_test))\n",
    "pipe0"
   ]
  },
  {
   "cell_type": "markdown",
   "metadata": {},
   "source": [
    "Lasso for feature Selection and apply to Linear Regression"
   ]
  },
  {
   "cell_type": "code",
   "execution_count": 720,
   "metadata": {},
   "outputs": [
    {
     "name": "stdout",
     "output_type": "stream",
     "text": [
      "SFS with LASSO MSE train: 86509276.415559\n",
      "SFS with LASSO MSE test : 87480537.46430765\n",
      "The R2 score is: 0.4660693331133017\n"
     ]
    },
    {
     "data": {
      "text/html": [
       "<style>#sk-b7e40be1-3c4d-4817-ba04-f1387e23177d {color: black;background-color: white;}#sk-b7e40be1-3c4d-4817-ba04-f1387e23177d pre{padding: 0;}#sk-b7e40be1-3c4d-4817-ba04-f1387e23177d div.sk-toggleable {background-color: white;}#sk-b7e40be1-3c4d-4817-ba04-f1387e23177d label.sk-toggleable__label {cursor: pointer;display: block;width: 100%;margin-bottom: 0;padding: 0.2em 0.3em;box-sizing: border-box;text-align: center;}#sk-b7e40be1-3c4d-4817-ba04-f1387e23177d div.sk-toggleable__content {max-height: 0;max-width: 0;overflow: hidden;text-align: left;background-color: #f0f8ff;}#sk-b7e40be1-3c4d-4817-ba04-f1387e23177d div.sk-toggleable__content pre {margin: 0.2em;color: black;border-radius: 0.25em;background-color: #f0f8ff;}#sk-b7e40be1-3c4d-4817-ba04-f1387e23177d input.sk-toggleable__control:checked~div.sk-toggleable__content {max-height: 200px;max-width: 100%;overflow: auto;}#sk-b7e40be1-3c4d-4817-ba04-f1387e23177d div.sk-estimator input.sk-toggleable__control:checked~label.sk-toggleable__label {background-color: #d4ebff;}#sk-b7e40be1-3c4d-4817-ba04-f1387e23177d div.sk-label input.sk-toggleable__control:checked~label.sk-toggleable__label {background-color: #d4ebff;}#sk-b7e40be1-3c4d-4817-ba04-f1387e23177d input.sk-hidden--visually {border: 0;clip: rect(1px 1px 1px 1px);clip: rect(1px, 1px, 1px, 1px);height: 1px;margin: -1px;overflow: hidden;padding: 0;position: absolute;width: 1px;}#sk-b7e40be1-3c4d-4817-ba04-f1387e23177d div.sk-estimator {font-family: monospace;background-color: #f0f8ff;margin: 0.25em 0.25em;border: 1px dotted black;border-radius: 0.25em;box-sizing: border-box;}#sk-b7e40be1-3c4d-4817-ba04-f1387e23177d div.sk-estimator:hover {background-color: #d4ebff;}#sk-b7e40be1-3c4d-4817-ba04-f1387e23177d div.sk-parallel-item::after {content: \"\";width: 100%;border-bottom: 1px solid gray;flex-grow: 1;}#sk-b7e40be1-3c4d-4817-ba04-f1387e23177d div.sk-label:hover label.sk-toggleable__label {background-color: #d4ebff;}#sk-b7e40be1-3c4d-4817-ba04-f1387e23177d div.sk-serial::before {content: \"\";position: absolute;border-left: 1px solid gray;box-sizing: border-box;top: 2em;bottom: 0;left: 50%;}#sk-b7e40be1-3c4d-4817-ba04-f1387e23177d div.sk-serial {display: flex;flex-direction: column;align-items: center;background-color: white;}#sk-b7e40be1-3c4d-4817-ba04-f1387e23177d div.sk-item {z-index: 1;}#sk-b7e40be1-3c4d-4817-ba04-f1387e23177d div.sk-parallel {display: flex;align-items: stretch;justify-content: center;background-color: white;}#sk-b7e40be1-3c4d-4817-ba04-f1387e23177d div.sk-parallel-item {display: flex;flex-direction: column;position: relative;background-color: white;}#sk-b7e40be1-3c4d-4817-ba04-f1387e23177d div.sk-parallel-item:first-child::after {align-self: flex-end;width: 50%;}#sk-b7e40be1-3c4d-4817-ba04-f1387e23177d div.sk-parallel-item:last-child::after {align-self: flex-start;width: 50%;}#sk-b7e40be1-3c4d-4817-ba04-f1387e23177d div.sk-parallel-item:only-child::after {width: 0;}#sk-b7e40be1-3c4d-4817-ba04-f1387e23177d div.sk-dashed-wrapped {border: 1px dashed gray;margin: 0.2em;box-sizing: border-box;padding-bottom: 0.1em;background-color: white;position: relative;}#sk-b7e40be1-3c4d-4817-ba04-f1387e23177d div.sk-label label {font-family: monospace;font-weight: bold;background-color: white;display: inline-block;line-height: 1.2em;}#sk-b7e40be1-3c4d-4817-ba04-f1387e23177d div.sk-label-container {position: relative;z-index: 2;text-align: center;}#sk-b7e40be1-3c4d-4817-ba04-f1387e23177d div.sk-container {display: inline-block;position: relative;}</style><div id=\"sk-b7e40be1-3c4d-4817-ba04-f1387e23177d\" class\"sk-top-container\"><div class=\"sk-container\"><div class=\"sk-item sk-dashed-wrapped\"><div class=\"sk-label-container\"><div class=\"sk-label sk-toggleable\"><input class=\"sk-toggleable__control sk-hidden--visually\" id=\"dee1ed6e-eb62-47a9-8d26-abafaf82ba78\" type=\"checkbox\" ><label class=\"sk-toggleable__label\" for=\"dee1ed6e-eb62-47a9-8d26-abafaf82ba78\">Pipeline</label><div class=\"sk-toggleable__content\"><pre>Pipeline(steps=[('preprocessor',\n",
       "                 ColumnTransformer(transformers=[('pipeline-1',\n",
       "                                                  Pipeline(steps=[('imputer',\n",
       "                                                                   IterativeImputer(random_state=42))]),\n",
       "                                                  ['odometer', 'age']),\n",
       "                                                 ('pipeline-2',\n",
       "                                                  Pipeline(steps=[('imputer',\n",
       "                                                                   SimpleImputer(fill_value='missing',\n",
       "                                                                                 strategy='most_frequent')),\n",
       "                                                                  ('target',\n",
       "                                                                   TargetEncoder())]),\n",
       "                                                  ['condition', 'cylinders',\n",
       "                                                   'fuel', 'title_status',\n",
       "                                                   'transmission',\n",
       "                                                   'manufacturer', 'state',\n",
       "                                                   'type', 'paint_color']),\n",
       "                                                 ('pipeline-3',\n",
       "                                                  Pipeline(steps=[('imputer',\n",
       "                                                                   SimpleImputer(fill_value='missing',\n",
       "                                                                                 strategy='most_frequent')),\n",
       "                                                                  ('onehot',\n",
       "                                                                   OneHotEncoder(drop='if_binary',\n",
       "                                                                                 sparse=False))]),\n",
       "                                                  ['drive'])])),\n",
       "                ('sfs',\n",
       "                 SequentialFeatureSelector(estimator=Lasso(),\n",
       "                                           n_features_to_select=4)),\n",
       "                ('regression', LinearRegression())])</pre></div></div></div><div class=\"sk-serial\"><div class=\"sk-item sk-dashed-wrapped\"><div class=\"sk-label-container\"><div class=\"sk-label sk-toggleable\"><input class=\"sk-toggleable__control sk-hidden--visually\" id=\"c32e2e76-571a-4b0a-af17-8a1914966c29\" type=\"checkbox\" ><label class=\"sk-toggleable__label\" for=\"c32e2e76-571a-4b0a-af17-8a1914966c29\">preprocessor: ColumnTransformer</label><div class=\"sk-toggleable__content\"><pre>ColumnTransformer(transformers=[('pipeline-1',\n",
       "                                 Pipeline(steps=[('imputer',\n",
       "                                                  IterativeImputer(random_state=42))]),\n",
       "                                 ['odometer', 'age']),\n",
       "                                ('pipeline-2',\n",
       "                                 Pipeline(steps=[('imputer',\n",
       "                                                  SimpleImputer(fill_value='missing',\n",
       "                                                                strategy='most_frequent')),\n",
       "                                                 ('target', TargetEncoder())]),\n",
       "                                 ['condition', 'cylinders', 'fuel',\n",
       "                                  'title_status', 'transmission',\n",
       "                                  'manufacturer', 'state', 'type',\n",
       "                                  'paint_color']),\n",
       "                                ('pipeline-3',\n",
       "                                 Pipeline(steps=[('imputer',\n",
       "                                                  SimpleImputer(fill_value='missing',\n",
       "                                                                strategy='most_frequent')),\n",
       "                                                 ('onehot',\n",
       "                                                  OneHotEncoder(drop='if_binary',\n",
       "                                                                sparse=False))]),\n",
       "                                 ['drive'])])</pre></div></div></div><div class=\"sk-parallel\"><div class=\"sk-parallel-item\"><div class=\"sk-item\"><div class=\"sk-label-container\"><div class=\"sk-label sk-toggleable\"><input class=\"sk-toggleable__control sk-hidden--visually\" id=\"bc42e5f6-f1d0-4b4c-b776-f7263e5f1768\" type=\"checkbox\" ><label class=\"sk-toggleable__label\" for=\"bc42e5f6-f1d0-4b4c-b776-f7263e5f1768\">pipeline-1</label><div class=\"sk-toggleable__content\"><pre>['odometer', 'age']</pre></div></div></div><div class=\"sk-serial\"><div class=\"sk-item\"><div class=\"sk-serial\"><div class=\"sk-item\"><div class=\"sk-estimator sk-toggleable\"><input class=\"sk-toggleable__control sk-hidden--visually\" id=\"b056a9a7-a59b-48db-bd7a-f324ac41b456\" type=\"checkbox\" ><label class=\"sk-toggleable__label\" for=\"b056a9a7-a59b-48db-bd7a-f324ac41b456\">IterativeImputer</label><div class=\"sk-toggleable__content\"><pre>IterativeImputer(random_state=42)</pre></div></div></div></div></div></div></div></div><div class=\"sk-parallel-item\"><div class=\"sk-item\"><div class=\"sk-label-container\"><div class=\"sk-label sk-toggleable\"><input class=\"sk-toggleable__control sk-hidden--visually\" id=\"c71c8298-1bea-42ef-be8d-93d5ef9cc6cb\" type=\"checkbox\" ><label class=\"sk-toggleable__label\" for=\"c71c8298-1bea-42ef-be8d-93d5ef9cc6cb\">pipeline-2</label><div class=\"sk-toggleable__content\"><pre>['condition', 'cylinders', 'fuel', 'title_status', 'transmission', 'manufacturer', 'state', 'type', 'paint_color']</pre></div></div></div><div class=\"sk-serial\"><div class=\"sk-item\"><div class=\"sk-serial\"><div class=\"sk-item\"><div class=\"sk-estimator sk-toggleable\"><input class=\"sk-toggleable__control sk-hidden--visually\" id=\"c2f5accd-595f-4b28-a72f-5b6719f2953c\" type=\"checkbox\" ><label class=\"sk-toggleable__label\" for=\"c2f5accd-595f-4b28-a72f-5b6719f2953c\">SimpleImputer</label><div class=\"sk-toggleable__content\"><pre>SimpleImputer(fill_value='missing', strategy='most_frequent')</pre></div></div></div><div class=\"sk-item\"><div class=\"sk-estimator sk-toggleable\"><input class=\"sk-toggleable__control sk-hidden--visually\" id=\"5c24faf0-1846-493f-850b-4e7c2174eaab\" type=\"checkbox\" ><label class=\"sk-toggleable__label\" for=\"5c24faf0-1846-493f-850b-4e7c2174eaab\">TargetEncoder</label><div class=\"sk-toggleable__content\"><pre>TargetEncoder()</pre></div></div></div></div></div></div></div></div><div class=\"sk-parallel-item\"><div class=\"sk-item\"><div class=\"sk-label-container\"><div class=\"sk-label sk-toggleable\"><input class=\"sk-toggleable__control sk-hidden--visually\" id=\"6f8fb711-492e-4e4b-b669-5a49c94b76ba\" type=\"checkbox\" ><label class=\"sk-toggleable__label\" for=\"6f8fb711-492e-4e4b-b669-5a49c94b76ba\">pipeline-3</label><div class=\"sk-toggleable__content\"><pre>['drive']</pre></div></div></div><div class=\"sk-serial\"><div class=\"sk-item\"><div class=\"sk-serial\"><div class=\"sk-item\"><div class=\"sk-estimator sk-toggleable\"><input class=\"sk-toggleable__control sk-hidden--visually\" id=\"a357503d-3806-4f24-a9aa-97237341dad5\" type=\"checkbox\" ><label class=\"sk-toggleable__label\" for=\"a357503d-3806-4f24-a9aa-97237341dad5\">SimpleImputer</label><div class=\"sk-toggleable__content\"><pre>SimpleImputer(fill_value='missing', strategy='most_frequent')</pre></div></div></div><div class=\"sk-item\"><div class=\"sk-estimator sk-toggleable\"><input class=\"sk-toggleable__control sk-hidden--visually\" id=\"43679207-ea6e-41d8-8ab9-d0518079326f\" type=\"checkbox\" ><label class=\"sk-toggleable__label\" for=\"43679207-ea6e-41d8-8ab9-d0518079326f\">OneHotEncoder</label><div class=\"sk-toggleable__content\"><pre>OneHotEncoder(drop='if_binary', sparse=False)</pre></div></div></div></div></div></div></div></div></div></div><div class=\"sk-item sk-dashed-wrapped\"><div class=\"sk-label-container\"><div class=\"sk-label sk-toggleable\"><input class=\"sk-toggleable__control sk-hidden--visually\" id=\"359821cb-83b6-4487-952e-076264a64a8f\" type=\"checkbox\" ><label class=\"sk-toggleable__label\" for=\"359821cb-83b6-4487-952e-076264a64a8f\">sfs: SequentialFeatureSelector</label><div class=\"sk-toggleable__content\"><pre>SequentialFeatureSelector(estimator=Lasso(), n_features_to_select=4)</pre></div></div></div><div class=\"sk-parallel\"><div class=\"sk-parallel-item\"><div class=\"sk-item\"><div class=\"sk-serial\"><div class=\"sk-item\"><div class=\"sk-estimator sk-toggleable\"><input class=\"sk-toggleable__control sk-hidden--visually\" id=\"da758594-ad81-44ed-ad62-87bb9ed28cc9\" type=\"checkbox\" ><label class=\"sk-toggleable__label\" for=\"da758594-ad81-44ed-ad62-87bb9ed28cc9\">Lasso</label><div class=\"sk-toggleable__content\"><pre>Lasso()</pre></div></div></div></div></div></div></div></div><div class=\"sk-item\"><div class=\"sk-estimator sk-toggleable\"><input class=\"sk-toggleable__control sk-hidden--visually\" id=\"bc4f4232-1e2d-4bf0-a0bd-8c5e1d525287\" type=\"checkbox\" ><label class=\"sk-toggleable__label\" for=\"bc4f4232-1e2d-4bf0-a0bd-8c5e1d525287\">LinearRegression</label><div class=\"sk-toggleable__content\"><pre>LinearRegression()</pre></div></div></div></div></div></div></div>"
      ],
      "text/plain": [
       "Pipeline(steps=[('preprocessor',\n",
       "                 ColumnTransformer(transformers=[('pipeline-1',\n",
       "                                                  Pipeline(steps=[('imputer',\n",
       "                                                                   IterativeImputer(random_state=42))]),\n",
       "                                                  ['odometer', 'age']),\n",
       "                                                 ('pipeline-2',\n",
       "                                                  Pipeline(steps=[('imputer',\n",
       "                                                                   SimpleImputer(fill_value='missing',\n",
       "                                                                                 strategy='most_frequent')),\n",
       "                                                                  ('target',\n",
       "                                                                   TargetEncoder())]),\n",
       "                                                  ['condition', 'cylinders',\n",
       "                                                   'fuel', 'title_status',\n",
       "                                                   'transmission',\n",
       "                                                   'manufacturer', 'state',\n",
       "                                                   'type', 'paint_color']),\n",
       "                                                 ('pipeline-3',\n",
       "                                                  Pipeline(steps=[('imputer',\n",
       "                                                                   SimpleImputer(fill_value='missing',\n",
       "                                                                                 strategy='most_frequent')),\n",
       "                                                                  ('onehot',\n",
       "                                                                   OneHotEncoder(drop='if_binary',\n",
       "                                                                                 sparse=False))]),\n",
       "                                                  ['drive'])])),\n",
       "                ('sfs',\n",
       "                 SequentialFeatureSelector(estimator=Lasso(),\n",
       "                                           n_features_to_select=4)),\n",
       "                ('regression', LinearRegression())])"
      ]
     },
     "execution_count": 720,
     "metadata": {},
     "output_type": "execute_result"
    }
   ],
   "source": [
    "pipe1 = Pipeline([('preprocessor', preprocessor),\n",
    "    ('sfs', SequentialFeatureSelector(n_features_to_select = 4, estimator=Lasso())),\n",
    "    ('regression', LinearRegression())\n",
    "])\n",
    "pipe1.fit(X_train, y_train)\n",
    "mse_train2 = mean_squared_error(y_train, pipe1.predict(X_train))\n",
    "mse_test2 = mean_squared_error(y_test, pipe1.predict(X_test))\n",
    "print('SFS with LASSO MSE train:', mse_train2)\n",
    "print('SFS with LASSO MSE test :', mse_test2)\n",
    "print('The R2 score is:', pipe1.score(X_test,y_test))\n",
    "pipe1"
   ]
  },
  {
   "cell_type": "markdown",
   "metadata": {},
   "source": [
    "Lasso"
   ]
  },
  {
   "cell_type": "code",
   "execution_count": 760,
   "metadata": {},
   "outputs": [
    {
     "name": "stdout",
     "output_type": "stream",
     "text": [
      "[('manufacturer', -0.08565954935532444), ('condition', -299.0395439552127), ('cylinders', 0.18053630956340347), ('fuel', 0.42001410882243356), ('odometer', 0.560653513956075), ('title_status', 0.5468612051756497), ('transmission', 0.002997722385016729), ('drive', 0.4334041799648083), ('type', 0.5619418627103584), ('paint_color', 0.49985118949638685), ('state', 0.14106840331805068), ('age', -0.0)]\n",
      "The R2 score is: 0.5427507626877753\n"
     ]
    },
    {
     "data": {
      "text/html": [
       "<style>#sk-6dfb2eef-8e24-442a-af32-68a5e1dd53af {color: black;background-color: white;}#sk-6dfb2eef-8e24-442a-af32-68a5e1dd53af pre{padding: 0;}#sk-6dfb2eef-8e24-442a-af32-68a5e1dd53af div.sk-toggleable {background-color: white;}#sk-6dfb2eef-8e24-442a-af32-68a5e1dd53af label.sk-toggleable__label {cursor: pointer;display: block;width: 100%;margin-bottom: 0;padding: 0.2em 0.3em;box-sizing: border-box;text-align: center;}#sk-6dfb2eef-8e24-442a-af32-68a5e1dd53af div.sk-toggleable__content {max-height: 0;max-width: 0;overflow: hidden;text-align: left;background-color: #f0f8ff;}#sk-6dfb2eef-8e24-442a-af32-68a5e1dd53af div.sk-toggleable__content pre {margin: 0.2em;color: black;border-radius: 0.25em;background-color: #f0f8ff;}#sk-6dfb2eef-8e24-442a-af32-68a5e1dd53af input.sk-toggleable__control:checked~div.sk-toggleable__content {max-height: 200px;max-width: 100%;overflow: auto;}#sk-6dfb2eef-8e24-442a-af32-68a5e1dd53af div.sk-estimator input.sk-toggleable__control:checked~label.sk-toggleable__label {background-color: #d4ebff;}#sk-6dfb2eef-8e24-442a-af32-68a5e1dd53af div.sk-label input.sk-toggleable__control:checked~label.sk-toggleable__label {background-color: #d4ebff;}#sk-6dfb2eef-8e24-442a-af32-68a5e1dd53af input.sk-hidden--visually {border: 0;clip: rect(1px 1px 1px 1px);clip: rect(1px, 1px, 1px, 1px);height: 1px;margin: -1px;overflow: hidden;padding: 0;position: absolute;width: 1px;}#sk-6dfb2eef-8e24-442a-af32-68a5e1dd53af div.sk-estimator {font-family: monospace;background-color: #f0f8ff;margin: 0.25em 0.25em;border: 1px dotted black;border-radius: 0.25em;box-sizing: border-box;}#sk-6dfb2eef-8e24-442a-af32-68a5e1dd53af div.sk-estimator:hover {background-color: #d4ebff;}#sk-6dfb2eef-8e24-442a-af32-68a5e1dd53af div.sk-parallel-item::after {content: \"\";width: 100%;border-bottom: 1px solid gray;flex-grow: 1;}#sk-6dfb2eef-8e24-442a-af32-68a5e1dd53af div.sk-label:hover label.sk-toggleable__label {background-color: #d4ebff;}#sk-6dfb2eef-8e24-442a-af32-68a5e1dd53af div.sk-serial::before {content: \"\";position: absolute;border-left: 1px solid gray;box-sizing: border-box;top: 2em;bottom: 0;left: 50%;}#sk-6dfb2eef-8e24-442a-af32-68a5e1dd53af div.sk-serial {display: flex;flex-direction: column;align-items: center;background-color: white;}#sk-6dfb2eef-8e24-442a-af32-68a5e1dd53af div.sk-item {z-index: 1;}#sk-6dfb2eef-8e24-442a-af32-68a5e1dd53af div.sk-parallel {display: flex;align-items: stretch;justify-content: center;background-color: white;}#sk-6dfb2eef-8e24-442a-af32-68a5e1dd53af div.sk-parallel-item {display: flex;flex-direction: column;position: relative;background-color: white;}#sk-6dfb2eef-8e24-442a-af32-68a5e1dd53af div.sk-parallel-item:first-child::after {align-self: flex-end;width: 50%;}#sk-6dfb2eef-8e24-442a-af32-68a5e1dd53af div.sk-parallel-item:last-child::after {align-self: flex-start;width: 50%;}#sk-6dfb2eef-8e24-442a-af32-68a5e1dd53af div.sk-parallel-item:only-child::after {width: 0;}#sk-6dfb2eef-8e24-442a-af32-68a5e1dd53af div.sk-dashed-wrapped {border: 1px dashed gray;margin: 0.2em;box-sizing: border-box;padding-bottom: 0.1em;background-color: white;position: relative;}#sk-6dfb2eef-8e24-442a-af32-68a5e1dd53af div.sk-label label {font-family: monospace;font-weight: bold;background-color: white;display: inline-block;line-height: 1.2em;}#sk-6dfb2eef-8e24-442a-af32-68a5e1dd53af div.sk-label-container {position: relative;z-index: 2;text-align: center;}#sk-6dfb2eef-8e24-442a-af32-68a5e1dd53af div.sk-container {display: inline-block;position: relative;}</style><div id=\"sk-6dfb2eef-8e24-442a-af32-68a5e1dd53af\" class\"sk-top-container\"><div class=\"sk-container\"><div class=\"sk-item sk-dashed-wrapped\"><div class=\"sk-label-container\"><div class=\"sk-label sk-toggleable\"><input class=\"sk-toggleable__control sk-hidden--visually\" id=\"77dfb040-fb1e-4b42-8c5c-8bd50aaac0c1\" type=\"checkbox\" ><label class=\"sk-toggleable__label\" for=\"77dfb040-fb1e-4b42-8c5c-8bd50aaac0c1\">Pipeline</label><div class=\"sk-toggleable__content\"><pre>Pipeline(steps=[('preprocessor',\n",
       "                 ColumnTransformer(transformers=[('pipeline-1',\n",
       "                                                  Pipeline(steps=[('imputer',\n",
       "                                                                   IterativeImputer(random_state=42))]),\n",
       "                                                  ['odometer', 'age']),\n",
       "                                                 ('pipeline-2',\n",
       "                                                  Pipeline(steps=[('imputer',\n",
       "                                                                   SimpleImputer(fill_value='missing',\n",
       "                                                                                 strategy='most_frequent')),\n",
       "                                                                  ('target',\n",
       "                                                                   TargetEncoder())]),\n",
       "                                                  ['condition', 'cylinders',\n",
       "                                                   'fuel', 'title_status',\n",
       "                                                   'transmission',\n",
       "                                                   'manufacturer', 'state',\n",
       "                                                   'type', 'paint_color']),\n",
       "                                                 ('pipeline-3',\n",
       "                                                  Pipeline(steps=[('imputer',\n",
       "                                                                   SimpleImputer(fill_value='missing',\n",
       "                                                                                 strategy='most_frequent')),\n",
       "                                                                  ('onehot',\n",
       "                                                                   OneHotEncoder(drop='if_binary',\n",
       "                                                                                 sparse=False))]),\n",
       "                                                  ['drive'])])),\n",
       "                ('regressor', Lasso())])</pre></div></div></div><div class=\"sk-serial\"><div class=\"sk-item sk-dashed-wrapped\"><div class=\"sk-label-container\"><div class=\"sk-label sk-toggleable\"><input class=\"sk-toggleable__control sk-hidden--visually\" id=\"3e6d8e5c-c378-48b7-91cc-d59029a76154\" type=\"checkbox\" ><label class=\"sk-toggleable__label\" for=\"3e6d8e5c-c378-48b7-91cc-d59029a76154\">preprocessor: ColumnTransformer</label><div class=\"sk-toggleable__content\"><pre>ColumnTransformer(transformers=[('pipeline-1',\n",
       "                                 Pipeline(steps=[('imputer',\n",
       "                                                  IterativeImputer(random_state=42))]),\n",
       "                                 ['odometer', 'age']),\n",
       "                                ('pipeline-2',\n",
       "                                 Pipeline(steps=[('imputer',\n",
       "                                                  SimpleImputer(fill_value='missing',\n",
       "                                                                strategy='most_frequent')),\n",
       "                                                 ('target', TargetEncoder())]),\n",
       "                                 ['condition', 'cylinders', 'fuel',\n",
       "                                  'title_status', 'transmission',\n",
       "                                  'manufacturer', 'state', 'type',\n",
       "                                  'paint_color']),\n",
       "                                ('pipeline-3',\n",
       "                                 Pipeline(steps=[('imputer',\n",
       "                                                  SimpleImputer(fill_value='missing',\n",
       "                                                                strategy='most_frequent')),\n",
       "                                                 ('onehot',\n",
       "                                                  OneHotEncoder(drop='if_binary',\n",
       "                                                                sparse=False))]),\n",
       "                                 ['drive'])])</pre></div></div></div><div class=\"sk-parallel\"><div class=\"sk-parallel-item\"><div class=\"sk-item\"><div class=\"sk-label-container\"><div class=\"sk-label sk-toggleable\"><input class=\"sk-toggleable__control sk-hidden--visually\" id=\"acd61a25-fdf8-4ee1-ac66-5fe4cb4497c3\" type=\"checkbox\" ><label class=\"sk-toggleable__label\" for=\"acd61a25-fdf8-4ee1-ac66-5fe4cb4497c3\">pipeline-1</label><div class=\"sk-toggleable__content\"><pre>['odometer', 'age']</pre></div></div></div><div class=\"sk-serial\"><div class=\"sk-item\"><div class=\"sk-serial\"><div class=\"sk-item\"><div class=\"sk-estimator sk-toggleable\"><input class=\"sk-toggleable__control sk-hidden--visually\" id=\"7ff8d131-b30d-4d9c-b9ef-4d746f232b13\" type=\"checkbox\" ><label class=\"sk-toggleable__label\" for=\"7ff8d131-b30d-4d9c-b9ef-4d746f232b13\">IterativeImputer</label><div class=\"sk-toggleable__content\"><pre>IterativeImputer(random_state=42)</pre></div></div></div></div></div></div></div></div><div class=\"sk-parallel-item\"><div class=\"sk-item\"><div class=\"sk-label-container\"><div class=\"sk-label sk-toggleable\"><input class=\"sk-toggleable__control sk-hidden--visually\" id=\"0c7e009c-d3e9-4f7a-bc2a-cf9e2eb3f9f8\" type=\"checkbox\" ><label class=\"sk-toggleable__label\" for=\"0c7e009c-d3e9-4f7a-bc2a-cf9e2eb3f9f8\">pipeline-2</label><div class=\"sk-toggleable__content\"><pre>['condition', 'cylinders', 'fuel', 'title_status', 'transmission', 'manufacturer', 'state', 'type', 'paint_color']</pre></div></div></div><div class=\"sk-serial\"><div class=\"sk-item\"><div class=\"sk-serial\"><div class=\"sk-item\"><div class=\"sk-estimator sk-toggleable\"><input class=\"sk-toggleable__control sk-hidden--visually\" id=\"5944e34b-65d3-406e-a6d7-58ea79704eb2\" type=\"checkbox\" ><label class=\"sk-toggleable__label\" for=\"5944e34b-65d3-406e-a6d7-58ea79704eb2\">SimpleImputer</label><div class=\"sk-toggleable__content\"><pre>SimpleImputer(fill_value='missing', strategy='most_frequent')</pre></div></div></div><div class=\"sk-item\"><div class=\"sk-estimator sk-toggleable\"><input class=\"sk-toggleable__control sk-hidden--visually\" id=\"db3a6a23-e50c-4e79-a17b-6254b88d457c\" type=\"checkbox\" ><label class=\"sk-toggleable__label\" for=\"db3a6a23-e50c-4e79-a17b-6254b88d457c\">TargetEncoder</label><div class=\"sk-toggleable__content\"><pre>TargetEncoder()</pre></div></div></div></div></div></div></div></div><div class=\"sk-parallel-item\"><div class=\"sk-item\"><div class=\"sk-label-container\"><div class=\"sk-label sk-toggleable\"><input class=\"sk-toggleable__control sk-hidden--visually\" id=\"7c7f877a-1839-4bfb-8d65-f3748483246b\" type=\"checkbox\" ><label class=\"sk-toggleable__label\" for=\"7c7f877a-1839-4bfb-8d65-f3748483246b\">pipeline-3</label><div class=\"sk-toggleable__content\"><pre>['drive']</pre></div></div></div><div class=\"sk-serial\"><div class=\"sk-item\"><div class=\"sk-serial\"><div class=\"sk-item\"><div class=\"sk-estimator sk-toggleable\"><input class=\"sk-toggleable__control sk-hidden--visually\" id=\"fcc0c8b2-28cd-4d9f-a556-7a74a302d472\" type=\"checkbox\" ><label class=\"sk-toggleable__label\" for=\"fcc0c8b2-28cd-4d9f-a556-7a74a302d472\">SimpleImputer</label><div class=\"sk-toggleable__content\"><pre>SimpleImputer(fill_value='missing', strategy='most_frequent')</pre></div></div></div><div class=\"sk-item\"><div class=\"sk-estimator sk-toggleable\"><input class=\"sk-toggleable__control sk-hidden--visually\" id=\"6a11bbd8-ba46-4646-b393-5b6fcbe3c527\" type=\"checkbox\" ><label class=\"sk-toggleable__label\" for=\"6a11bbd8-ba46-4646-b393-5b6fcbe3c527\">OneHotEncoder</label><div class=\"sk-toggleable__content\"><pre>OneHotEncoder(drop='if_binary', sparse=False)</pre></div></div></div></div></div></div></div></div></div></div><div class=\"sk-item\"><div class=\"sk-estimator sk-toggleable\"><input class=\"sk-toggleable__control sk-hidden--visually\" id=\"e2fbc3d1-fbc5-4a87-9c2c-f48e04c721fa\" type=\"checkbox\" ><label class=\"sk-toggleable__label\" for=\"e2fbc3d1-fbc5-4a87-9c2c-f48e04c721fa\">Lasso</label><div class=\"sk-toggleable__content\"><pre>Lasso()</pre></div></div></div></div></div></div></div>"
      ],
      "text/plain": [
       "Pipeline(steps=[('preprocessor',\n",
       "                 ColumnTransformer(transformers=[('pipeline-1',\n",
       "                                                  Pipeline(steps=[('imputer',\n",
       "                                                                   IterativeImputer(random_state=42))]),\n",
       "                                                  ['odometer', 'age']),\n",
       "                                                 ('pipeline-2',\n",
       "                                                  Pipeline(steps=[('imputer',\n",
       "                                                                   SimpleImputer(fill_value='missing',\n",
       "                                                                                 strategy='most_frequent')),\n",
       "                                                                  ('target',\n",
       "                                                                   TargetEncoder())]),\n",
       "                                                  ['condition', 'cylinders',\n",
       "                                                   'fuel', 'title_status',\n",
       "                                                   'transmission',\n",
       "                                                   'manufacturer', 'state',\n",
       "                                                   'type', 'paint_color']),\n",
       "                                                 ('pipeline-3',\n",
       "                                                  Pipeline(steps=[('imputer',\n",
       "                                                                   SimpleImputer(fill_value='missing',\n",
       "                                                                                 strategy='most_frequent')),\n",
       "                                                                  ('onehot',\n",
       "                                                                   OneHotEncoder(drop='if_binary',\n",
       "                                                                                 sparse=False))]),\n",
       "                                                  ['drive'])])),\n",
       "                ('regressor', Lasso())])"
      ]
     },
     "execution_count": 760,
     "metadata": {},
     "output_type": "execute_result"
    }
   ],
   "source": [
    "# Lasso by itself\n",
    "pipe_lasso = Pipeline([('preprocessor', preprocessor),\n",
    "                  ('regressor', Lasso())]) # default alpha = 1\n",
    "pipe_lasso.fit(X_train, y_train)\n",
    "print(list(zip(X_train.columns, pipe_lasso['regressor'].coef_)))\n",
    "print('The R2 score is:', pipe_lasso.score(X_test,y_test))\n",
    "pipe_lasso"
   ]
  },
  {
   "cell_type": "markdown",
   "metadata": {},
   "source": [
    "Linear Regression, Ridge and Lasso perform roughly the same. When selecting features using LASSO and applying it to Linear Regression it performs a bit worse."
   ]
  },
  {
   "cell_type": "markdown",
   "metadata": {},
   "source": [
    "## Models"
   ]
  },
  {
   "cell_type": "markdown",
   "metadata": {},
   "source": [
    "Model 1"
   ]
  },
  {
   "cell_type": "code",
   "execution_count": 722,
   "metadata": {},
   "outputs": [],
   "source": [
    " pipe2 = Pipeline([('preprocessor', preprocessor),\n",
    "                  ('poly_features',(PolynomialFeatures(degree=2, include_bias=False))),\n",
    "                  ('scaler', StandardScaler()),\n",
    "                  ('regressor', Ridge())])"
   ]
  },
  {
   "cell_type": "code",
   "execution_count": 723,
   "metadata": {},
   "outputs": [
    {
     "data": {
      "text/html": [
       "<style>#sk-76db73e0-3a5d-49ac-876e-40170cbabcc5 {color: black;background-color: white;}#sk-76db73e0-3a5d-49ac-876e-40170cbabcc5 pre{padding: 0;}#sk-76db73e0-3a5d-49ac-876e-40170cbabcc5 div.sk-toggleable {background-color: white;}#sk-76db73e0-3a5d-49ac-876e-40170cbabcc5 label.sk-toggleable__label {cursor: pointer;display: block;width: 100%;margin-bottom: 0;padding: 0.2em 0.3em;box-sizing: border-box;text-align: center;}#sk-76db73e0-3a5d-49ac-876e-40170cbabcc5 div.sk-toggleable__content {max-height: 0;max-width: 0;overflow: hidden;text-align: left;background-color: #f0f8ff;}#sk-76db73e0-3a5d-49ac-876e-40170cbabcc5 div.sk-toggleable__content pre {margin: 0.2em;color: black;border-radius: 0.25em;background-color: #f0f8ff;}#sk-76db73e0-3a5d-49ac-876e-40170cbabcc5 input.sk-toggleable__control:checked~div.sk-toggleable__content {max-height: 200px;max-width: 100%;overflow: auto;}#sk-76db73e0-3a5d-49ac-876e-40170cbabcc5 div.sk-estimator input.sk-toggleable__control:checked~label.sk-toggleable__label {background-color: #d4ebff;}#sk-76db73e0-3a5d-49ac-876e-40170cbabcc5 div.sk-label input.sk-toggleable__control:checked~label.sk-toggleable__label {background-color: #d4ebff;}#sk-76db73e0-3a5d-49ac-876e-40170cbabcc5 input.sk-hidden--visually {border: 0;clip: rect(1px 1px 1px 1px);clip: rect(1px, 1px, 1px, 1px);height: 1px;margin: -1px;overflow: hidden;padding: 0;position: absolute;width: 1px;}#sk-76db73e0-3a5d-49ac-876e-40170cbabcc5 div.sk-estimator {font-family: monospace;background-color: #f0f8ff;margin: 0.25em 0.25em;border: 1px dotted black;border-radius: 0.25em;box-sizing: border-box;}#sk-76db73e0-3a5d-49ac-876e-40170cbabcc5 div.sk-estimator:hover {background-color: #d4ebff;}#sk-76db73e0-3a5d-49ac-876e-40170cbabcc5 div.sk-parallel-item::after {content: \"\";width: 100%;border-bottom: 1px solid gray;flex-grow: 1;}#sk-76db73e0-3a5d-49ac-876e-40170cbabcc5 div.sk-label:hover label.sk-toggleable__label {background-color: #d4ebff;}#sk-76db73e0-3a5d-49ac-876e-40170cbabcc5 div.sk-serial::before {content: \"\";position: absolute;border-left: 1px solid gray;box-sizing: border-box;top: 2em;bottom: 0;left: 50%;}#sk-76db73e0-3a5d-49ac-876e-40170cbabcc5 div.sk-serial {display: flex;flex-direction: column;align-items: center;background-color: white;}#sk-76db73e0-3a5d-49ac-876e-40170cbabcc5 div.sk-item {z-index: 1;}#sk-76db73e0-3a5d-49ac-876e-40170cbabcc5 div.sk-parallel {display: flex;align-items: stretch;justify-content: center;background-color: white;}#sk-76db73e0-3a5d-49ac-876e-40170cbabcc5 div.sk-parallel-item {display: flex;flex-direction: column;position: relative;background-color: white;}#sk-76db73e0-3a5d-49ac-876e-40170cbabcc5 div.sk-parallel-item:first-child::after {align-self: flex-end;width: 50%;}#sk-76db73e0-3a5d-49ac-876e-40170cbabcc5 div.sk-parallel-item:last-child::after {align-self: flex-start;width: 50%;}#sk-76db73e0-3a5d-49ac-876e-40170cbabcc5 div.sk-parallel-item:only-child::after {width: 0;}#sk-76db73e0-3a5d-49ac-876e-40170cbabcc5 div.sk-dashed-wrapped {border: 1px dashed gray;margin: 0.2em;box-sizing: border-box;padding-bottom: 0.1em;background-color: white;position: relative;}#sk-76db73e0-3a5d-49ac-876e-40170cbabcc5 div.sk-label label {font-family: monospace;font-weight: bold;background-color: white;display: inline-block;line-height: 1.2em;}#sk-76db73e0-3a5d-49ac-876e-40170cbabcc5 div.sk-label-container {position: relative;z-index: 2;text-align: center;}#sk-76db73e0-3a5d-49ac-876e-40170cbabcc5 div.sk-container {display: inline-block;position: relative;}</style><div id=\"sk-76db73e0-3a5d-49ac-876e-40170cbabcc5\" class\"sk-top-container\"><div class=\"sk-container\"><div class=\"sk-item sk-dashed-wrapped\"><div class=\"sk-label-container\"><div class=\"sk-label sk-toggleable\"><input class=\"sk-toggleable__control sk-hidden--visually\" id=\"6bf5ffd2-fa67-4670-8919-e70281dc5557\" type=\"checkbox\" ><label class=\"sk-toggleable__label\" for=\"6bf5ffd2-fa67-4670-8919-e70281dc5557\">Pipeline</label><div class=\"sk-toggleable__content\"><pre>Pipeline(steps=[('preprocessor',\n",
       "                 ColumnTransformer(transformers=[('pipeline-1',\n",
       "                                                  Pipeline(steps=[('imputer',\n",
       "                                                                   IterativeImputer(random_state=42))]),\n",
       "                                                  ['odometer', 'age']),\n",
       "                                                 ('pipeline-2',\n",
       "                                                  Pipeline(steps=[('imputer',\n",
       "                                                                   SimpleImputer(fill_value='missing',\n",
       "                                                                                 strategy='most_frequent')),\n",
       "                                                                  ('target',\n",
       "                                                                   TargetEncoder())]),\n",
       "                                                  ['condition', 'cylinders',\n",
       "                                                   'fuel', 'title_status',\n",
       "                                                   'transmission',\n",
       "                                                   'manufacturer', 'state',\n",
       "                                                   'type', 'paint_color']),\n",
       "                                                 ('pipeline-3',\n",
       "                                                  Pipeline(steps=[('imputer',\n",
       "                                                                   SimpleImputer(fill_value='missing',\n",
       "                                                                                 strategy='most_frequent')),\n",
       "                                                                  ('onehot',\n",
       "                                                                   OneHotEncoder(drop='if_binary',\n",
       "                                                                                 sparse=False))]),\n",
       "                                                  ['drive'])])),\n",
       "                ('poly_features', PolynomialFeatures(include_bias=False)),\n",
       "                ('scaler', StandardScaler()), ('regressor', Ridge())])</pre></div></div></div><div class=\"sk-serial\"><div class=\"sk-item sk-dashed-wrapped\"><div class=\"sk-label-container\"><div class=\"sk-label sk-toggleable\"><input class=\"sk-toggleable__control sk-hidden--visually\" id=\"3d034163-9350-4141-adfd-ebe46f1f6182\" type=\"checkbox\" ><label class=\"sk-toggleable__label\" for=\"3d034163-9350-4141-adfd-ebe46f1f6182\">preprocessor: ColumnTransformer</label><div class=\"sk-toggleable__content\"><pre>ColumnTransformer(transformers=[('pipeline-1',\n",
       "                                 Pipeline(steps=[('imputer',\n",
       "                                                  IterativeImputer(random_state=42))]),\n",
       "                                 ['odometer', 'age']),\n",
       "                                ('pipeline-2',\n",
       "                                 Pipeline(steps=[('imputer',\n",
       "                                                  SimpleImputer(fill_value='missing',\n",
       "                                                                strategy='most_frequent')),\n",
       "                                                 ('target', TargetEncoder())]),\n",
       "                                 ['condition', 'cylinders', 'fuel',\n",
       "                                  'title_status', 'transmission',\n",
       "                                  'manufacturer', 'state', 'type',\n",
       "                                  'paint_color']),\n",
       "                                ('pipeline-3',\n",
       "                                 Pipeline(steps=[('imputer',\n",
       "                                                  SimpleImputer(fill_value='missing',\n",
       "                                                                strategy='most_frequent')),\n",
       "                                                 ('onehot',\n",
       "                                                  OneHotEncoder(drop='if_binary',\n",
       "                                                                sparse=False))]),\n",
       "                                 ['drive'])])</pre></div></div></div><div class=\"sk-parallel\"><div class=\"sk-parallel-item\"><div class=\"sk-item\"><div class=\"sk-label-container\"><div class=\"sk-label sk-toggleable\"><input class=\"sk-toggleable__control sk-hidden--visually\" id=\"84500fdd-3786-4e5b-9be5-79657bdf9923\" type=\"checkbox\" ><label class=\"sk-toggleable__label\" for=\"84500fdd-3786-4e5b-9be5-79657bdf9923\">pipeline-1</label><div class=\"sk-toggleable__content\"><pre>['odometer', 'age']</pre></div></div></div><div class=\"sk-serial\"><div class=\"sk-item\"><div class=\"sk-serial\"><div class=\"sk-item\"><div class=\"sk-estimator sk-toggleable\"><input class=\"sk-toggleable__control sk-hidden--visually\" id=\"b9157a61-bf07-4729-bdd3-523025bec243\" type=\"checkbox\" ><label class=\"sk-toggleable__label\" for=\"b9157a61-bf07-4729-bdd3-523025bec243\">IterativeImputer</label><div class=\"sk-toggleable__content\"><pre>IterativeImputer(random_state=42)</pre></div></div></div></div></div></div></div></div><div class=\"sk-parallel-item\"><div class=\"sk-item\"><div class=\"sk-label-container\"><div class=\"sk-label sk-toggleable\"><input class=\"sk-toggleable__control sk-hidden--visually\" id=\"de64ac8c-e639-41b5-9f19-824fe22d9840\" type=\"checkbox\" ><label class=\"sk-toggleable__label\" for=\"de64ac8c-e639-41b5-9f19-824fe22d9840\">pipeline-2</label><div class=\"sk-toggleable__content\"><pre>['condition', 'cylinders', 'fuel', 'title_status', 'transmission', 'manufacturer', 'state', 'type', 'paint_color']</pre></div></div></div><div class=\"sk-serial\"><div class=\"sk-item\"><div class=\"sk-serial\"><div class=\"sk-item\"><div class=\"sk-estimator sk-toggleable\"><input class=\"sk-toggleable__control sk-hidden--visually\" id=\"b27b1d84-4fe9-403c-b017-1bb6fc70303f\" type=\"checkbox\" ><label class=\"sk-toggleable__label\" for=\"b27b1d84-4fe9-403c-b017-1bb6fc70303f\">SimpleImputer</label><div class=\"sk-toggleable__content\"><pre>SimpleImputer(fill_value='missing', strategy='most_frequent')</pre></div></div></div><div class=\"sk-item\"><div class=\"sk-estimator sk-toggleable\"><input class=\"sk-toggleable__control sk-hidden--visually\" id=\"e65c2b27-a0eb-4e8d-90c9-ae55d5faf6da\" type=\"checkbox\" ><label class=\"sk-toggleable__label\" for=\"e65c2b27-a0eb-4e8d-90c9-ae55d5faf6da\">TargetEncoder</label><div class=\"sk-toggleable__content\"><pre>TargetEncoder()</pre></div></div></div></div></div></div></div></div><div class=\"sk-parallel-item\"><div class=\"sk-item\"><div class=\"sk-label-container\"><div class=\"sk-label sk-toggleable\"><input class=\"sk-toggleable__control sk-hidden--visually\" id=\"785ac4b8-b31a-4d90-94fd-d7ba981c4121\" type=\"checkbox\" ><label class=\"sk-toggleable__label\" for=\"785ac4b8-b31a-4d90-94fd-d7ba981c4121\">pipeline-3</label><div class=\"sk-toggleable__content\"><pre>['drive']</pre></div></div></div><div class=\"sk-serial\"><div class=\"sk-item\"><div class=\"sk-serial\"><div class=\"sk-item\"><div class=\"sk-estimator sk-toggleable\"><input class=\"sk-toggleable__control sk-hidden--visually\" id=\"8ac46e6d-fc3c-4d3c-b67f-eaa50a5f7279\" type=\"checkbox\" ><label class=\"sk-toggleable__label\" for=\"8ac46e6d-fc3c-4d3c-b67f-eaa50a5f7279\">SimpleImputer</label><div class=\"sk-toggleable__content\"><pre>SimpleImputer(fill_value='missing', strategy='most_frequent')</pre></div></div></div><div class=\"sk-item\"><div class=\"sk-estimator sk-toggleable\"><input class=\"sk-toggleable__control sk-hidden--visually\" id=\"59967850-f69d-43a6-abfc-3d40b636d04f\" type=\"checkbox\" ><label class=\"sk-toggleable__label\" for=\"59967850-f69d-43a6-abfc-3d40b636d04f\">OneHotEncoder</label><div class=\"sk-toggleable__content\"><pre>OneHotEncoder(drop='if_binary', sparse=False)</pre></div></div></div></div></div></div></div></div></div></div><div class=\"sk-item\"><div class=\"sk-estimator sk-toggleable\"><input class=\"sk-toggleable__control sk-hidden--visually\" id=\"f1182b33-6d98-4c37-979f-637ac721e651\" type=\"checkbox\" ><label class=\"sk-toggleable__label\" for=\"f1182b33-6d98-4c37-979f-637ac721e651\">PolynomialFeatures</label><div class=\"sk-toggleable__content\"><pre>PolynomialFeatures(include_bias=False)</pre></div></div></div><div class=\"sk-item\"><div class=\"sk-estimator sk-toggleable\"><input class=\"sk-toggleable__control sk-hidden--visually\" id=\"368f00c3-c8bf-4a96-9107-2cb4d5ed725b\" type=\"checkbox\" ><label class=\"sk-toggleable__label\" for=\"368f00c3-c8bf-4a96-9107-2cb4d5ed725b\">StandardScaler</label><div class=\"sk-toggleable__content\"><pre>StandardScaler()</pre></div></div></div><div class=\"sk-item\"><div class=\"sk-estimator sk-toggleable\"><input class=\"sk-toggleable__control sk-hidden--visually\" id=\"c99025ff-6a0c-466e-9d43-5b14d5eae1ab\" type=\"checkbox\" ><label class=\"sk-toggleable__label\" for=\"c99025ff-6a0c-466e-9d43-5b14d5eae1ab\">Ridge</label><div class=\"sk-toggleable__content\"><pre>Ridge()</pre></div></div></div></div></div></div></div>"
      ],
      "text/plain": [
       "Pipeline(steps=[('preprocessor',\n",
       "                 ColumnTransformer(transformers=[('pipeline-1',\n",
       "                                                  Pipeline(steps=[('imputer',\n",
       "                                                                   IterativeImputer(random_state=42))]),\n",
       "                                                  ['odometer', 'age']),\n",
       "                                                 ('pipeline-2',\n",
       "                                                  Pipeline(steps=[('imputer',\n",
       "                                                                   SimpleImputer(fill_value='missing',\n",
       "                                                                                 strategy='most_frequent')),\n",
       "                                                                  ('target',\n",
       "                                                                   TargetEncoder())]),\n",
       "                                                  ['condition', 'cylinders',\n",
       "                                                   'fuel', 'title_status',\n",
       "                                                   'transmission',\n",
       "                                                   'manufacturer', 'state',\n",
       "                                                   'type', 'paint_color']),\n",
       "                                                 ('pipeline-3',\n",
       "                                                  Pipeline(steps=[('imputer',\n",
       "                                                                   SimpleImputer(fill_value='missing',\n",
       "                                                                                 strategy='most_frequent')),\n",
       "                                                                  ('onehot',\n",
       "                                                                   OneHotEncoder(drop='if_binary',\n",
       "                                                                                 sparse=False))]),\n",
       "                                                  ['drive'])])),\n",
       "                ('poly_features', PolynomialFeatures(include_bias=False)),\n",
       "                ('scaler', StandardScaler()), ('regressor', Ridge())])"
      ]
     },
     "execution_count": 723,
     "metadata": {},
     "output_type": "execute_result"
    }
   ],
   "source": [
    " pipe2.fit(X_train, y_train)"
   ]
  },
  {
   "cell_type": "code",
   "execution_count": 894,
   "metadata": {},
   "outputs": [
    {
     "name": "stdout",
     "output_type": "stream",
     "text": [
      "SFS with LASSO MSE train: 58223095.4375152\n",
      "SFS with LASSO MSE test : 58765939.23884018\n",
      "The R2 score is: 0.6413266534762773\n"
     ]
    }
   ],
   "source": [
    "mse_train2 = mean_squared_error(y_train, pipe2.predict(X_train))\n",
    "mse_test2 = mean_squared_error(y_test, pipe2.predict(X_test))\n",
    "print('SFS with LASSO MSE train:', mse_train2)\n",
    "print('SFS with LASSO MSE test :', mse_test2)\n",
    "print('The R2 score is:', pipe2.score(X_test,y_test))"
   ]
  },
  {
   "cell_type": "markdown",
   "metadata": {},
   "source": [
    "### Grid Search CV - To find best model"
   ]
  },
  {
   "cell_type": "markdown",
   "metadata": {},
   "source": [
    "Get indices for GridSearchCV"
   ]
  },
  {
   "cell_type": "code",
   "execution_count": 727,
   "metadata": {},
   "outputs": [
    {
     "data": {
      "text/plain": [
       "Int64Index([257221, 333264, 326473, 293211, 182656, 197089,   9030, 319935,\n",
       "             67506, 310387,\n",
       "            ...\n",
       "            137337,  54886, 207892, 110268, 119879, 259178, 365838, 131932,\n",
       "            146867, 121958],\n",
       "           dtype='int64', length=266963)"
      ]
     },
     "execution_count": 727,
     "metadata": {},
     "output_type": "execute_result"
    }
   ],
   "source": [
    "training_indices = (pd.DataFrame(X_train).index)\n",
    "training_indices"
   ]
  },
  {
   "cell_type": "code",
   "execution_count": 728,
   "metadata": {},
   "outputs": [
    {
     "data": {
      "text/plain": [
       "Int64Index([ 21683, 310950, 260878, 167058, 351007, 163164, 301310, 233631,\n",
       "            254153, 106125,\n",
       "            ...\n",
       "            327003, 344096, 187760, 252400, 364525, 110185, 247730,  83083,\n",
       "              3286, 128697],\n",
       "           dtype='int64', length=114413)"
      ]
     },
     "execution_count": 728,
     "metadata": {},
     "output_type": "execute_result"
    }
   ],
   "source": [
    "test_indices = (pd.DataFrame(X_test).index)\n",
    "test_indices"
   ]
  },
  {
   "cell_type": "code",
   "execution_count": 729,
   "metadata": {},
   "outputs": [],
   "source": [
    "params_to_try = {'regressor__alpha': [0.01,0.1,1,10,100,1000]}"
   ]
  },
  {
   "cell_type": "code",
   "execution_count": 731,
   "metadata": {},
   "outputs": [],
   "source": [
    "pipe3 = Pipeline([('preprocessor', preprocessor),\n",
    "                  ('poly_features',(PolynomialFeatures(degree=2, include_bias=False))),\n",
    "                  ('scaler', StandardScaler()),\n",
    "                  ('regressor', Ridge())])"
   ]
  },
  {
   "cell_type": "code",
   "execution_count": 742,
   "metadata": {},
   "outputs": [],
   "source": [
    "model_finder = GridSearchCV(estimator = pipe3,\n",
    "                           param_grid = params_to_try,\n",
    "                           scoring = [\"neg_mean_squared_error\", 'r2'], refit='r2',\n",
    "                           cv = [[training_indices, test_indices]])"
   ]
  },
  {
   "cell_type": "markdown",
   "metadata": {},
   "source": [
    "Grid Search CV - Using Log Transformation on the target 'price'"
   ]
  },
  {
   "cell_type": "code",
   "execution_count": 743,
   "metadata": {},
   "outputs": [
    {
     "data": {
      "text/html": [
       "<style>#sk-8cf71cd7-03a3-43ad-9463-2b835e6c6318 {color: black;background-color: white;}#sk-8cf71cd7-03a3-43ad-9463-2b835e6c6318 pre{padding: 0;}#sk-8cf71cd7-03a3-43ad-9463-2b835e6c6318 div.sk-toggleable {background-color: white;}#sk-8cf71cd7-03a3-43ad-9463-2b835e6c6318 label.sk-toggleable__label {cursor: pointer;display: block;width: 100%;margin-bottom: 0;padding: 0.2em 0.3em;box-sizing: border-box;text-align: center;}#sk-8cf71cd7-03a3-43ad-9463-2b835e6c6318 div.sk-toggleable__content {max-height: 0;max-width: 0;overflow: hidden;text-align: left;background-color: #f0f8ff;}#sk-8cf71cd7-03a3-43ad-9463-2b835e6c6318 div.sk-toggleable__content pre {margin: 0.2em;color: black;border-radius: 0.25em;background-color: #f0f8ff;}#sk-8cf71cd7-03a3-43ad-9463-2b835e6c6318 input.sk-toggleable__control:checked~div.sk-toggleable__content {max-height: 200px;max-width: 100%;overflow: auto;}#sk-8cf71cd7-03a3-43ad-9463-2b835e6c6318 div.sk-estimator input.sk-toggleable__control:checked~label.sk-toggleable__label {background-color: #d4ebff;}#sk-8cf71cd7-03a3-43ad-9463-2b835e6c6318 div.sk-label input.sk-toggleable__control:checked~label.sk-toggleable__label {background-color: #d4ebff;}#sk-8cf71cd7-03a3-43ad-9463-2b835e6c6318 input.sk-hidden--visually {border: 0;clip: rect(1px 1px 1px 1px);clip: rect(1px, 1px, 1px, 1px);height: 1px;margin: -1px;overflow: hidden;padding: 0;position: absolute;width: 1px;}#sk-8cf71cd7-03a3-43ad-9463-2b835e6c6318 div.sk-estimator {font-family: monospace;background-color: #f0f8ff;margin: 0.25em 0.25em;border: 1px dotted black;border-radius: 0.25em;box-sizing: border-box;}#sk-8cf71cd7-03a3-43ad-9463-2b835e6c6318 div.sk-estimator:hover {background-color: #d4ebff;}#sk-8cf71cd7-03a3-43ad-9463-2b835e6c6318 div.sk-parallel-item::after {content: \"\";width: 100%;border-bottom: 1px solid gray;flex-grow: 1;}#sk-8cf71cd7-03a3-43ad-9463-2b835e6c6318 div.sk-label:hover label.sk-toggleable__label {background-color: #d4ebff;}#sk-8cf71cd7-03a3-43ad-9463-2b835e6c6318 div.sk-serial::before {content: \"\";position: absolute;border-left: 1px solid gray;box-sizing: border-box;top: 2em;bottom: 0;left: 50%;}#sk-8cf71cd7-03a3-43ad-9463-2b835e6c6318 div.sk-serial {display: flex;flex-direction: column;align-items: center;background-color: white;}#sk-8cf71cd7-03a3-43ad-9463-2b835e6c6318 div.sk-item {z-index: 1;}#sk-8cf71cd7-03a3-43ad-9463-2b835e6c6318 div.sk-parallel {display: flex;align-items: stretch;justify-content: center;background-color: white;}#sk-8cf71cd7-03a3-43ad-9463-2b835e6c6318 div.sk-parallel-item {display: flex;flex-direction: column;position: relative;background-color: white;}#sk-8cf71cd7-03a3-43ad-9463-2b835e6c6318 div.sk-parallel-item:first-child::after {align-self: flex-end;width: 50%;}#sk-8cf71cd7-03a3-43ad-9463-2b835e6c6318 div.sk-parallel-item:last-child::after {align-self: flex-start;width: 50%;}#sk-8cf71cd7-03a3-43ad-9463-2b835e6c6318 div.sk-parallel-item:only-child::after {width: 0;}#sk-8cf71cd7-03a3-43ad-9463-2b835e6c6318 div.sk-dashed-wrapped {border: 1px dashed gray;margin: 0.2em;box-sizing: border-box;padding-bottom: 0.1em;background-color: white;position: relative;}#sk-8cf71cd7-03a3-43ad-9463-2b835e6c6318 div.sk-label label {font-family: monospace;font-weight: bold;background-color: white;display: inline-block;line-height: 1.2em;}#sk-8cf71cd7-03a3-43ad-9463-2b835e6c6318 div.sk-label-container {position: relative;z-index: 2;text-align: center;}#sk-8cf71cd7-03a3-43ad-9463-2b835e6c6318 div.sk-container {display: inline-block;position: relative;}</style><div id=\"sk-8cf71cd7-03a3-43ad-9463-2b835e6c6318\" class\"sk-top-container\"><div class=\"sk-container\"><div class=\"sk-item sk-dashed-wrapped\"><div class=\"sk-label-container\"><div class=\"sk-label sk-toggleable\"><input class=\"sk-toggleable__control sk-hidden--visually\" id=\"ecab5698-c218-42a5-8140-99e3d73ee918\" type=\"checkbox\" ><label class=\"sk-toggleable__label\" for=\"ecab5698-c218-42a5-8140-99e3d73ee918\">GridSearchCV</label><div class=\"sk-toggleable__content\"><pre>GridSearchCV(cv=[[Int64Index([257221, 333264, 326473, 293211, 182656, 197089,   9030, 319935,\n",
       "             67506, 310387,\n",
       "            ...\n",
       "            137337,  54886, 207892, 110268, 119879, 259178, 365838, 131932,\n",
       "            146867, 121958],\n",
       "           dtype='int64', length=266963),\n",
       "                  Int64Index([ 21683, 310950, 260878, 167058, 351007, 163164, 301310, 233631,\n",
       "            254153, 106125,\n",
       "            ...\n",
       "            327003, 344096, 187760, 252400, 364525, 110185, 247730,  83083,\n",
       "              3286, 128697]...\n",
       "                                                                                          SimpleImputer(fill_value='missing',\n",
       "                                                                                                        strategy='most_frequent')),\n",
       "                                                                                         ('onehot',\n",
       "                                                                                          OneHotEncoder(drop='if_binary',\n",
       "                                                                                                        sparse=False))]),\n",
       "                                                                         ['drive'])])),\n",
       "                                       ('poly_features',\n",
       "                                        PolynomialFeatures(include_bias=False)),\n",
       "                                       ('scaler', StandardScaler()),\n",
       "                                       ('regressor', Ridge())]),\n",
       "             param_grid={'regressor__alpha': [0.01, 0.1, 1, 10, 100, 1000]},\n",
       "             refit='r2', scoring=['neg_mean_squared_error', 'r2'])</pre></div></div></div><div class=\"sk-parallel\"><div class=\"sk-parallel-item\"><div class=\"sk-item\"><div class=\"sk-serial\"><div class=\"sk-item\"><div class=\"sk-serial\"><div class=\"sk-item sk-dashed-wrapped\"><div class=\"sk-label-container\"><div class=\"sk-label sk-toggleable\"><input class=\"sk-toggleable__control sk-hidden--visually\" id=\"48bf5ec8-7aeb-4804-a29b-28dbe29b4d0d\" type=\"checkbox\" ><label class=\"sk-toggleable__label\" for=\"48bf5ec8-7aeb-4804-a29b-28dbe29b4d0d\">preprocessor: ColumnTransformer</label><div class=\"sk-toggleable__content\"><pre>ColumnTransformer(transformers=[('pipeline-1',\n",
       "                                 Pipeline(steps=[('imputer',\n",
       "                                                  IterativeImputer(random_state=42))]),\n",
       "                                 ['odometer', 'age']),\n",
       "                                ('pipeline-2',\n",
       "                                 Pipeline(steps=[('imputer',\n",
       "                                                  SimpleImputer(fill_value='missing',\n",
       "                                                                strategy='most_frequent')),\n",
       "                                                 ('target', TargetEncoder())]),\n",
       "                                 ['condition', 'cylinders', 'fuel',\n",
       "                                  'title_status', 'transmission',\n",
       "                                  'manufacturer', 'state', 'type',\n",
       "                                  'paint_color']),\n",
       "                                ('pipeline-3',\n",
       "                                 Pipeline(steps=[('imputer',\n",
       "                                                  SimpleImputer(fill_value='missing',\n",
       "                                                                strategy='most_frequent')),\n",
       "                                                 ('onehot',\n",
       "                                                  OneHotEncoder(drop='if_binary',\n",
       "                                                                sparse=False))]),\n",
       "                                 ['drive'])])</pre></div></div></div><div class=\"sk-parallel\"><div class=\"sk-parallel-item\"><div class=\"sk-item\"><div class=\"sk-label-container\"><div class=\"sk-label sk-toggleable\"><input class=\"sk-toggleable__control sk-hidden--visually\" id=\"7d08ed5d-3ebd-4f77-a352-63fea5a2f7bc\" type=\"checkbox\" ><label class=\"sk-toggleable__label\" for=\"7d08ed5d-3ebd-4f77-a352-63fea5a2f7bc\">pipeline-1</label><div class=\"sk-toggleable__content\"><pre>['odometer', 'age']</pre></div></div></div><div class=\"sk-serial\"><div class=\"sk-item\"><div class=\"sk-serial\"><div class=\"sk-item\"><div class=\"sk-estimator sk-toggleable\"><input class=\"sk-toggleable__control sk-hidden--visually\" id=\"0ea96a7e-cb2a-480f-948c-f75932c18835\" type=\"checkbox\" ><label class=\"sk-toggleable__label\" for=\"0ea96a7e-cb2a-480f-948c-f75932c18835\">IterativeImputer</label><div class=\"sk-toggleable__content\"><pre>IterativeImputer(random_state=42)</pre></div></div></div></div></div></div></div></div><div class=\"sk-parallel-item\"><div class=\"sk-item\"><div class=\"sk-label-container\"><div class=\"sk-label sk-toggleable\"><input class=\"sk-toggleable__control sk-hidden--visually\" id=\"81bfeca2-e32d-488c-8833-d08cd42e7778\" type=\"checkbox\" ><label class=\"sk-toggleable__label\" for=\"81bfeca2-e32d-488c-8833-d08cd42e7778\">pipeline-2</label><div class=\"sk-toggleable__content\"><pre>['condition', 'cylinders', 'fuel', 'title_status', 'transmission', 'manufacturer', 'state', 'type', 'paint_color']</pre></div></div></div><div class=\"sk-serial\"><div class=\"sk-item\"><div class=\"sk-serial\"><div class=\"sk-item\"><div class=\"sk-estimator sk-toggleable\"><input class=\"sk-toggleable__control sk-hidden--visually\" id=\"71c16ffe-45d3-4b47-8997-4c136cf63675\" type=\"checkbox\" ><label class=\"sk-toggleable__label\" for=\"71c16ffe-45d3-4b47-8997-4c136cf63675\">SimpleImputer</label><div class=\"sk-toggleable__content\"><pre>SimpleImputer(fill_value='missing', strategy='most_frequent')</pre></div></div></div><div class=\"sk-item\"><div class=\"sk-estimator sk-toggleable\"><input class=\"sk-toggleable__control sk-hidden--visually\" id=\"4f1e8ee2-6005-4909-8035-71d43ca89572\" type=\"checkbox\" ><label class=\"sk-toggleable__label\" for=\"4f1e8ee2-6005-4909-8035-71d43ca89572\">TargetEncoder</label><div class=\"sk-toggleable__content\"><pre>TargetEncoder()</pre></div></div></div></div></div></div></div></div><div class=\"sk-parallel-item\"><div class=\"sk-item\"><div class=\"sk-label-container\"><div class=\"sk-label sk-toggleable\"><input class=\"sk-toggleable__control sk-hidden--visually\" id=\"b1e1013f-5b69-437e-85d9-a558dc827382\" type=\"checkbox\" ><label class=\"sk-toggleable__label\" for=\"b1e1013f-5b69-437e-85d9-a558dc827382\">pipeline-3</label><div class=\"sk-toggleable__content\"><pre>['drive']</pre></div></div></div><div class=\"sk-serial\"><div class=\"sk-item\"><div class=\"sk-serial\"><div class=\"sk-item\"><div class=\"sk-estimator sk-toggleable\"><input class=\"sk-toggleable__control sk-hidden--visually\" id=\"22afee5a-397c-4e80-9949-89522177be7d\" type=\"checkbox\" ><label class=\"sk-toggleable__label\" for=\"22afee5a-397c-4e80-9949-89522177be7d\">SimpleImputer</label><div class=\"sk-toggleable__content\"><pre>SimpleImputer(fill_value='missing', strategy='most_frequent')</pre></div></div></div><div class=\"sk-item\"><div class=\"sk-estimator sk-toggleable\"><input class=\"sk-toggleable__control sk-hidden--visually\" id=\"a158742a-2817-4a68-a4f7-749e1d65eb9d\" type=\"checkbox\" ><label class=\"sk-toggleable__label\" for=\"a158742a-2817-4a68-a4f7-749e1d65eb9d\">OneHotEncoder</label><div class=\"sk-toggleable__content\"><pre>OneHotEncoder(drop='if_binary', sparse=False)</pre></div></div></div></div></div></div></div></div></div></div><div class=\"sk-item\"><div class=\"sk-estimator sk-toggleable\"><input class=\"sk-toggleable__control sk-hidden--visually\" id=\"d188eeb8-c41b-4a7c-8e69-09420d342a87\" type=\"checkbox\" ><label class=\"sk-toggleable__label\" for=\"d188eeb8-c41b-4a7c-8e69-09420d342a87\">PolynomialFeatures</label><div class=\"sk-toggleable__content\"><pre>PolynomialFeatures(include_bias=False)</pre></div></div></div><div class=\"sk-item\"><div class=\"sk-estimator sk-toggleable\"><input class=\"sk-toggleable__control sk-hidden--visually\" id=\"dd56c880-42e5-4898-bf03-fe6f72f78d6e\" type=\"checkbox\" ><label class=\"sk-toggleable__label\" for=\"dd56c880-42e5-4898-bf03-fe6f72f78d6e\">StandardScaler</label><div class=\"sk-toggleable__content\"><pre>StandardScaler()</pre></div></div></div><div class=\"sk-item\"><div class=\"sk-estimator sk-toggleable\"><input class=\"sk-toggleable__control sk-hidden--visually\" id=\"b52661ee-e3ed-442d-b5a2-3767f57b3ef1\" type=\"checkbox\" ><label class=\"sk-toggleable__label\" for=\"b52661ee-e3ed-442d-b5a2-3767f57b3ef1\">Ridge</label><div class=\"sk-toggleable__content\"><pre>Ridge()</pre></div></div></div></div></div></div></div></div></div></div></div></div>"
      ],
      "text/plain": [
       "GridSearchCV(cv=[[Int64Index([257221, 333264, 326473, 293211, 182656, 197089,   9030, 319935,\n",
       "             67506, 310387,\n",
       "            ...\n",
       "            137337,  54886, 207892, 110268, 119879, 259178, 365838, 131932,\n",
       "            146867, 121958],\n",
       "           dtype='int64', length=266963),\n",
       "                  Int64Index([ 21683, 310950, 260878, 167058, 351007, 163164, 301310, 233631,\n",
       "            254153, 106125,\n",
       "            ...\n",
       "            327003, 344096, 187760, 252400, 364525, 110185, 247730,  83083,\n",
       "              3286, 128697]...\n",
       "                                                                                          SimpleImputer(fill_value='missing',\n",
       "                                                                                                        strategy='most_frequent')),\n",
       "                                                                                         ('onehot',\n",
       "                                                                                          OneHotEncoder(drop='if_binary',\n",
       "                                                                                                        sparse=False))]),\n",
       "                                                                         ['drive'])])),\n",
       "                                       ('poly_features',\n",
       "                                        PolynomialFeatures(include_bias=False)),\n",
       "                                       ('scaler', StandardScaler()),\n",
       "                                       ('regressor', Ridge())]),\n",
       "             param_grid={'regressor__alpha': [0.01, 0.1, 1, 10, 100, 1000]},\n",
       "             refit='r2', scoring=['neg_mean_squared_error', 'r2'])"
      ]
     },
     "execution_count": 743,
     "metadata": {},
     "output_type": "execute_result"
    }
   ],
   "source": [
    "model_finder.fit(X,np.log1p(y)) # We transform target using natural log before fitting model"
   ]
  },
  {
   "cell_type": "code",
   "execution_count": 745,
   "metadata": {},
   "outputs": [
    {
     "data": {
      "text/plain": [
       "{'mean_fit_time': array([5.40378404, 5.08030844, 5.11777759, 5.06895638, 5.128901  ,\n",
       "        5.17256808]),\n",
       " 'std_fit_time': array([0., 0., 0., 0., 0., 0.]),\n",
       " 'mean_score_time': array([0.78436637, 0.72143674, 0.7088027 , 0.75270438, 0.7834053 ,\n",
       "        0.72157836]),\n",
       " 'std_score_time': array([0., 0., 0., 0., 0., 0.]),\n",
       " 'param_regressor__alpha': masked_array(data=[0.01, 0.1, 1, 10, 100, 1000],\n",
       "              mask=[False, False, False, False, False, False],\n",
       "        fill_value='?',\n",
       "             dtype=object),\n",
       " 'params': [{'regressor__alpha': 0.01},\n",
       "  {'regressor__alpha': 0.1},\n",
       "  {'regressor__alpha': 1},\n",
       "  {'regressor__alpha': 10},\n",
       "  {'regressor__alpha': 100},\n",
       "  {'regressor__alpha': 1000}],\n",
       " 'split0_test_neg_mean_squared_error': array([-0.98364946, -0.9837718 , -0.98440542, -0.98697951, -1.00060168,\n",
       "        -1.01936672]),\n",
       " 'mean_test_neg_mean_squared_error': array([-0.98364946, -0.9837718 , -0.98440542, -0.98697951, -1.00060168,\n",
       "        -1.01936672]),\n",
       " 'std_test_neg_mean_squared_error': array([0., 0., 0., 0., 0., 0.]),\n",
       " 'rank_test_neg_mean_squared_error': array([1, 2, 3, 4, 5, 6]),\n",
       " 'split0_test_r2': array([0.33027319, 0.3301899 , 0.32975849, 0.3280059 , 0.31873112,\n",
       "        0.30595477]),\n",
       " 'mean_test_r2': array([0.33027319, 0.3301899 , 0.32975849, 0.3280059 , 0.31873112,\n",
       "        0.30595477]),\n",
       " 'std_test_r2': array([0., 0., 0., 0., 0., 0.]),\n",
       " 'rank_test_r2': array([1, 2, 3, 4, 5, 6])}"
      ]
     },
     "execution_count": 745,
     "metadata": {},
     "output_type": "execute_result"
    }
   ],
   "source": [
    "best_model = model_finder.best_estimator_\n",
    "model_finder.cv_results_"
   ]
  },
  {
   "cell_type": "markdown",
   "metadata": {},
   "source": [
    "Grid Search CV - Without log transformation of target"
   ]
  },
  {
   "cell_type": "code",
   "execution_count": 746,
   "metadata": {
    "scrolled": true
   },
   "outputs": [
    {
     "data": {
      "text/html": [
       "<style>#sk-ec0ec4e4-9ed7-4dd2-a797-6c12e71dad03 {color: black;background-color: white;}#sk-ec0ec4e4-9ed7-4dd2-a797-6c12e71dad03 pre{padding: 0;}#sk-ec0ec4e4-9ed7-4dd2-a797-6c12e71dad03 div.sk-toggleable {background-color: white;}#sk-ec0ec4e4-9ed7-4dd2-a797-6c12e71dad03 label.sk-toggleable__label {cursor: pointer;display: block;width: 100%;margin-bottom: 0;padding: 0.2em 0.3em;box-sizing: border-box;text-align: center;}#sk-ec0ec4e4-9ed7-4dd2-a797-6c12e71dad03 div.sk-toggleable__content {max-height: 0;max-width: 0;overflow: hidden;text-align: left;background-color: #f0f8ff;}#sk-ec0ec4e4-9ed7-4dd2-a797-6c12e71dad03 div.sk-toggleable__content pre {margin: 0.2em;color: black;border-radius: 0.25em;background-color: #f0f8ff;}#sk-ec0ec4e4-9ed7-4dd2-a797-6c12e71dad03 input.sk-toggleable__control:checked~div.sk-toggleable__content {max-height: 200px;max-width: 100%;overflow: auto;}#sk-ec0ec4e4-9ed7-4dd2-a797-6c12e71dad03 div.sk-estimator input.sk-toggleable__control:checked~label.sk-toggleable__label {background-color: #d4ebff;}#sk-ec0ec4e4-9ed7-4dd2-a797-6c12e71dad03 div.sk-label input.sk-toggleable__control:checked~label.sk-toggleable__label {background-color: #d4ebff;}#sk-ec0ec4e4-9ed7-4dd2-a797-6c12e71dad03 input.sk-hidden--visually {border: 0;clip: rect(1px 1px 1px 1px);clip: rect(1px, 1px, 1px, 1px);height: 1px;margin: -1px;overflow: hidden;padding: 0;position: absolute;width: 1px;}#sk-ec0ec4e4-9ed7-4dd2-a797-6c12e71dad03 div.sk-estimator {font-family: monospace;background-color: #f0f8ff;margin: 0.25em 0.25em;border: 1px dotted black;border-radius: 0.25em;box-sizing: border-box;}#sk-ec0ec4e4-9ed7-4dd2-a797-6c12e71dad03 div.sk-estimator:hover {background-color: #d4ebff;}#sk-ec0ec4e4-9ed7-4dd2-a797-6c12e71dad03 div.sk-parallel-item::after {content: \"\";width: 100%;border-bottom: 1px solid gray;flex-grow: 1;}#sk-ec0ec4e4-9ed7-4dd2-a797-6c12e71dad03 div.sk-label:hover label.sk-toggleable__label {background-color: #d4ebff;}#sk-ec0ec4e4-9ed7-4dd2-a797-6c12e71dad03 div.sk-serial::before {content: \"\";position: absolute;border-left: 1px solid gray;box-sizing: border-box;top: 2em;bottom: 0;left: 50%;}#sk-ec0ec4e4-9ed7-4dd2-a797-6c12e71dad03 div.sk-serial {display: flex;flex-direction: column;align-items: center;background-color: white;}#sk-ec0ec4e4-9ed7-4dd2-a797-6c12e71dad03 div.sk-item {z-index: 1;}#sk-ec0ec4e4-9ed7-4dd2-a797-6c12e71dad03 div.sk-parallel {display: flex;align-items: stretch;justify-content: center;background-color: white;}#sk-ec0ec4e4-9ed7-4dd2-a797-6c12e71dad03 div.sk-parallel-item {display: flex;flex-direction: column;position: relative;background-color: white;}#sk-ec0ec4e4-9ed7-4dd2-a797-6c12e71dad03 div.sk-parallel-item:first-child::after {align-self: flex-end;width: 50%;}#sk-ec0ec4e4-9ed7-4dd2-a797-6c12e71dad03 div.sk-parallel-item:last-child::after {align-self: flex-start;width: 50%;}#sk-ec0ec4e4-9ed7-4dd2-a797-6c12e71dad03 div.sk-parallel-item:only-child::after {width: 0;}#sk-ec0ec4e4-9ed7-4dd2-a797-6c12e71dad03 div.sk-dashed-wrapped {border: 1px dashed gray;margin: 0.2em;box-sizing: border-box;padding-bottom: 0.1em;background-color: white;position: relative;}#sk-ec0ec4e4-9ed7-4dd2-a797-6c12e71dad03 div.sk-label label {font-family: monospace;font-weight: bold;background-color: white;display: inline-block;line-height: 1.2em;}#sk-ec0ec4e4-9ed7-4dd2-a797-6c12e71dad03 div.sk-label-container {position: relative;z-index: 2;text-align: center;}#sk-ec0ec4e4-9ed7-4dd2-a797-6c12e71dad03 div.sk-container {display: inline-block;position: relative;}</style><div id=\"sk-ec0ec4e4-9ed7-4dd2-a797-6c12e71dad03\" class\"sk-top-container\"><div class=\"sk-container\"><div class=\"sk-item sk-dashed-wrapped\"><div class=\"sk-label-container\"><div class=\"sk-label sk-toggleable\"><input class=\"sk-toggleable__control sk-hidden--visually\" id=\"7d25867c-aa4d-468b-89a8-bbd20b605f20\" type=\"checkbox\" ><label class=\"sk-toggleable__label\" for=\"7d25867c-aa4d-468b-89a8-bbd20b605f20\">GridSearchCV</label><div class=\"sk-toggleable__content\"><pre>GridSearchCV(cv=[[Int64Index([257221, 333264, 326473, 293211, 182656, 197089,   9030, 319935,\n",
       "             67506, 310387,\n",
       "            ...\n",
       "            137337,  54886, 207892, 110268, 119879, 259178, 365838, 131932,\n",
       "            146867, 121958],\n",
       "           dtype='int64', length=266963),\n",
       "                  Int64Index([ 21683, 310950, 260878, 167058, 351007, 163164, 301310, 233631,\n",
       "            254153, 106125,\n",
       "            ...\n",
       "            327003, 344096, 187760, 252400, 364525, 110185, 247730,  83083,\n",
       "              3286, 128697]...\n",
       "                                                                                          SimpleImputer(fill_value='missing',\n",
       "                                                                                                        strategy='most_frequent')),\n",
       "                                                                                         ('onehot',\n",
       "                                                                                          OneHotEncoder(drop='if_binary',\n",
       "                                                                                                        sparse=False))]),\n",
       "                                                                         ['drive'])])),\n",
       "                                       ('poly_features',\n",
       "                                        PolynomialFeatures(include_bias=False)),\n",
       "                                       ('scaler', StandardScaler()),\n",
       "                                       ('regressor', Ridge())]),\n",
       "             param_grid={'regressor__alpha': [0.01, 0.1, 1, 10, 100, 1000]},\n",
       "             refit='r2', scoring=['neg_mean_squared_error', 'r2'])</pre></div></div></div><div class=\"sk-parallel\"><div class=\"sk-parallel-item\"><div class=\"sk-item\"><div class=\"sk-serial\"><div class=\"sk-item\"><div class=\"sk-serial\"><div class=\"sk-item sk-dashed-wrapped\"><div class=\"sk-label-container\"><div class=\"sk-label sk-toggleable\"><input class=\"sk-toggleable__control sk-hidden--visually\" id=\"9a90bcdd-0f78-4095-9ee9-61fd64d797eb\" type=\"checkbox\" ><label class=\"sk-toggleable__label\" for=\"9a90bcdd-0f78-4095-9ee9-61fd64d797eb\">preprocessor: ColumnTransformer</label><div class=\"sk-toggleable__content\"><pre>ColumnTransformer(transformers=[('pipeline-1',\n",
       "                                 Pipeline(steps=[('imputer',\n",
       "                                                  IterativeImputer(random_state=42))]),\n",
       "                                 ['odometer', 'age']),\n",
       "                                ('pipeline-2',\n",
       "                                 Pipeline(steps=[('imputer',\n",
       "                                                  SimpleImputer(fill_value='missing',\n",
       "                                                                strategy='most_frequent')),\n",
       "                                                 ('target', TargetEncoder())]),\n",
       "                                 ['condition', 'cylinders', 'fuel',\n",
       "                                  'title_status', 'transmission',\n",
       "                                  'manufacturer', 'state', 'type',\n",
       "                                  'paint_color']),\n",
       "                                ('pipeline-3',\n",
       "                                 Pipeline(steps=[('imputer',\n",
       "                                                  SimpleImputer(fill_value='missing',\n",
       "                                                                strategy='most_frequent')),\n",
       "                                                 ('onehot',\n",
       "                                                  OneHotEncoder(drop='if_binary',\n",
       "                                                                sparse=False))]),\n",
       "                                 ['drive'])])</pre></div></div></div><div class=\"sk-parallel\"><div class=\"sk-parallel-item\"><div class=\"sk-item\"><div class=\"sk-label-container\"><div class=\"sk-label sk-toggleable\"><input class=\"sk-toggleable__control sk-hidden--visually\" id=\"fecfc795-ae02-4a5a-a5e5-3983e6b6b3e7\" type=\"checkbox\" ><label class=\"sk-toggleable__label\" for=\"fecfc795-ae02-4a5a-a5e5-3983e6b6b3e7\">pipeline-1</label><div class=\"sk-toggleable__content\"><pre>['odometer', 'age']</pre></div></div></div><div class=\"sk-serial\"><div class=\"sk-item\"><div class=\"sk-serial\"><div class=\"sk-item\"><div class=\"sk-estimator sk-toggleable\"><input class=\"sk-toggleable__control sk-hidden--visually\" id=\"e2a08289-90a2-4676-9eb8-52837d5ca087\" type=\"checkbox\" ><label class=\"sk-toggleable__label\" for=\"e2a08289-90a2-4676-9eb8-52837d5ca087\">IterativeImputer</label><div class=\"sk-toggleable__content\"><pre>IterativeImputer(random_state=42)</pre></div></div></div></div></div></div></div></div><div class=\"sk-parallel-item\"><div class=\"sk-item\"><div class=\"sk-label-container\"><div class=\"sk-label sk-toggleable\"><input class=\"sk-toggleable__control sk-hidden--visually\" id=\"eb26d517-ad1e-477e-970e-3d0bcdf1736c\" type=\"checkbox\" ><label class=\"sk-toggleable__label\" for=\"eb26d517-ad1e-477e-970e-3d0bcdf1736c\">pipeline-2</label><div class=\"sk-toggleable__content\"><pre>['condition', 'cylinders', 'fuel', 'title_status', 'transmission', 'manufacturer', 'state', 'type', 'paint_color']</pre></div></div></div><div class=\"sk-serial\"><div class=\"sk-item\"><div class=\"sk-serial\"><div class=\"sk-item\"><div class=\"sk-estimator sk-toggleable\"><input class=\"sk-toggleable__control sk-hidden--visually\" id=\"c6d63398-4944-4196-8927-6a96b2aee3cd\" type=\"checkbox\" ><label class=\"sk-toggleable__label\" for=\"c6d63398-4944-4196-8927-6a96b2aee3cd\">SimpleImputer</label><div class=\"sk-toggleable__content\"><pre>SimpleImputer(fill_value='missing', strategy='most_frequent')</pre></div></div></div><div class=\"sk-item\"><div class=\"sk-estimator sk-toggleable\"><input class=\"sk-toggleable__control sk-hidden--visually\" id=\"afe744eb-bb26-4eb7-9d2e-48fc08454060\" type=\"checkbox\" ><label class=\"sk-toggleable__label\" for=\"afe744eb-bb26-4eb7-9d2e-48fc08454060\">TargetEncoder</label><div class=\"sk-toggleable__content\"><pre>TargetEncoder()</pre></div></div></div></div></div></div></div></div><div class=\"sk-parallel-item\"><div class=\"sk-item\"><div class=\"sk-label-container\"><div class=\"sk-label sk-toggleable\"><input class=\"sk-toggleable__control sk-hidden--visually\" id=\"452401a6-c461-4ccb-8d88-31d7cf7f05d8\" type=\"checkbox\" ><label class=\"sk-toggleable__label\" for=\"452401a6-c461-4ccb-8d88-31d7cf7f05d8\">pipeline-3</label><div class=\"sk-toggleable__content\"><pre>['drive']</pre></div></div></div><div class=\"sk-serial\"><div class=\"sk-item\"><div class=\"sk-serial\"><div class=\"sk-item\"><div class=\"sk-estimator sk-toggleable\"><input class=\"sk-toggleable__control sk-hidden--visually\" id=\"2361bbaf-8b19-49b8-9d1d-a1331dd005af\" type=\"checkbox\" ><label class=\"sk-toggleable__label\" for=\"2361bbaf-8b19-49b8-9d1d-a1331dd005af\">SimpleImputer</label><div class=\"sk-toggleable__content\"><pre>SimpleImputer(fill_value='missing', strategy='most_frequent')</pre></div></div></div><div class=\"sk-item\"><div class=\"sk-estimator sk-toggleable\"><input class=\"sk-toggleable__control sk-hidden--visually\" id=\"a798165c-9b00-49df-96af-d4434b3e29ae\" type=\"checkbox\" ><label class=\"sk-toggleable__label\" for=\"a798165c-9b00-49df-96af-d4434b3e29ae\">OneHotEncoder</label><div class=\"sk-toggleable__content\"><pre>OneHotEncoder(drop='if_binary', sparse=False)</pre></div></div></div></div></div></div></div></div></div></div><div class=\"sk-item\"><div class=\"sk-estimator sk-toggleable\"><input class=\"sk-toggleable__control sk-hidden--visually\" id=\"42797a5b-30d6-4e5d-98a6-0c2c49e47254\" type=\"checkbox\" ><label class=\"sk-toggleable__label\" for=\"42797a5b-30d6-4e5d-98a6-0c2c49e47254\">PolynomialFeatures</label><div class=\"sk-toggleable__content\"><pre>PolynomialFeatures(include_bias=False)</pre></div></div></div><div class=\"sk-item\"><div class=\"sk-estimator sk-toggleable\"><input class=\"sk-toggleable__control sk-hidden--visually\" id=\"faa4dac8-5ec1-44b3-9aa2-bf819ae7cc51\" type=\"checkbox\" ><label class=\"sk-toggleable__label\" for=\"faa4dac8-5ec1-44b3-9aa2-bf819ae7cc51\">StandardScaler</label><div class=\"sk-toggleable__content\"><pre>StandardScaler()</pre></div></div></div><div class=\"sk-item\"><div class=\"sk-estimator sk-toggleable\"><input class=\"sk-toggleable__control sk-hidden--visually\" id=\"0f7f56ff-e363-479e-8c8f-c830b888c7fd\" type=\"checkbox\" ><label class=\"sk-toggleable__label\" for=\"0f7f56ff-e363-479e-8c8f-c830b888c7fd\">Ridge</label><div class=\"sk-toggleable__content\"><pre>Ridge()</pre></div></div></div></div></div></div></div></div></div></div></div></div>"
      ],
      "text/plain": [
       "GridSearchCV(cv=[[Int64Index([257221, 333264, 326473, 293211, 182656, 197089,   9030, 319935,\n",
       "             67506, 310387,\n",
       "            ...\n",
       "            137337,  54886, 207892, 110268, 119879, 259178, 365838, 131932,\n",
       "            146867, 121958],\n",
       "           dtype='int64', length=266963),\n",
       "                  Int64Index([ 21683, 310950, 260878, 167058, 351007, 163164, 301310, 233631,\n",
       "            254153, 106125,\n",
       "            ...\n",
       "            327003, 344096, 187760, 252400, 364525, 110185, 247730,  83083,\n",
       "              3286, 128697]...\n",
       "                                                                                          SimpleImputer(fill_value='missing',\n",
       "                                                                                                        strategy='most_frequent')),\n",
       "                                                                                         ('onehot',\n",
       "                                                                                          OneHotEncoder(drop='if_binary',\n",
       "                                                                                                        sparse=False))]),\n",
       "                                                                         ['drive'])])),\n",
       "                                       ('poly_features',\n",
       "                                        PolynomialFeatures(include_bias=False)),\n",
       "                                       ('scaler', StandardScaler()),\n",
       "                                       ('regressor', Ridge())]),\n",
       "             param_grid={'regressor__alpha': [0.01, 0.1, 1, 10, 100, 1000]},\n",
       "             refit='r2', scoring=['neg_mean_squared_error', 'r2'])"
      ]
     },
     "execution_count": 746,
     "metadata": {},
     "output_type": "execute_result"
    }
   ],
   "source": [
    "model_finder.fit(X,y) # Fit without log transform"
   ]
  },
  {
   "cell_type": "code",
   "execution_count": 747,
   "metadata": {
    "scrolled": true
   },
   "outputs": [
    {
     "data": {
      "text/plain": [
       "{'mean_fit_time': array([5.16315246, 5.02787781, 5.07544756, 5.07495332, 5.12175298,\n",
       "        5.15994167]),\n",
       " 'std_fit_time': array([0., 0., 0., 0., 0., 0.]),\n",
       " 'mean_score_time': array([0.73703694, 0.70619249, 0.71425009, 0.78434777, 0.80001926,\n",
       "        0.72131252]),\n",
       " 'std_score_time': array([0., 0., 0., 0., 0., 0.]),\n",
       " 'param_regressor__alpha': masked_array(data=[0.01, 0.1, 1, 10, 100, 1000],\n",
       "              mask=[False, False, False, False, False, False],\n",
       "        fill_value='?',\n",
       "             dtype=object),\n",
       " 'params': [{'regressor__alpha': 0.01},\n",
       "  {'regressor__alpha': 0.1},\n",
       "  {'regressor__alpha': 1},\n",
       "  {'regressor__alpha': 10},\n",
       "  {'regressor__alpha': 100},\n",
       "  {'regressor__alpha': 1000}],\n",
       " 'split0_test_neg_mean_squared_error': array([-58765948.40583091, -58765935.24614283, -58765939.23884018,\n",
       "        -58776504.96347149, -59046772.92071968, -59838164.65544808]),\n",
       " 'mean_test_neg_mean_squared_error': array([-58765948.40583091, -58765935.24614283, -58765939.23884018,\n",
       "        -58776504.96347149, -59046772.92071968, -59838164.65544808]),\n",
       " 'std_test_neg_mean_squared_error': array([0., 0., 0., 0., 0., 0.]),\n",
       " 'rank_test_neg_mean_squared_error': array([3, 1, 2, 4, 5, 6]),\n",
       " 'split0_test_r2': array([0.6413266 , 0.64132668, 0.64132665, 0.64126217, 0.63961261,\n",
       "        0.63478241]),\n",
       " 'mean_test_r2': array([0.6413266 , 0.64132668, 0.64132665, 0.64126217, 0.63961261,\n",
       "        0.63478241]),\n",
       " 'std_test_r2': array([0., 0., 0., 0., 0., 0.]),\n",
       " 'rank_test_r2': array([3, 1, 2, 4, 5, 6])}"
      ]
     },
     "execution_count": 747,
     "metadata": {},
     "output_type": "execute_result"
    }
   ],
   "source": [
    "best_model1 = model_finder.best_estimator_\n",
    "model_finder.cv_results_"
   ]
  },
  {
   "cell_type": "code",
   "execution_count": 748,
   "metadata": {
    "scrolled": true
   },
   "outputs": [
    {
     "data": {
      "text/plain": [
       "0.6413266778453954"
      ]
     },
     "execution_count": 748,
     "metadata": {},
     "output_type": "execute_result"
    }
   ],
   "source": [
    "model_finder.best_score_"
   ]
  },
  {
   "cell_type": "markdown",
   "metadata": {},
   "source": [
    "#### Since we found model without log transformation of target with alpha=0.1 to be the best. We compute permutation importance for Ridge model with alpha = 0.1 after applying all transformations"
   ]
  },
  {
   "cell_type": "code",
   "execution_count": 750,
   "metadata": {},
   "outputs": [
    {
     "name": "stdout",
     "output_type": "stream",
     "text": [
      "model r^2 : 0.6413266778453954\n",
      "importance: [0.04381244 0.02862781 0.05894518 0.08394188 0.19742747 0.00888315\n",
      " 0.02170606 0.04201124 0.0564302  0.00143146 0.01361455 0.31154223]\n"
     ]
    },
    {
     "data": {
      "text/html": [
       "<div>\n",
       "<style scoped>\n",
       "    .dataframe tbody tr th:only-of-type {\n",
       "        vertical-align: middle;\n",
       "    }\n",
       "\n",
       "    .dataframe tbody tr th {\n",
       "        vertical-align: top;\n",
       "    }\n",
       "\n",
       "    .dataframe thead th {\n",
       "        text-align: right;\n",
       "    }\n",
       "</style>\n",
       "<table border=\"1\" class=\"dataframe\">\n",
       "  <thead>\n",
       "    <tr style=\"text-align: right;\">\n",
       "      <th></th>\n",
       "      <th>Column</th>\n",
       "      <th>Importance</th>\n",
       "    </tr>\n",
       "  </thead>\n",
       "  <tbody>\n",
       "    <tr>\n",
       "      <th>11</th>\n",
       "      <td>age</td>\n",
       "      <td>0.311542</td>\n",
       "    </tr>\n",
       "    <tr>\n",
       "      <th>4</th>\n",
       "      <td>odometer</td>\n",
       "      <td>0.197427</td>\n",
       "    </tr>\n",
       "    <tr>\n",
       "      <th>3</th>\n",
       "      <td>fuel</td>\n",
       "      <td>0.083942</td>\n",
       "    </tr>\n",
       "    <tr>\n",
       "      <th>2</th>\n",
       "      <td>cylinders</td>\n",
       "      <td>0.058945</td>\n",
       "    </tr>\n",
       "    <tr>\n",
       "      <th>8</th>\n",
       "      <td>type</td>\n",
       "      <td>0.056430</td>\n",
       "    </tr>\n",
       "    <tr>\n",
       "      <th>0</th>\n",
       "      <td>manufacturer</td>\n",
       "      <td>0.043812</td>\n",
       "    </tr>\n",
       "    <tr>\n",
       "      <th>7</th>\n",
       "      <td>drive</td>\n",
       "      <td>0.042011</td>\n",
       "    </tr>\n",
       "    <tr>\n",
       "      <th>1</th>\n",
       "      <td>condition</td>\n",
       "      <td>0.028628</td>\n",
       "    </tr>\n",
       "    <tr>\n",
       "      <th>6</th>\n",
       "      <td>transmission</td>\n",
       "      <td>0.021706</td>\n",
       "    </tr>\n",
       "    <tr>\n",
       "      <th>10</th>\n",
       "      <td>state</td>\n",
       "      <td>0.013615</td>\n",
       "    </tr>\n",
       "    <tr>\n",
       "      <th>5</th>\n",
       "      <td>title_status</td>\n",
       "      <td>0.008883</td>\n",
       "    </tr>\n",
       "    <tr>\n",
       "      <th>9</th>\n",
       "      <td>paint_color</td>\n",
       "      <td>0.001431</td>\n",
       "    </tr>\n",
       "  </tbody>\n",
       "</table>\n",
       "</div>"
      ],
      "text/plain": [
       "          Column  Importance\n",
       "11           age    0.311542\n",
       "4       odometer    0.197427\n",
       "3           fuel    0.083942\n",
       "2      cylinders    0.058945\n",
       "8           type    0.056430\n",
       "0   manufacturer    0.043812\n",
       "7          drive    0.042011\n",
       "1      condition    0.028628\n",
       "6   transmission    0.021706\n",
       "10         state    0.013615\n",
       "5   title_status    0.008883\n",
       "9    paint_color    0.001431"
      ]
     },
     "execution_count": 750,
     "metadata": {},
     "output_type": "execute_result"
    }
   ],
   "source": [
    "features = [c for c in ['manufacturer','condition','cylinders','fuel','odometer','title_status','transmission','drive','type','paint_color','state','age'] if c in X_train.columns]\n",
    "pipe = Pipeline([('preprocessor', preprocessor),\n",
    "                  ('poly_features',(PolynomialFeatures(degree=2, include_bias=False))),\n",
    "                  ('scaler', StandardScaler()),\n",
    "                  ('regressor', Ridge(alpha = 0.1))])\n",
    "\n",
    "model = pipe.fit(X_train, y_train)\n",
    "# score with test set\n",
    "print('model r^2 :', model.score(X_test, y_test))\n",
    "# permutation importance\n",
    "r = permutation_importance(model, X_test, y_test, n_repeats = 50, random_state = 93)\n",
    "print('importance:', r.importances_mean)\n",
    "pd.DataFrame({\"Column\":X.columns, \"Importance\":r.importances_mean}).sort_values(\n",
    "        by = \"Importance\", ascending = False)"
   ]
  },
  {
   "cell_type": "markdown",
   "metadata": {},
   "source": [
    "### Evaluation\n",
    "\n",
    "With some modeling accomplished, we aim to reflect on what we identify as a high quality model and what we are able to learn from this.  We should review our business objective and explore how well we can provide meaningful insight on drivers of used car prices.  Your goal now is to distill your findings and determine whether the earlier phases need revisitation and adjustment or if you have information of value to bring back to your client."
   ]
  },
  {
   "cell_type": "markdown",
   "metadata": {},
   "source": [
    "#### Adjusted model"
   ]
  },
  {
   "cell_type": "markdown",
   "metadata": {},
   "source": [
    "We see that paint_color and title_status are not as important (<10% importance). We will exclude those 2 columns in our future modeling."
   ]
  },
  {
   "cell_type": "code",
   "execution_count": 775,
   "metadata": {},
   "outputs": [],
   "source": [
    "categorical_features1 = ['condition', 'cylinders', 'fuel', 'transmission', 'manufacturer', 'state', 'type']"
   ]
  },
  {
   "cell_type": "code",
   "execution_count": 776,
   "metadata": {},
   "outputs": [],
   "source": [
    "preprocessor1 = make_column_transformer((numeric_transformer, numeric_features),\n",
    "                                       (categorical_transformer, categorical_features1),\n",
    "                                       (oneHot_transformer, oneHot_features),\n",
    "                                       remainder = \"drop\")"
   ]
  },
  {
   "cell_type": "code",
   "execution_count": 777,
   "metadata": {},
   "outputs": [],
   "source": [
    "pipe4 = Pipeline([('preprocessor1', preprocessor1),\n",
    "                  ('poly_features',(PolynomialFeatures(degree=2, include_bias=False))),\n",
    "                  ('scaler', StandardScaler()),\n",
    "                  ('regressor', Ridge())])"
   ]
  },
  {
   "cell_type": "code",
   "execution_count": 778,
   "metadata": {},
   "outputs": [],
   "source": [
    "model_finder = GridSearchCV(estimator = pipe4,\n",
    "                           param_grid = params_to_try,\n",
    "                           scoring = [\"neg_mean_squared_error\", 'r2'], refit='r2',\n",
    "                           cv = [[training_indices, test_indices]])"
   ]
  },
  {
   "cell_type": "code",
   "execution_count": 779,
   "metadata": {},
   "outputs": [
    {
     "data": {
      "text/html": [
       "<style>#sk-a8b3bd85-4273-4a73-990b-86b0345eac2b {color: black;background-color: white;}#sk-a8b3bd85-4273-4a73-990b-86b0345eac2b pre{padding: 0;}#sk-a8b3bd85-4273-4a73-990b-86b0345eac2b div.sk-toggleable {background-color: white;}#sk-a8b3bd85-4273-4a73-990b-86b0345eac2b label.sk-toggleable__label {cursor: pointer;display: block;width: 100%;margin-bottom: 0;padding: 0.2em 0.3em;box-sizing: border-box;text-align: center;}#sk-a8b3bd85-4273-4a73-990b-86b0345eac2b div.sk-toggleable__content {max-height: 0;max-width: 0;overflow: hidden;text-align: left;background-color: #f0f8ff;}#sk-a8b3bd85-4273-4a73-990b-86b0345eac2b div.sk-toggleable__content pre {margin: 0.2em;color: black;border-radius: 0.25em;background-color: #f0f8ff;}#sk-a8b3bd85-4273-4a73-990b-86b0345eac2b input.sk-toggleable__control:checked~div.sk-toggleable__content {max-height: 200px;max-width: 100%;overflow: auto;}#sk-a8b3bd85-4273-4a73-990b-86b0345eac2b div.sk-estimator input.sk-toggleable__control:checked~label.sk-toggleable__label {background-color: #d4ebff;}#sk-a8b3bd85-4273-4a73-990b-86b0345eac2b div.sk-label input.sk-toggleable__control:checked~label.sk-toggleable__label {background-color: #d4ebff;}#sk-a8b3bd85-4273-4a73-990b-86b0345eac2b input.sk-hidden--visually {border: 0;clip: rect(1px 1px 1px 1px);clip: rect(1px, 1px, 1px, 1px);height: 1px;margin: -1px;overflow: hidden;padding: 0;position: absolute;width: 1px;}#sk-a8b3bd85-4273-4a73-990b-86b0345eac2b div.sk-estimator {font-family: monospace;background-color: #f0f8ff;margin: 0.25em 0.25em;border: 1px dotted black;border-radius: 0.25em;box-sizing: border-box;}#sk-a8b3bd85-4273-4a73-990b-86b0345eac2b div.sk-estimator:hover {background-color: #d4ebff;}#sk-a8b3bd85-4273-4a73-990b-86b0345eac2b div.sk-parallel-item::after {content: \"\";width: 100%;border-bottom: 1px solid gray;flex-grow: 1;}#sk-a8b3bd85-4273-4a73-990b-86b0345eac2b div.sk-label:hover label.sk-toggleable__label {background-color: #d4ebff;}#sk-a8b3bd85-4273-4a73-990b-86b0345eac2b div.sk-serial::before {content: \"\";position: absolute;border-left: 1px solid gray;box-sizing: border-box;top: 2em;bottom: 0;left: 50%;}#sk-a8b3bd85-4273-4a73-990b-86b0345eac2b div.sk-serial {display: flex;flex-direction: column;align-items: center;background-color: white;}#sk-a8b3bd85-4273-4a73-990b-86b0345eac2b div.sk-item {z-index: 1;}#sk-a8b3bd85-4273-4a73-990b-86b0345eac2b div.sk-parallel {display: flex;align-items: stretch;justify-content: center;background-color: white;}#sk-a8b3bd85-4273-4a73-990b-86b0345eac2b div.sk-parallel-item {display: flex;flex-direction: column;position: relative;background-color: white;}#sk-a8b3bd85-4273-4a73-990b-86b0345eac2b div.sk-parallel-item:first-child::after {align-self: flex-end;width: 50%;}#sk-a8b3bd85-4273-4a73-990b-86b0345eac2b div.sk-parallel-item:last-child::after {align-self: flex-start;width: 50%;}#sk-a8b3bd85-4273-4a73-990b-86b0345eac2b div.sk-parallel-item:only-child::after {width: 0;}#sk-a8b3bd85-4273-4a73-990b-86b0345eac2b div.sk-dashed-wrapped {border: 1px dashed gray;margin: 0.2em;box-sizing: border-box;padding-bottom: 0.1em;background-color: white;position: relative;}#sk-a8b3bd85-4273-4a73-990b-86b0345eac2b div.sk-label label {font-family: monospace;font-weight: bold;background-color: white;display: inline-block;line-height: 1.2em;}#sk-a8b3bd85-4273-4a73-990b-86b0345eac2b div.sk-label-container {position: relative;z-index: 2;text-align: center;}#sk-a8b3bd85-4273-4a73-990b-86b0345eac2b div.sk-container {display: inline-block;position: relative;}</style><div id=\"sk-a8b3bd85-4273-4a73-990b-86b0345eac2b\" class\"sk-top-container\"><div class=\"sk-container\"><div class=\"sk-item sk-dashed-wrapped\"><div class=\"sk-label-container\"><div class=\"sk-label sk-toggleable\"><input class=\"sk-toggleable__control sk-hidden--visually\" id=\"0c8dff89-7e72-46c6-9bdf-e437caf68ec8\" type=\"checkbox\" ><label class=\"sk-toggleable__label\" for=\"0c8dff89-7e72-46c6-9bdf-e437caf68ec8\">GridSearchCV</label><div class=\"sk-toggleable__content\"><pre>GridSearchCV(cv=[[Int64Index([257221, 333264, 326473, 293211, 182656, 197089,   9030, 319935,\n",
       "             67506, 310387,\n",
       "            ...\n",
       "            137337,  54886, 207892, 110268, 119879, 259178, 365838, 131932,\n",
       "            146867, 121958],\n",
       "           dtype='int64', length=266963),\n",
       "                  Int64Index([ 21683, 310950, 260878, 167058, 351007, 163164, 301310, 233631,\n",
       "            254153, 106125,\n",
       "            ...\n",
       "            327003, 344096, 187760, 252400, 364525, 110185, 247730,  83083,\n",
       "              3286, 128697]...\n",
       "                                                                                          SimpleImputer(fill_value='missing',\n",
       "                                                                                                        strategy='most_frequent')),\n",
       "                                                                                         ('onehot',\n",
       "                                                                                          OneHotEncoder(drop='if_binary',\n",
       "                                                                                                        sparse=False))]),\n",
       "                                                                         ['drive'])])),\n",
       "                                       ('poly_features',\n",
       "                                        PolynomialFeatures(include_bias=False)),\n",
       "                                       ('scaler', StandardScaler()),\n",
       "                                       ('regressor', Ridge())]),\n",
       "             param_grid={'regressor__alpha': [0.01, 0.1, 1, 10, 100, 1000]},\n",
       "             refit='r2', scoring=['neg_mean_squared_error', 'r2'])</pre></div></div></div><div class=\"sk-parallel\"><div class=\"sk-parallel-item\"><div class=\"sk-item\"><div class=\"sk-serial\"><div class=\"sk-item\"><div class=\"sk-serial\"><div class=\"sk-item sk-dashed-wrapped\"><div class=\"sk-label-container\"><div class=\"sk-label sk-toggleable\"><input class=\"sk-toggleable__control sk-hidden--visually\" id=\"c6e7336b-57af-454d-acfc-06fdcbf6c2a9\" type=\"checkbox\" ><label class=\"sk-toggleable__label\" for=\"c6e7336b-57af-454d-acfc-06fdcbf6c2a9\">preprocessor1: ColumnTransformer</label><div class=\"sk-toggleable__content\"><pre>ColumnTransformer(transformers=[('pipeline-1',\n",
       "                                 Pipeline(steps=[('imputer',\n",
       "                                                  IterativeImputer(random_state=42))]),\n",
       "                                 ['odometer', 'age']),\n",
       "                                ('pipeline-2',\n",
       "                                 Pipeline(steps=[('imputer',\n",
       "                                                  SimpleImputer(fill_value='missing',\n",
       "                                                                strategy='most_frequent')),\n",
       "                                                 ('target', TargetEncoder())]),\n",
       "                                 ['condition', 'cylinders', 'fuel',\n",
       "                                  'transmission', 'manufacturer', 'state',\n",
       "                                  'type']),\n",
       "                                ('pipeline-3',\n",
       "                                 Pipeline(steps=[('imputer',\n",
       "                                                  SimpleImputer(fill_value='missing',\n",
       "                                                                strategy='most_frequent')),\n",
       "                                                 ('onehot',\n",
       "                                                  OneHotEncoder(drop='if_binary',\n",
       "                                                                sparse=False))]),\n",
       "                                 ['drive'])])</pre></div></div></div><div class=\"sk-parallel\"><div class=\"sk-parallel-item\"><div class=\"sk-item\"><div class=\"sk-label-container\"><div class=\"sk-label sk-toggleable\"><input class=\"sk-toggleable__control sk-hidden--visually\" id=\"71835bff-473b-4c4a-82c3-7d666c3e0357\" type=\"checkbox\" ><label class=\"sk-toggleable__label\" for=\"71835bff-473b-4c4a-82c3-7d666c3e0357\">pipeline-1</label><div class=\"sk-toggleable__content\"><pre>['odometer', 'age']</pre></div></div></div><div class=\"sk-serial\"><div class=\"sk-item\"><div class=\"sk-serial\"><div class=\"sk-item\"><div class=\"sk-estimator sk-toggleable\"><input class=\"sk-toggleable__control sk-hidden--visually\" id=\"fee231b3-2630-4a43-95f7-79296ac6c839\" type=\"checkbox\" ><label class=\"sk-toggleable__label\" for=\"fee231b3-2630-4a43-95f7-79296ac6c839\">IterativeImputer</label><div class=\"sk-toggleable__content\"><pre>IterativeImputer(random_state=42)</pre></div></div></div></div></div></div></div></div><div class=\"sk-parallel-item\"><div class=\"sk-item\"><div class=\"sk-label-container\"><div class=\"sk-label sk-toggleable\"><input class=\"sk-toggleable__control sk-hidden--visually\" id=\"2de1ee84-737d-4ce8-b8f3-cafd3ce3ec64\" type=\"checkbox\" ><label class=\"sk-toggleable__label\" for=\"2de1ee84-737d-4ce8-b8f3-cafd3ce3ec64\">pipeline-2</label><div class=\"sk-toggleable__content\"><pre>['condition', 'cylinders', 'fuel', 'transmission', 'manufacturer', 'state', 'type']</pre></div></div></div><div class=\"sk-serial\"><div class=\"sk-item\"><div class=\"sk-serial\"><div class=\"sk-item\"><div class=\"sk-estimator sk-toggleable\"><input class=\"sk-toggleable__control sk-hidden--visually\" id=\"c603573f-c76a-496d-85cd-75589e20c395\" type=\"checkbox\" ><label class=\"sk-toggleable__label\" for=\"c603573f-c76a-496d-85cd-75589e20c395\">SimpleImputer</label><div class=\"sk-toggleable__content\"><pre>SimpleImputer(fill_value='missing', strategy='most_frequent')</pre></div></div></div><div class=\"sk-item\"><div class=\"sk-estimator sk-toggleable\"><input class=\"sk-toggleable__control sk-hidden--visually\" id=\"0b6fc391-fcda-40a7-b3b5-f7a0528b521d\" type=\"checkbox\" ><label class=\"sk-toggleable__label\" for=\"0b6fc391-fcda-40a7-b3b5-f7a0528b521d\">TargetEncoder</label><div class=\"sk-toggleable__content\"><pre>TargetEncoder()</pre></div></div></div></div></div></div></div></div><div class=\"sk-parallel-item\"><div class=\"sk-item\"><div class=\"sk-label-container\"><div class=\"sk-label sk-toggleable\"><input class=\"sk-toggleable__control sk-hidden--visually\" id=\"6934289a-f92a-416b-890d-723c78b0c7ab\" type=\"checkbox\" ><label class=\"sk-toggleable__label\" for=\"6934289a-f92a-416b-890d-723c78b0c7ab\">pipeline-3</label><div class=\"sk-toggleable__content\"><pre>['drive']</pre></div></div></div><div class=\"sk-serial\"><div class=\"sk-item\"><div class=\"sk-serial\"><div class=\"sk-item\"><div class=\"sk-estimator sk-toggleable\"><input class=\"sk-toggleable__control sk-hidden--visually\" id=\"fa148e6b-b4b5-4881-bfbb-b76e3f5ecd28\" type=\"checkbox\" ><label class=\"sk-toggleable__label\" for=\"fa148e6b-b4b5-4881-bfbb-b76e3f5ecd28\">SimpleImputer</label><div class=\"sk-toggleable__content\"><pre>SimpleImputer(fill_value='missing', strategy='most_frequent')</pre></div></div></div><div class=\"sk-item\"><div class=\"sk-estimator sk-toggleable\"><input class=\"sk-toggleable__control sk-hidden--visually\" id=\"676a7694-0511-417d-8e04-6eebdf74b1f7\" type=\"checkbox\" ><label class=\"sk-toggleable__label\" for=\"676a7694-0511-417d-8e04-6eebdf74b1f7\">OneHotEncoder</label><div class=\"sk-toggleable__content\"><pre>OneHotEncoder(drop='if_binary', sparse=False)</pre></div></div></div></div></div></div></div></div></div></div><div class=\"sk-item\"><div class=\"sk-estimator sk-toggleable\"><input class=\"sk-toggleable__control sk-hidden--visually\" id=\"4b61b1b4-6727-4880-91ec-30d1d7aea161\" type=\"checkbox\" ><label class=\"sk-toggleable__label\" for=\"4b61b1b4-6727-4880-91ec-30d1d7aea161\">PolynomialFeatures</label><div class=\"sk-toggleable__content\"><pre>PolynomialFeatures(include_bias=False)</pre></div></div></div><div class=\"sk-item\"><div class=\"sk-estimator sk-toggleable\"><input class=\"sk-toggleable__control sk-hidden--visually\" id=\"f4d38893-b3ad-4255-8071-2ef8e398d24b\" type=\"checkbox\" ><label class=\"sk-toggleable__label\" for=\"f4d38893-b3ad-4255-8071-2ef8e398d24b\">StandardScaler</label><div class=\"sk-toggleable__content\"><pre>StandardScaler()</pre></div></div></div><div class=\"sk-item\"><div class=\"sk-estimator sk-toggleable\"><input class=\"sk-toggleable__control sk-hidden--visually\" id=\"c14a341e-e817-4989-94ce-b5668ca29b2b\" type=\"checkbox\" ><label class=\"sk-toggleable__label\" for=\"c14a341e-e817-4989-94ce-b5668ca29b2b\">Ridge</label><div class=\"sk-toggleable__content\"><pre>Ridge()</pre></div></div></div></div></div></div></div></div></div></div></div></div>"
      ],
      "text/plain": [
       "GridSearchCV(cv=[[Int64Index([257221, 333264, 326473, 293211, 182656, 197089,   9030, 319935,\n",
       "             67506, 310387,\n",
       "            ...\n",
       "            137337,  54886, 207892, 110268, 119879, 259178, 365838, 131932,\n",
       "            146867, 121958],\n",
       "           dtype='int64', length=266963),\n",
       "                  Int64Index([ 21683, 310950, 260878, 167058, 351007, 163164, 301310, 233631,\n",
       "            254153, 106125,\n",
       "            ...\n",
       "            327003, 344096, 187760, 252400, 364525, 110185, 247730,  83083,\n",
       "              3286, 128697]...\n",
       "                                                                                          SimpleImputer(fill_value='missing',\n",
       "                                                                                                        strategy='most_frequent')),\n",
       "                                                                                         ('onehot',\n",
       "                                                                                          OneHotEncoder(drop='if_binary',\n",
       "                                                                                                        sparse=False))]),\n",
       "                                                                         ['drive'])])),\n",
       "                                       ('poly_features',\n",
       "                                        PolynomialFeatures(include_bias=False)),\n",
       "                                       ('scaler', StandardScaler()),\n",
       "                                       ('regressor', Ridge())]),\n",
       "             param_grid={'regressor__alpha': [0.01, 0.1, 1, 10, 100, 1000]},\n",
       "             refit='r2', scoring=['neg_mean_squared_error', 'r2'])"
      ]
     },
     "execution_count": 779,
     "metadata": {},
     "output_type": "execute_result"
    }
   ],
   "source": [
    "#Remove features with low importance and fit model\n",
    "X1 = X.drop(['paint_color','title_status'], axis=1)\n",
    "model_finder.fit(X1,y)"
   ]
  },
  {
   "cell_type": "code",
   "execution_count": 896,
   "metadata": {},
   "outputs": [
    {
     "data": {
      "text/plain": [
       "{'mean_fit_time': array([4.31562614, 4.02383661, 4.002002  , 3.93019915, 4.1906271 ,\n",
       "        4.07324719]),\n",
       " 'std_fit_time': array([0., 0., 0., 0., 0., 0.]),\n",
       " 'mean_score_time': array([0.66118073, 0.58324552, 0.56508088, 0.6277585 , 0.5961597 ,\n",
       "        0.613096  ]),\n",
       " 'std_score_time': array([0., 0., 0., 0., 0., 0.]),\n",
       " 'param_regressor__alpha': masked_array(data=[0.01, 0.1, 1, 10, 100, 1000],\n",
       "              mask=[False, False, False, False, False, False],\n",
       "        fill_value='?',\n",
       "             dtype=object),\n",
       " 'params': [{'regressor__alpha': 0.01},\n",
       "  {'regressor__alpha': 0.1},\n",
       "  {'regressor__alpha': 1},\n",
       "  {'regressor__alpha': 10},\n",
       "  {'regressor__alpha': 100},\n",
       "  {'regressor__alpha': 1000}],\n",
       " 'split0_test_neg_mean_squared_error': array([-59394175.54750731, -59394188.15516831, -59394428.12654306,\n",
       "        -59405765.25080516, -59662696.05564089, -60400217.49066035]),\n",
       " 'mean_test_neg_mean_squared_error': array([-59394175.54750731, -59394188.15516831, -59394428.12654306,\n",
       "        -59405765.25080516, -59662696.05564089, -60400217.49066035]),\n",
       " 'std_test_neg_mean_squared_error': array([0., 0., 0., 0., 0., 0.]),\n",
       " 'rank_test_neg_mean_squared_error': array([1, 2, 3, 4, 5, 6]),\n",
       " 'split0_test_r2': array([0.63749226, 0.63749219, 0.63749072, 0.63742153, 0.63585337,\n",
       "        0.63135196]),\n",
       " 'mean_test_r2': array([0.63749226, 0.63749219, 0.63749072, 0.63742153, 0.63585337,\n",
       "        0.63135196]),\n",
       " 'std_test_r2': array([0., 0., 0., 0., 0., 0.]),\n",
       " 'rank_test_r2': array([1, 2, 3, 4, 5, 6])}"
      ]
     },
     "execution_count": 896,
     "metadata": {},
     "output_type": "execute_result"
    }
   ],
   "source": [
    "best_model = model_finder.best_estimator_\n",
    "model_finder.cv_results_"
   ]
  },
  {
   "cell_type": "markdown",
   "metadata": {},
   "source": [
    "Even after excluding these two columns, we get a R2 of about .63 meaning 63% of the variation is explained by our model. The best R2 is obtained with alpha = 0.01."
   ]
  },
  {
   "cell_type": "code",
   "execution_count": 891,
   "metadata": {},
   "outputs": [
    {
     "name": "stdout",
     "output_type": "stream",
     "text": [
      "importance: [0.04522502 0.03025452 0.06006291 0.08451121 0.19334099 0.02174225\n",
      " 0.04314349 0.05796849 0.01365548 0.32120401]\n"
     ]
    },
    {
     "data": {
      "text/html": [
       "<div>\n",
       "<style scoped>\n",
       "    .dataframe tbody tr th:only-of-type {\n",
       "        vertical-align: middle;\n",
       "    }\n",
       "\n",
       "    .dataframe tbody tr th {\n",
       "        vertical-align: top;\n",
       "    }\n",
       "\n",
       "    .dataframe thead th {\n",
       "        text-align: right;\n",
       "    }\n",
       "</style>\n",
       "<table border=\"1\" class=\"dataframe\">\n",
       "  <thead>\n",
       "    <tr style=\"text-align: right;\">\n",
       "      <th></th>\n",
       "      <th>Column</th>\n",
       "      <th>Importance</th>\n",
       "    </tr>\n",
       "  </thead>\n",
       "  <tbody>\n",
       "    <tr>\n",
       "      <th>9</th>\n",
       "      <td>age</td>\n",
       "      <td>0.321204</td>\n",
       "    </tr>\n",
       "    <tr>\n",
       "      <th>4</th>\n",
       "      <td>odometer</td>\n",
       "      <td>0.193341</td>\n",
       "    </tr>\n",
       "    <tr>\n",
       "      <th>3</th>\n",
       "      <td>fuel</td>\n",
       "      <td>0.084511</td>\n",
       "    </tr>\n",
       "    <tr>\n",
       "      <th>2</th>\n",
       "      <td>cylinders</td>\n",
       "      <td>0.060063</td>\n",
       "    </tr>\n",
       "    <tr>\n",
       "      <th>7</th>\n",
       "      <td>type</td>\n",
       "      <td>0.057968</td>\n",
       "    </tr>\n",
       "    <tr>\n",
       "      <th>0</th>\n",
       "      <td>manufacturer</td>\n",
       "      <td>0.045225</td>\n",
       "    </tr>\n",
       "    <tr>\n",
       "      <th>6</th>\n",
       "      <td>drive</td>\n",
       "      <td>0.043143</td>\n",
       "    </tr>\n",
       "    <tr>\n",
       "      <th>1</th>\n",
       "      <td>condition</td>\n",
       "      <td>0.030255</td>\n",
       "    </tr>\n",
       "    <tr>\n",
       "      <th>5</th>\n",
       "      <td>transmission</td>\n",
       "      <td>0.021742</td>\n",
       "    </tr>\n",
       "    <tr>\n",
       "      <th>8</th>\n",
       "      <td>state</td>\n",
       "      <td>0.013655</td>\n",
       "    </tr>\n",
       "  </tbody>\n",
       "</table>\n",
       "</div>"
      ],
      "text/plain": [
       "         Column  Importance\n",
       "9           age    0.321204\n",
       "4      odometer    0.193341\n",
       "3          fuel    0.084511\n",
       "2     cylinders    0.060063\n",
       "7          type    0.057968\n",
       "0  manufacturer    0.045225\n",
       "6         drive    0.043143\n",
       "1     condition    0.030255\n",
       "5  transmission    0.021742\n",
       "8         state    0.013655"
      ]
     },
     "execution_count": 891,
     "metadata": {},
     "output_type": "execute_result"
    }
   ],
   "source": [
    "r = permutation_importance(best_model, X1, y, n_repeats = 50, random_state = 93)\n",
    "print('importance:', r.importances_mean)\n",
    "pd.DataFrame({\"Column\":X1.columns, \"Importance\":r.importances_mean}).sort_values(\n",
    "        by = \"Importance\", ascending = False)"
   ]
  },
  {
   "cell_type": "markdown",
   "metadata": {},
   "source": [
    "Cross Validation"
   ]
  },
  {
   "cell_type": "code",
   "execution_count": 893,
   "metadata": {},
   "outputs": [
    {
     "name": "stdout",
     "output_type": "stream",
     "text": [
      "[0.60109648 0.64947036 0.62237556]\n"
     ]
    }
   ],
   "source": [
    "#Cross Validation\n",
    "result = cross_val_score(best_model, X1, y,  cv=3)\n",
    "print(result)"
   ]
  },
  {
   "cell_type": "markdown",
   "metadata": {},
   "source": [
    "Prediction on test data"
   ]
  },
  {
   "cell_type": "code",
   "execution_count": 901,
   "metadata": {},
   "outputs": [],
   "source": [
    "y_predicted = model_finder.predict(X_test.drop(['paint_color','title_status'], axis=1))"
   ]
  },
  {
   "cell_type": "markdown",
   "metadata": {},
   "source": [
    "Plot true vs predicted prices"
   ]
  },
  {
   "cell_type": "code",
   "execution_count": 919,
   "metadata": {},
   "outputs": [
    {
     "data": {
      "text/plain": [
       "(-2921.15, 127410.96666187714, -31480.491578392943, 98851.62508348419)"
      ]
     },
     "execution_count": 919,
     "metadata": {},
     "output_type": "execute_result"
    },
    {
     "data": {
      "image/png": "[encoded data removed]",
      "text/plain": [
       "<Figure size 432x288 with 1 Axes>"
      ]
     },
     "metadata": {
      "needs_background": "light"
     },
     "output_type": "display_data"
    }
   ],
   "source": [
    "g=plt.scatter(y_test, y_predicted)\n",
    "#g.axes.set_yscale('log')\n",
    "#g.axes.set_xscale('log')\n",
    "g.axes.set_xlabel('True Values ')\n",
    "g.axes.set_ylabel('Predictions ')\n",
    "g.axes.axis('equal')\n",
    "g.axes.axis('square')\n",
    "#p1 = max(max(predicted_value), max(true_value))\n",
    "#p2 = min(min(predicted_value), min(true_value))\n",
    "#plt.plot([p1, p2], [p1, p2], 'b-')"
   ]
  },
  {
   "cell_type": "markdown",
   "metadata": {},
   "source": [
    "Plot difference in true vs predicted prices"
   ]
  },
  {
   "cell_type": "code",
   "execution_count": 925,
   "metadata": {
    "scrolled": true
   },
   "outputs": [
    {
     "data": {
      "image/png": "[encoded data removed]",
      "text/plain": [
       "<Figure size 432x288 with 1 Axes>"
      ]
     },
     "metadata": {
      "needs_background": "light"
     },
     "output_type": "display_data"
    }
   ],
   "source": [
    "#PLot absolute value of differences \n",
    "y_diff=np.array(y_test - y_predicted)\n",
    "g = plt.plot(abs(y_diff),marker='o',linestyle='')"
   ]
  },
  {
   "cell_type": "markdown",
   "metadata": {},
   "source": [
    "Plot Histogram of prediction errors"
   ]
  },
  {
   "cell_type": "code",
   "execution_count": 924,
   "metadata": {},
   "outputs": [
    {
     "data": {
      "text/plain": [
       "Text(0, 0.5, 'Frequency')"
      ]
     },
     "execution_count": 924,
     "metadata": {},
     "output_type": "execute_result"
    },
    {
     "data": {
      "image/png": "[encoded data removed]",
      "text/plain": [
       "<Figure size 432x288 with 1 Axes>"
      ]
     },
     "metadata": {
      "needs_background": "light"
     },
     "output_type": "display_data"
    }
   ],
   "source": [
    "diff = y_test - y_predicted\n",
    "diff.hist(bins = 50)\n",
    "plt.title('Histogram of prediction errors')\n",
    "plt.xlabel('Price prediction error')\n",
    "plt.ylabel('Frequency')"
   ]
  },
  {
   "cell_type": "markdown",
   "metadata": {},
   "source": [
    "Plot true vs predicted prices using log scale"
   ]
  },
  {
   "cell_type": "code",
   "execution_count": 910,
   "metadata": {},
   "outputs": [
    {
     "data": {
      "image/png": "[encoded data removed]",
      "text/plain": [
       "<Figure size 720x720 with 1 Axes>"
      ]
     },
     "metadata": {
      "needs_background": "light"
     },
     "output_type": "display_data"
    }
   ],
   "source": [
    "plt.figure(figsize=(10,10))\n",
    "plt.scatter(y_test, y_predicted, c='crimson')\n",
    "plt.yscale('log')\n",
    "plt.xscale('log')\n",
    "\n",
    "p1 = max(max(y_predicted), max(y_test))\n",
    "p2 = min(min(y_predicted), min(y_test))\n",
    "plt.plot([p1, p2], [p1, p2], 'b-')\n",
    "plt.xlabel('True Values', fontsize=15)\n",
    "plt.ylabel('Predictions', fontsize=15)\n",
    "plt.axis('equal')\n",
    "plt.show()"
   ]
  },
  {
   "cell_type": "markdown",
   "metadata": {},
   "source": [
    "We have our final adjusted model and done cross validation on it after dropping the low importance features. We have the top 10 features that have an impact on price of used cars with age(current year - manufacture year) and odometer(miles driven) being the top two features. The model overall explains more than 60% of the variation in used car prices."
   ]
  },
  {
   "cell_type": "markdown",
   "metadata": {},
   "source": [
    "### Deployment\n",
    "\n",
    "Now that we've settled on our models and findings, it is time to deliver the information to the client.  You should organize your work as a basic report that details your primary findings.  Keep in mind that your audience is a group of used car dealers interested in fine tuning their inventory."
   ]
  },
  {
   "cell_type": "markdown",
   "metadata": {},
   "source": [
    "Based on our dataset and current models, we have a model that will predict about 62% variation in used car prices."
   ]
  },
  {
   "cell_type": "markdown",
   "metadata": {},
   "source": [
    "Age of car(Current year - Manufacture year) and odometer(miles driven) are the top two important features that determine used car prices. Newer and less driven cars have higher prices."
   ]
  },
  {
   "cell_type": "markdown",
   "metadata": {},
   "source": [
    "You can use this model to predict the price of used cars. I recommend in the future selecting cars whose actual values are less than the values predicted by this model so that you can maximize the profit. YOu can buy cars for lower price than it is worth to keep in inventory."
   ]
  },
  {
   "cell_type": "markdown",
   "metadata": {},
   "source": [
    "In the future, we can apply more advanced modeling techniques like Logistic Regression, XGBoost, RandomForest and such to improve the performance of our model."
   ]
  }
 ],
 "metadata": {
  "kernelspec": {
   "display_name": "Python 3 (ipykernel)",
   "language": "python",
   "name": "python3"
  },
  "language_info": {
   "codemirror_mode": {
    "name": "ipython",
    "version": 3
   },
   "file_extension": ".py",
   "mimetype": "text/x-python",
   "name": "python",
   "nbconvert_exporter": "python",
   "pygments_lexer": "ipython3",
   "version": "3.9.7"
  },
  "widgets": {
   "application/vnd.jupyter.widget-state+json": {
    "state": {},
    "version_major": 2,
    "version_minor": 0
   }
  }
 },
 "nbformat": 4,
 "nbformat_minor": 4
}
